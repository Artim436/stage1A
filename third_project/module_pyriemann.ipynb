{
 "cells": [
  {
   "cell_type": "code",
   "execution_count": 1,
   "id": "8258e5eb",
   "metadata": {},
   "outputs": [],
   "source": [
    "%matplotlib inline\n",
    "#!/usr/bin/env python3\n",
    "\n",
    "import numpy as np\n",
    "import matplotlib.pyplot as plt\n",
    "import random as rd\n",
    "from mpl_toolkits.mplot3d import Axes3D\n",
    "from sklearn.utils import check_random_state\n",
    "from scipy.stats import multivariate_normal\n",
    "import time\n",
    "import math as m"
   ]
  },
  {
   "cell_type": "markdown",
   "id": "9e765884",
   "metadata": {},
   "source": [
    "## Différentes idées pour l'implémentation de l'algorithme de sampling gaussien de matrice SPD de dimension 2\n",
    "\n",
    "Puisque cet algorithme doit pouvoir être utilisé facilement il doit respecter certains critères.\n",
    "1) minimiser la complexité temporelle\n",
    "2) minimiser la complexité spatiale\n",
    "3) sampler le nombre exact de matrices demandé par l'utilisateur\n",
    "4) être résistant à la casse (ne doit jamais planter)\n",
    "\n",
    "### L'algorithme implémenté par Mr. Pedro L.C. Rodrigues vérifie les conditions 1) et 4)."
   ]
  },
  {
   "cell_type": "code",
   "execution_count": 2,
   "id": "587dc7ea",
   "metadata": {},
   "outputs": [
    {
     "name": "stdout",
     "output_type": "stream",
     "text": [
      "temps par matrices en e-5 secondes: 4.342576981308138\n",
      "nombre de couple générée: 5318\n"
     ]
    }
   ],
   "source": [
    "start = time.time()\n",
    "N = 10_000\n",
    "s = 1.0\n",
    "T = 10\n",
    "\n",
    "b = np.random.binomial(1, 0.5, N)\n",
    "mu0 = np.array([s**2/2, -s**2/2])\n",
    "cv0 = s**2*np.eye(2)\n",
    "mu1 = np.array([-s**2/2, s**2/2])\n",
    "cv1 = s**2*np.eye(2)\n",
    "\n",
    "u0 = np.random.rand(sum(b > 0))\n",
    "r0_candidates = multivariate_normal.rvs(\n",
    "    mean=mu0, \n",
    "    cov=cv0, \n",
    "    size=sum(b > 0))\n",
    "u1 = np.random.rand(N - sum(b > 0))\n",
    "r1_candidates = multivariate_normal.rvs(\n",
    "    mean=mu1, \n",
    "    cov=cv1, \n",
    "    size=N - sum(b > 0))\n",
    "\n",
    "def test0(r, s):\n",
    "    mu0 = np.array([s**2/2, -s**2/2])\n",
    "    cv0 = s**2*np.eye(2)    \n",
    "    if (r[0] - r[1]) < 0:\n",
    "        return 0\n",
    "    else:\n",
    "        M = np.pi*(s**2)*np.exp(s**2/4)\n",
    "        num = np.exp(-1/(2*s**2) * np.sum(r**2)) * np.sinh((r[0] - r[1])/2) * 1/M\n",
    "        den = multivariate_normal.pdf(r, mean=mu0, cov=cv0)\n",
    "        return num / den\n",
    "\n",
    "def test1(r, s):\n",
    "    mu1 = np.array([-s**2/2, s**2/2])\n",
    "    cv1 = s**2*np.eye(2)    \n",
    "    if (r[1] - r[0]) < 0:\n",
    "        return 0\n",
    "    else:\n",
    "        M = np.pi*(s**2)*np.exp(s**2/4)\n",
    "        num = np.exp(-1/(2*s**2) * np.sum(r**2)) * np.sinh((r[1] - r[0])/2) * 1/M\n",
    "        den = multivariate_normal.pdf(r, mean=mu1, cov=cv1)\n",
    "        return num / den\n",
    "\n",
    "t0 = np.array([test0(ri, s) for ri in r0_candidates])\n",
    "r0 = r0_candidates[u0 < t0]\n",
    "t1 = np.array([test1(ri, s) for ri in r1_candidates])\n",
    "r1 = r1_candidates[u1 < t1]\n",
    "r = np.concatenate([r0, r1])\n",
    "\n",
    "end  = time.time()\n",
    "print(\"temps par matrices en e-5 secondes:\", (end - start)*N/r.shape[0]) #temps par matrices en e-5 secondes\n",
    "print(\"nombre de couple générée:\", r.shape[0])"
   ]
  },
  {
   "cell_type": "markdown",
   "id": "c105d063",
   "metadata": {},
   "source": [
    "### Ci-dessous, une première idée d'algorithme qui vérifie les conditions 1) et 3). "
   ]
  },
  {
   "cell_type": "code",
   "execution_count": 3,
   "id": "063e925e",
   "metadata": {},
   "outputs": [
    {
     "name": "stdout",
     "output_type": "stream",
     "text": [
      "temps par matrices en e-5 secondes : 4.237940073013306\n",
      "nombre de couple générée: 10000\n"
     ]
    }
   ],
   "source": [
    "start2 = time.time()\n",
    "\n",
    "def rejection_sampling_A_2(sigma, r):\n",
    "    MU_A = np.array([sigma**2/2, -sigma**2/2])\n",
    "    COV_MATRIX = (sigma**2)*np.eye(2)\n",
    "    M = np.pi*(sigma**2)*np.exp(sigma**2/4)\n",
    "    if r[0] >= r[1]:\n",
    "        M = np.pi*(sigma**2)*np.exp(sigma**2/4)\n",
    "        num = np.exp(-1/(2*sigma**2) * np.sum(r**2)) * np.sinh((r[0] - r[1])/2) * 1/M\n",
    "        den = multivariate_normal.pdf(r, mean=MU_A, cov=COV_MATRIX)\n",
    "        return num / den\n",
    "    return 0\n",
    "    \n",
    "def rejection_sampling_B_2(sigma, r):\n",
    "    MU_B = np.array([-sigma**2/2, sigma**2/2])\n",
    "    COV_MATRIX = (sigma**2)*np.eye(2)\n",
    "    M = np.pi*(sigma**2)*np.exp(sigma**2/4)\n",
    "    if r[0] < r[1]:\n",
    "        M = np.pi*(sigma**2)*np.exp(sigma**2/4)\n",
    "        num = np.exp(-1/(2*sigma**2) * np.sum(r**2)) * np.sinh((r[1] - r[0])/2)\n",
    "        den = multivariate_normal.pdf(r, mean=MU_B, cov=COV_MATRIX)*M\n",
    "        return num/den\n",
    "    return 0\n",
    "\n",
    "\n",
    "def rejection_sampling_2(sigma, n):\n",
    "    MU_A = np.array([sigma**2/2, -sigma**2/2])\n",
    "    MU_B = np.array([-sigma**2/2, sigma**2/2])\n",
    "    COV_MATRIX = (sigma**2)*np.eye(2)\n",
    "    M = np.pi*(sigma**2)*np.exp(sigma**2/4)\n",
    "    RES = []\n",
    "    cpt = 0\n",
    "    B = np.random.binomial(1, 0.5, 2*n)    # le 2n est choisie arbitrairement et pose problème\n",
    "    M1 = multivariate_normal.rvs(MU_A, COV_MATRIX, 2*n)  # le 2n est choisie arbitrairement et pose problème\n",
    "    M2 = multivariate_normal.rvs(MU_B, COV_MATRIX, 2*n)   # le 2n est choisie arbitrairement et pose problème\n",
    "    N = np.random.rand(2*n)\n",
    "    i = 0\n",
    "    k = 0\n",
    "    l = 0\n",
    "    while cpt != n:\n",
    "        if B[i] == 1:\n",
    "            r = M1[k]\n",
    "            k+=1\n",
    "            res = rejection_sampling_A_2(sigma, r)\n",
    "            if N[i] < res:\n",
    "                RES.append(r)\n",
    "                cpt += 1\n",
    "            i+=1\n",
    "        else:\n",
    "            r = M2[l]\n",
    "            l+=1\n",
    "            res = rejection_sampling_B_2(sigma, r)\n",
    "            if N[i] < res:\n",
    "                RES.append(r)\n",
    "                cpt+=1\n",
    "            i+=1\n",
    "    return np.array(RES)\n",
    "\n",
    "R_2 = rejection_sampling_2(1, 10000)\n",
    "end2 = time.time()\n",
    "\n",
    "print(\"temps par matrices en e-5 secondes :\" ,(end2 - start2)*10000/R_2.shape[0]) #temps par matrices en e-5 secondes\n",
    "\n",
    "print(\"nombre de couple générée:\",np.shape(R_2)[0])"
   ]
  },
  {
   "cell_type": "markdown",
   "id": "48b21c67",
   "metadata": {},
   "source": [
    "Le problème principale de cet algortihme est qu'on doive determiner à l'avance une approximation du nombre de vecteur à 2 dimensions qui seront acceptées par l'algo. Si on accepte $f$% des matrices il suffira de remplacer les $2n$ dans M1, M2 et N par $n/f$ ou $100 + 2n/f$ par exemple.\n",
    "\n",
    "Cependant ce f que l'on cherche qui dépend de sigma est exactement la constante de normalisation qui nous est inconnu, divisée par $M$.\n",
    "\n",
    "Cependant on peut en trouver une approximation qui permettrai de générer assez d'éléments de M1, M2 et N sans jamais faire planter l'algo (cas qui arrive quand la shape de M1, M2 ou N est trop faible)\n",
    "\n",
    "C'est ce que nous verrons à la fin de ce document\n",
    "\n",
    "\n",
    "\n",
    "\n",
    "### Voici une deuxième idée d'algorithme qui vérifie les conditions 2), 3) et 4)."
   ]
  },
  {
   "cell_type": "code",
   "execution_count": 4,
   "id": "2e05e720",
   "metadata": {},
   "outputs": [
    {
     "name": "stdout",
     "output_type": "stream",
     "text": [
      "temps par matrices en e-5 secondes: 14.482177019119263\n",
      "nombre de couple générée: 10000\n"
     ]
    }
   ],
   "source": [
    "start1 = time.time()\n",
    "def rejection_sampling_A(sigma, r):\n",
    "    MU_A = np.array([sigma**2/2, -sigma**2/2])\n",
    "    COV_MATRIX = (sigma**2)*np.eye(2)\n",
    "    M = np.pi*(sigma**2)*np.exp(sigma**2/4)\n",
    "    if r[0] >= r[1]:\n",
    "        M = np.pi*(sigma**2)*np.exp(sigma**2/4)\n",
    "        num = np.exp(-1/(2*sigma**2) * np.sum(r**2)) * np.sinh((r[0] - r[1])/2) * 1/M\n",
    "        den = multivariate_normal.pdf(r, mean=MU_A, cov=COV_MATRIX)\n",
    "        return num / den\n",
    "    return 0\n",
    "    \n",
    "def rejection_sampling_B(sigma, r):\n",
    "    MU_B = np.array([-sigma**2/2, sigma**2/2])\n",
    "    COV_MATRIX = (sigma**2)*np.eye(2)\n",
    "    M = np.pi*(sigma**2)*np.exp(sigma**2/4)\n",
    "    if r[0] < r[1]:\n",
    "        M = np.pi*(sigma**2)*np.exp(sigma**2/4)\n",
    "        num = np.exp(-1/(2*sigma**2) * np.sum(r**2)) * np.sinh((r[1] - r[0])/2)\n",
    "        den = multivariate_normal.pdf(r, mean=MU_B, cov=COV_MATRIX)*M\n",
    "        return num/den\n",
    "    return 0\n",
    "\n",
    "\n",
    "def rejection_sampling(sigma, n):\n",
    "    MU_A = np.array([sigma**2/2, -sigma**2/2])\n",
    "    MU_B = np.array([-sigma**2/2, sigma**2/2])\n",
    "    COV_MATRIX = (sigma**2)*np.eye(2)\n",
    "    M = np.pi*(sigma**2)*np.exp(sigma**2/4)\n",
    "    RES = []\n",
    "    cpt = 0\n",
    "    while cpt != n:\n",
    "        if np.random.binomial(1, 0.5, 1) == 1:  # correction du pb du prgm précédent\n",
    "            r = multivariate_normal.rvs(MU_A, COV_MATRIX, 1) # correction du pb du prgm précédent\n",
    "            res = rejection_sampling_A(sigma, r) \n",
    "            if np.random.rand(1) < res:   # correction du pb du prgm précédent\n",
    "                RES.append(r)\n",
    "                cpt += 1\n",
    "        else:\n",
    "            r = multivariate_normal.rvs(MU_B, COV_MATRIX, 1)  # correction du pb du prgm précédent\n",
    "            res = rejection_sampling_B(sigma, r)\n",
    "            if np.random.rand(1) < res:  # correction du pb du prgm précédent\n",
    "                RES.append(r)\n",
    "                cpt+=1\n",
    "    return np.array(RES)\n",
    "\n",
    "R = rejection_sampling(1, 10000)\n",
    "end1 = time.time()\n",
    "\n",
    "print(\"temps par matrices en e-5 secondes:\",(end1 - start1)*10000/R.shape[0]) #temps par matrices en e-5 secondes\n",
    "\n",
    "print(\"nombre de couple générée:\", R.shape[0])"
   ]
  },
  {
   "cell_type": "markdown",
   "id": "7e1cea5f",
   "metadata": {},
   "source": [
    "Cet algorithme ne gérère que ce qui est nécessaire \n",
    "\n",
    "\n",
    "(ex: dans cet algo on a multivariate_normal.rvs(MU_A, COV_MATRIX, 1) \n",
    "\n",
    "au lieu multivariate_normal.rvs(MU_A, COV_MATRIX, 2*n) dans l'algo précédent ou encore, \n",
    "\n",
    "\n",
    "np.random.binomial(1, 0.5, 1) au lieu de np.random.binomial(1, 0.5, 2*n), ...)\n",
    "\n",
    " ce qui permet gagner beaucoup d'espace de stockage, de ne jamais planter mais c'est malheureusement plus lent)."
   ]
  },
  {
   "cell_type": "markdown",
   "id": "14a8796f",
   "metadata": {},
   "source": [
    "### Reprenons ce qui a été dis précédemment sur la probabilité d'acceptation de notre algorithme\n",
    "\n",
    "L'algo suivant permet par la suite de tracer la fameuse fréquence que l'on cherche ie de tracer la constante de normalisation (dépendant de sigma) qui nous est inconnu, divisée par $M$\n",
    "\n",
    "(Il s'agit enfaite du même algo que le premier présenté dans ce notebook)"
   ]
  },
  {
   "cell_type": "code",
   "execution_count": 5,
   "id": "b486156a",
   "metadata": {},
   "outputs": [
    {
     "name": "stdout",
     "output_type": "stream",
     "text": [
      "temps par matrices en e-5 secondes : 4.8233394945709005\n",
      "nombre de couple générée: 5198\n"
     ]
    }
   ],
   "source": [
    "start2 = time.time()\n",
    "\n",
    "def rejection_sampling_A_3(sigma, r):\n",
    "    MU_A = np.array([sigma**2/2, -sigma**2/2])\n",
    "    COV_MATRIX = (sigma**2)*np.eye(2)\n",
    "    M = np.pi*(sigma**2)*np.exp(sigma**2/4)\n",
    "    if r[0] >= r[1]:\n",
    "        M = np.pi*(sigma**2)*np.exp(sigma**2/4)\n",
    "        num = np.exp(-1/(2*sigma**2) * np.sum(r**2)) * np.sinh((r[0] - r[1])/2) * 1/M\n",
    "        den = multivariate_normal.pdf(r, mean=MU_A, cov=COV_MATRIX)\n",
    "        return num / den\n",
    "    return 0\n",
    "    \n",
    "def rejection_sampling_B_3(sigma, r):\n",
    "    MU_B = np.array([-sigma**2/2, sigma**2/2])\n",
    "    COV_MATRIX = (sigma**2)*np.eye(2)\n",
    "    M = np.pi*(sigma**2)*np.exp(sigma**2/4)\n",
    "    if r[0] < r[1]:\n",
    "        M = np.pi*(sigma**2)*np.exp(sigma**2/4)\n",
    "        num = np.exp(-1/(2*sigma**2) * np.sum(r**2)) * np.sinh((r[1] - r[0])/2)\n",
    "        den = multivariate_normal.pdf(r, mean=MU_B, cov=COV_MATRIX)*M\n",
    "        return num/den\n",
    "    return 0\n",
    "\n",
    "\n",
    "def rejection_sampling_3(sigma, n):\n",
    "    MU_A = np.array([sigma**2/2, -sigma**2/2])\n",
    "    MU_B = np.array([-sigma**2/2, sigma**2/2])\n",
    "    COV_MATRIX = (sigma**2)*np.eye(2)\n",
    "    M = np.pi*(sigma**2)*np.exp(sigma**2/4)\n",
    "    RES = []\n",
    "    cpt = 0\n",
    "    B = np.random.binomial(1, 0.5, n)\n",
    "    M1 = multivariate_normal.rvs(MU_A, COV_MATRIX, n)\n",
    "    M2 = multivariate_normal.rvs(MU_B, COV_MATRIX, n)\n",
    "    N = np.random.rand(10*n)\n",
    "    i = 0\n",
    "    k = 0\n",
    "    l = 0\n",
    "    for i in range(n):\n",
    "        if B[i] == 1:\n",
    "            r = M1[k]\n",
    "            k+=1\n",
    "            res = rejection_sampling_A_3(sigma, r)\n",
    "            if N[i] < res:\n",
    "                RES.append(r)\n",
    "        else:\n",
    "            r = M2[l]\n",
    "            l+=1\n",
    "            res = rejection_sampling_B_3(sigma, r)\n",
    "            if N[i] < res:\n",
    "                RES.append(r)\n",
    "    return np.array(RES)\n",
    "\n",
    "R_2 = rejection_sampling_3(1, 10000)\n",
    "end2 = time.time()\n",
    "\n",
    "print(\"temps par matrices en e-5 secondes :\" ,(end2 - start2)*10000/R_2.shape[0]) #temps par matrices en e-5 secondes\n",
    "\n",
    "print(\"nombre de couple générée:\", np.shape(R_2)[0])"
   ]
  },
  {
   "cell_type": "code",
   "execution_count": 6,
   "id": "1c3ea50e",
   "metadata": {},
   "outputs": [
    {
     "data": {
      "image/png": "[encoded data removed]",
      "text/plain": [
       "<Figure size 432x288 with 1 Axes>"
      ]
     },
     "metadata": {
      "needs_background": "light"
     },
     "output_type": "display_data"
    }
   ],
   "source": [
    "\n",
    "def NC_on_M(sigma, n):\n",
    "    return rejection_sampling_3(sigma, n).shape[0]/n\n",
    "\n",
    "X = np.array([sigma for sigma in np.linspace(0.1, 5, 1000)])\n",
    "Y = np.array([NC_on_M(sigma, 100) for sigma in X])\n",
    "Y2 = np.array([NC_on_M(sigma, 1000) for sigma in X])\n",
    "# Y3 = np.array([NC_on_M(sigma, 10000) for sigma in X])\n",
    "\n",
    "plt.title(\"Nc(sigma)/M vs sigma \")\n",
    "plt.plot(X, Y, label='nb of r_sample = 100')\n",
    "plt.plot(X, Y2, label='n = 1000')\n",
    "plt.xlabel(\"sigma\")\n",
    "plt.ylabel(\"Nc(sigma)/M\")\n",
    "# plt.plot(X, Y3, label='n = 10000')\n",
    "plt.legend()\n",
    "plt.show()\n"
   ]
  },
  {
   "cell_type": "markdown",
   "id": "77e4f648",
   "metadata": {},
   "source": [
    "Le programme suivant permet de trouver par interpolation un polynôme ressemblant à la fonction tracée ci-dessus"
   ]
  },
  {
   "cell_type": "code",
   "execution_count": 9,
   "id": "0c4687dd",
   "metadata": {},
   "outputs": [
    {
     "name": "stdout",
     "output_type": "stream",
     "text": [
      "         3          2\n",
      "0.01246 x - 0.1634 x + 0.7121 x - 0.03433\n"
     ]
    },
    {
     "data": {
      "text/plain": [
       "'\\n         3          2\\n0.01265 x - 0.1648 x + 0.7145 x - 0.03374\\n'"
      ]
     },
     "execution_count": 9,
     "metadata": {},
     "output_type": "execute_result"
    }
   ],
   "source": [
    "import numpy as np\n",
    "import matplotlib.pyplot as plt\n",
    "\n",
    "x_data = X\n",
    "y_data = Y2\n",
    "\n",
    "y_params = np.polyfit(x_data, y_data, 3)  # équation de degré 3\n",
    "\n",
    "\"\"\" Nota bene : pour trouver la courbe il faut faire plusieurs essais.\n",
    "Le dégré 1 convient pour des points alignés sur une ligne.\n",
    "Le degré 2 et plus pour les courbes plus ou moins complexes.\n",
    "N'utiliser pas un degré si élevé qu'il force la courbe a passé par tous les points,\n",
    "cette courbe ne représente pas bien vos données.\n",
    "\"\"\"\n",
    "y = np.poly1d(y_params)\n",
    "\n",
    "print(y)\n",
    "\n",
    "\"\"\"\n",
    "         3          2\n",
    "0.01265 x - 0.1648 x + 0.7145 x - 0.03374\n",
    "\"\"\""
   ]
  },
  {
   "cell_type": "code",
   "execution_count": 10,
   "id": "1e98caab",
   "metadata": {},
   "outputs": [
    {
     "data": {
      "image/png": "[encoded data removed]",
      "text/plain": [
       "<Figure size 432x288 with 1 Axes>"
      ]
     },
     "metadata": {
      "needs_background": "light"
     },
     "output_type": "display_data"
    }
   ],
   "source": [
    "plt.title(\"P(A)\")\n",
    "plt.xlabel(\"sigma\")\n",
    "plt.ylabel(\"frequency\")\n",
    "\n",
    "\n",
    "plt.scatter(x_data, y_data, s=20, c=\"red\", label=\"P(A)\")\n",
    "\n",
    "def frequence(t):\n",
    "    return 0.01265*t**3 - 0.1648*t**2 + 0.7145*t-0.03374\n",
    "\n",
    "def frequence_marge(t):\n",
    "    if t<=0.3:\n",
    "        return 0.02\n",
    "    else:\n",
    "        return 0.01265*t**3 - 0.1648*t**2 + 0.7145*t-0.2\n",
    "\n",
    "\n",
    "t = np.linspace(min(x_data), max(x_data), 100)\n",
    "\n",
    "F = np.array([frequence_marge(x) for x in t])\n",
    "\n",
    "plt.plot(t, F, c=\"blue\", label=\"f(sigma)\")\n",
    "plt.legend()\n",
    "plt.grid()\n",
    "#plt.show()"
   ]
  },
  {
   "cell_type": "markdown",
   "id": "cc9aa750",
   "metadata": {},
   "source": [
    "On voit clairement que pour des valeurs faibles de sigma, le taux d'acceptation est très faible ce qui rend l'algo très lent et inéfficace.\n",
    "\n",
    "\n",
    "En revanche pour des valeurs de sigma plus grandes, on accepte quasiment tous les couples, cela est du à la qualité de la majoration de $exp(x)-exp(-x)$ par $exp(x)$ qui est meilleure pour des grandes valeurs de x.\n",
    "\n",
    "Il faudra donc appliquer au deuxieme algo présenté (celui qui vérifie les conditions 1) et 3)) la valeur de la fréquence trouvé par interpolation avec une marge (valeur du coeff constant du polynorme de degré 3)) afin de s'assurer que le programme ne plante pas.\n",
    "\n",
    "On a donc le programme final:"
   ]
  },
  {
   "cell_type": "code",
   "execution_count": 20,
   "id": "5c916b7d",
   "metadata": {},
   "outputs": [
    {
     "name": "stdout",
     "output_type": "stream",
     "text": [
      "temps par couples en e-5 secondes 16.641772985458374\n",
      "nombre de couple générée: (10000, 2)\n"
     ]
    }
   ],
   "source": [
    "start2 = time.time()\n",
    "\n",
    "\n",
    "def rejection_sampling_A_4(sigma, r):\n",
    "    MU_A = np.array([sigma**2/2, -sigma**2/2])\n",
    "    COV_MATRIX = (sigma**2)*np.eye(2)\n",
    "    M = np.pi*(sigma**2)*np.exp(sigma**2/4)\n",
    "    if r[0] >= r[1]:\n",
    "        M = np.pi*(sigma**2)*np.exp(sigma**2/4)\n",
    "        num = np.exp(-1/(2*sigma**2) * np.sum(r**2)) * np.sinh((r[0] - r[1])/2) * 1/M\n",
    "        den = multivariate_normal.pdf(r, mean=MU_A, cov=COV_MATRIX)\n",
    "        return num / den\n",
    "    return 0\n",
    "    \n",
    "def rejection_sampling_B_4(sigma, r):\n",
    "    MU_B = np.array([-sigma**2/2, sigma**2/2])\n",
    "    COV_MATRIX = (sigma**2)*np.eye(2)\n",
    "    M = np.pi*(sigma**2)*np.exp(sigma**2/4)\n",
    "    if r[0] < r[1]:\n",
    "        M = np.pi*(sigma**2)*np.exp(sigma**2/4)\n",
    "        num = np.exp(-1/(2*sigma**2) * np.sum(r**2)) * np.sinh((r[1] - r[0])/2)\n",
    "        den = multivariate_normal.pdf(r, mean=MU_B, cov=COV_MATRIX)*M\n",
    "        return num/den\n",
    "    return 0\n",
    "\n",
    "\n",
    "def rejection_sampling_4(sigma, n):\n",
    "    N = int(n/frequence_marge(sigma))+1000 #on fait un +200 pour contrer tou pb pour des valeurs faibles de sigma\n",
    "    MU_A = np.array([sigma**2/2, -sigma**2/2])\n",
    "    MU_B = np.array([-sigma**2/2, sigma**2/2])\n",
    "    COV_MATRIX = (sigma**2)*np.eye(2)\n",
    "    M = np.pi*(sigma**2)*np.exp(sigma**2/4)\n",
    "    RES = []\n",
    "    cpt = 0\n",
    "    B = np.random.binomial(1, 0.5, N)\n",
    "    M1 = multivariate_normal.rvs(MU_A, COV_MATRIX, N)\n",
    "    M2 = multivariate_normal.rvs(MU_B, COV_MATRIX, N)\n",
    "    N = np.random.rand(N)\n",
    "    i = 0\n",
    "    k = 0\n",
    "    l = 0\n",
    "    while cpt != n:\n",
    "        if B[i] == 1:\n",
    "            r = M1[k]\n",
    "            k+=1\n",
    "            res = rejection_sampling_A_4(sigma, r)\n",
    "            if N[i] < res:\n",
    "                RES.append(r)\n",
    "                cpt += 1\n",
    "            i+=1\n",
    "        else:\n",
    "            r = M2[l]\n",
    "            l+=1\n",
    "            res = rejection_sampling_B_4(sigma, r)\n",
    "            if N[i] < res:\n",
    "                RES.append(r)\n",
    "                cpt+=1\n",
    "            i+=1\n",
    "    return np.array(RES)\n",
    "\n",
    "R_4 = rejection_sampling_4(0.2, 10000)\n",
    "end2 = time.time()\n",
    "\n",
    "print(\"temps par couples en e-5 secondes\", (end2 - start2)*10000/R_4.shape[0]) #temps par matrices en e-5 secondes\n",
    "\n",
    "print(\"nombre de couple générée:\", np.shape(R_4))"
   ]
  },
  {
   "cell_type": "markdown",
   "id": "4e5f11d9",
   "metadata": {},
   "source": []
  }
 ],
 "metadata": {
  "kernelspec": {
   "display_name": "Python 3.8.10 64-bit",
   "language": "python",
   "name": "python3"
  },
  "language_info": {
   "codemirror_mode": {
    "name": "ipython",
    "version": 3
   },
   "file_extension": ".py",
   "mimetype": "text/x-python",
   "name": "python",
   "nbconvert_exporter": "python",
   "pygments_lexer": "ipython3",
   "version": "3.8.10"
  },
  "vscode": {
   "interpreter": {
    "hash": "916dbcbb3f70747c44a77c7bcd40155683ae19c65e1c03b4aa3499c5328201f1"
   }
  }
 },
 "nbformat": 4,
 "nbformat_minor": 5
}
