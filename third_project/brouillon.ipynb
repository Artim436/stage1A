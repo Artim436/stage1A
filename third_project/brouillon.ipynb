{
 "cells": [
  {
   "cell_type": "markdown",
   "metadata": {},
   "source": [
    "Hi everyone.\n",
    "\n",
    "In this issue, I would like to share an improvement that I made on the function of Pyriemann : _sample_parameter_r.\n",
    "\n",
    "The improvement only relates to the two dimension case (n_dim=2) but in this case, it is a lot faster than the previous version.\n",
    "\n",
    "The idea is to use the rejection sampling instead of the slice sampling.\n",
    "To have a first look, here is a graph of the speedup for the two dimension case depending on the number of samples for $\\sigma$  = 1 ."
   ]
  },
  {
   "cell_type": "markdown",
   "metadata": {},
   "source": [
    "![alt text](comparaison.png \"Compare the speedup of slice and rejection sampling\")"
   ]
  },
  {
   "cell_type": "markdown",
   "metadata": {},
   "source": [
    "First, have a look on the rejection sampling theory to sample parameter r.\n",
    "\n",
    "We want to sample the vector of $r = (r_1, \\dots, r_m)$ from the probability distribution\n",
    "\n",
    "$$\n",
    "p(r) = \\dfrac{1}{Z(m, \\sigma)} \\exp\\left(-\\frac{1}{2\\sigma^2}\\sum_{i = 1}^m r^2_i\\right) \\times \\prod_{i < j}\\sinh\\left(|r_i - r_j|/2\\right)\n",
    "$$\n",
    "\n",
    "which has to be done via some computational method. At the moment, `pyriemann` uses a slice sampling approach [[1]](https://projecteuclid.org/journals/annals-of-statistics/volume-31/issue-3/Slice-sampling/10.1214/aos/1056562461.full) to obtain samples from $p(r)$ but this is rather slow. I suggest we change the implementation to a rejection sampling approach [[2]](https://en.wikipedia.org/wiki/Rejection_sampling), exploring some of the properties of $p$ and therefore obtaining better performance.\n",
    "\n",
    "### The 2D case\n",
    "\n",
    "We start our exploration with the simplest case, that of $m = 2$. The pdf for $r = (r_1, r_2)$ simplifies to:\n",
    "\n",
    "$$\n",
    "\\begin{array}{rcl}\n",
    "p(r_1, r_2) &=& \\dfrac{1}{Z(2, \\sigma)}\\exp\\left(-\\dfrac{1}{2\\sigma^2}(r_1^2 + r_2^2)\\right) \\times \\sinh\\left(|r_1 - r_2|/2\\right) \\\\[1em]\n",
    "&=& \\dfrac{1}{Z(2, \\sigma)}\\exp\\left(-\\dfrac{1}{2\\sigma^2}(r_1^2 + r_2^2)\\right) \\times \\Big(\\mathbf{1}_{\\{r_1 - r_2 \\geq 0\\}}\\sinh\\left((r_1 - r_2)/2\\right) + \\mathbf{1}_{\\{r_1 - r_2 < 0\\}}\\sinh\\left((r_2 - r_1)/2\\right) \\Big)\n",
    "\\end{array}\n",
    "$$\n",
    "\n",
    "we can see this pdf as a mixture of two components depending on a binary variable $b$\n",
    "\n",
    "$$\n",
    "p(r) = p(r \\mid b = 0) \\times \\mathbb{P}(b = 0) + p(r \\mid b = 1) \\times \\mathbb{P}(b = 1)\n",
    "$$\n",
    "\n",
    "with $\\mathbb{P}(b = 0) = \\mathbb{P}(b = 1) = 1/2$ and\n",
    "\n",
    "$$\n",
    "p(r \\mid b = 0) = \\dfrac{2}{Z(2, \\sigma)}\\exp\\left(-\\dfrac{1}{2\\sigma^2}(r_1^2 + r_2^2)\\right) \\times \\mathbf{1}_{\\{r_1 - r_2 \\geq 0\\}}\\sinh\\left((r_1 - r_2)/2\\right)\n",
    "$$\n",
    "and\n",
    "$$\n",
    "p(r \\mid b = 1) = \\dfrac{2}{Z(2, \\sigma)}\\exp\\left(-\\dfrac{1}{2\\sigma^2}(r_1^2 + r_2^2)\\right) \\times \\mathbf{1}_{\\{r_1 - r_2 < 0\\}}\\sinh\\left((r_2 - r_1)/2\\right)\n",
    "$$\n",
    "\n",
    "So we can see that to generate a sample from $p(r)$ we can first generate a Bernoulli variable $b \\sim \\mathcal{B}(1/2)$ and then sample from one of the conditional distributions. \n",
    "\n",
    "Let's see how we would sample from $p(r \\mid b = 0)$ using rejection sampling. First, we would need to find a nice pdf that is an upper bound to it. Considering the inequality valid for all $x$ in $\\mathbb{R}$: \n",
    "$$\n",
    "\\begin{array}{rcl}\n",
    "sinh(x) \\leq exp(x)\n",
    "\\end{array}\n",
    "$$\n",
    "\n",
    "we can write\n",
    "\n",
    "$$\n",
    "\\begin{array}{rcl}\n",
    "p(r \\mid b = 0) &=& \\dfrac{2}{Z(2, \\sigma)}\\exp\\left(-\\dfrac{1}{2\\sigma^2}(r_1^2 + r_2^2)\\right) \\times \\mathbf{1}_{\\{r_1 - r_2 \\geq 0\\}}\\sinh\\left((r_1 - r_2)/2\\right) \\\\[1em]\n",
    "\n",
    "&\\leq& \\dfrac{1}{Z(2, \\sigma)} \\exp\\left(-\\dfrac{1}{2\\sigma^2}(r_1^2 + r_2^2)\\right) \\times \\mathbf{1}_{\\{r_1 - r_2 \\geq 0\\}}\\exp\\big((r_1 - r_2)/2\\big) \\\\[1em]\n",
    "&\\leq& \\dfrac{2\\pi\\sigma^2 \\exp(\\sigma^2/4)}{Z(2, \\sigma)} \\times \\dfrac{1}{2\\pi \\sigma^2}\\exp\\left(-\\dfrac{1}{2\\sigma^2}\\Big(\\big(r_1-\\sigma^2/2\\big)^2 + \\big(r_2+\\sigma^2/2\\big)^2\\Big)\\right)\n",
    "\\end{array}\n",
    "$$\n",
    "\n",
    "The results above indicate that if we want to sample from $p(r \\mid b = 0)$ we can do it via rejection sampling using as auxiliary distribution \n",
    "\n",
    "$$\n",
    "g_0(r) = \\dfrac{1}{2\\pi \\sigma^2}\\exp\\left(-\\dfrac{1}{2\\sigma^2}\\Big(\\big(r_1-\\sigma^2/2\\big)^2 + \\big(r_2+\\sigma^2/2\\big)^2\\Big)\\right)\n",
    "$$\n",
    "\n",
    "the algorithm goes as follows:\n",
    "1. Sample $u \\sim \\mathcal{U}(0, 1)$ and $r \\sim g_0(r)$\n",
    "\n",
    "2. Check whether \n",
    "$$\n",
    "u < \\mathbf{1}_{r_1 - r_2 \\geq 0}~\\exp\\left(-\\dfrac{1}{2\\sigma^2}(r_1^2+r_2^2)\\right)\\sinh((r_1 - r_2)/2)\\times\\dfrac{1}{M g_0(r)}\n",
    "$$\n",
    "\n",
    "- If this holds, then accept $r$ as a sample from $p(r \\mid b = 0)$\n",
    "- If not, reject the sample\n",
    "\n",
    "Where $M = \\pi\\sigma^2 \\exp(\\sigma^2/4)$\n",
    "\n",
    "We implement naively this algorithm in the function `rejection_sampling` below."
   ]
  },
  {
   "cell_type": "code",
   "execution_count": 16,
   "metadata": {},
   "outputs": [],
   "source": [
    "#!/usr/bin/env python3\n",
    "\n",
    "import numpy as np\n",
    "from sklearn.utils import check_random_state\n",
    "from scipy.stats import multivariate_normal\n",
    "from joblib import Parallel, delayed\n",
    "import matplotlib.pyplot as plt\n",
    "from scipy.stats import norm\n",
    "\n",
    "def rejection_sampling_A(sigma, r_sample):\n",
    "    \"\"\" side function used for the rejection sampling \n",
    "    algorithm in the case where we generate r with \n",
    "    the first multivariate normal pdf\n",
    "    Parameters\n",
    "    ----------\n",
    "    sigma : float\n",
    "        Dispersion of the Riemannian Gaussianutograd.\n",
    "        Sample of the r parameters of the Riemannian Gaussian distribution.\n",
    "    Returns\n",
    "    -------\n",
    "    probability_of_acceptation : float\n",
    "    \"\"\"\n",
    "    MU_A = np.array([sigma**2/2, -sigma**2/2])\n",
    "    COV_MATRIX = (sigma**2)*np.eye(2)\n",
    "    M = np.pi*(sigma**2)*np.exp(sigma**2/4)\n",
    "    if r_sample[0] >= r_sample[1]:\n",
    "        M = np.pi*(sigma**2)*np.exp(sigma**2/4)\n",
    "        num = np.exp(-1/(2*sigma**2) * np.sum(r_sample**2)) * np.sinh((r_sample[0] - r_sample[1])/2) * 1/M\n",
    "        den = multivariate_normal.pdf(r_sample, mean=MU_A, cov=COV_MATRIX)\n",
    "        return num / den\n",
    "    return 0\n",
    "\n",
    "def rejection_sampling_B(sigma, r_sample):\n",
    "    \"\"\" side function used for the rejection sampling \n",
    "    algorithm in the case where we generate r with \n",
    "    the second multivariate normal pdf\n",
    "    Parameters\n",
    "    ----------\n",
    "    sigma : float\n",
    "        Dispersion of the Riemannian Gaussian distribution.\n",
    "    r_samples : ndarray, shape (n_samples, n_dim)\n",
    "        Samples of the r parameters of the Riemannian Gaussian distribution.\n",
    "    Returns\n",
    "    -------\n",
    "    probability_of_acceptation : float\n",
    "    \"\"\"\n",
    "    MU_B = np.array([-sigma**2/2, sigma**2/2])\n",
    "    COV_MATRIX = (sigma**2)*np.eye(2)\n",
    "    M = np.pi*(sigma**2)*np.exp(sigma**2/4)\n",
    "    if r_sample[0] < r_sample[1]:\n",
    "        M = np.pi*(sigma**2)*np.exp(sigma**2/4)\n",
    "        num = np.exp(-1/(2*sigma**2) * np.sum(r_sample**2)) * np.sinh((r_sample[1] - r_sample[0])/2)\n",
    "        den = multivariate_normal.pdf(r_sample, mean=MU_B, cov=COV_MATRIX)*M\n",
    "        return num/den\n",
    "    return 0\n",
    "\n",
    "def rejection_sampling_v1(n_samples, sigma):\n",
    "    \"\"\" rejection sampling algorithm optimized for spatial \n",
    "    complexity but not for time complexity works very well \n",
    "    for low sigma values\n",
    "    Parameters\n",
    "    ----------\n",
    "    n_samples : int\n",
    "        Number of samples to get from the ptarget distribution.\n",
    "    sigma : float\n",
    "        Dispersion of the Riemannian Gaussian distribution.\n",
    "    random_state : int, RandomState instance or None, default=None\n",
    "        Pass an int for reproducible output across multiple function calls.\n",
    "    Returns\n",
    "    -------\n",
    "    r_samples : ndarray, shape (n_samples, n_dim)\n",
    "        Samples of the r parameters of the Riemannian Gaussian distribution.\n",
    "    \"\"\"\n",
    "    MU_A = np.array([sigma**2/2, -sigma**2/2])\n",
    "    MU_B = np.array([-sigma**2/2, sigma**2/2])\n",
    "    COV_MATRIX = (sigma**2)*np.eye(2)\n",
    "    M = np.pi*(sigma**2)*np.exp(sigma**2/4)\n",
    "    RES = []\n",
    "    cpt = 0\n",
    "    while cpt != n_samples:\n",
    "        if np.random.binomial(1, 0.5, 1) == 1:  # correction du pb du prgm précédent\n",
    "            r_sample = multivariate_normal.rvs(MU_A, COV_MATRIX, 1) # correction du pb du prgm précédent\n",
    "            res = rejection_sampling_A(sigma, r_sample) \n",
    "            if np.random.rand(1) < res:   # correction du pb du prgm précédent\n",
    "                RES.append(r_sample)\n",
    "                cpt += 1\n",
    "        else:\n",
    "            r_sample = multivariate_normal.rvs(MU_B, COV_MATRIX, 1)  # correction du pb du prgm précédent\n",
    "            res = rejection_sampling_B(sigma, r_sample)\n",
    "            if np.random.rand(1) < res:  # correction du pb du prgm précédent\n",
    "                RES.append(r_sample)\n",
    "                cpt+=1\n",
    "    return np.array(RES)"
   ]
  },
  {
   "cell_type": "markdown",
   "metadata": {},
   "source": [
    "This naive algorithm even works for very small $\\sigma$ values (when $\\sigma \\le 0,1$ the slice sampling is so long that we can consider it as not functionnal). It has a very low spatial complexity and it is faster than the slice sampling algorithm but we can do better in terms of time complexity, especially for larger $\\sigma$ values."
   ]
  },
  {
   "cell_type": "markdown",
   "metadata": {},
   "source": [
    "![alt text](rejec_slice_small_sigma.png \"Compare the speedup of slice and rejection sampling\")"
   ]
  },
  {
   "cell_type": "markdown",
   "metadata": {},
   "source": [
    "We keep the side functions rejection_sampling_A and rejection_sampling_B but we change the way of doing the rejection_sampling function.\n",
    "We stock samples from the multivariate_normal distribution, \n",
    "\n",
    "$$\n",
    "g_0(r) = \\dfrac{1}{2\\pi \\sigma^2}\\exp\\left(-\\dfrac{1}{2\\sigma^2}\\Big(\\big(r_1-\\sigma^2/2\\big)^2 + \\big(r_2+\\sigma^2/2\\big)^2\\Big)\\right)\n",
    "$$\n",
    "\n",
    "$$\n",
    "g_1(r) = \\dfrac{1}{2\\pi \\sigma^2}\\exp\\left(-\\dfrac{1}{2\\sigma^2}\\Big(\\big(r_1+\\sigma^2/2\\big)^2 + \\big(r_2-\\sigma^2/2\\big)^2\\Big)\\right)\n",
    "$$\n",
    "\n",
    "We also stock samples from the binomial distribution, $B(0.5, N)$ and we have the following algorithm (we will figure out then which value we have to affect to $N$):"
   ]
  },
  {
   "cell_type": "code",
   "execution_count": 1,
   "metadata": {},
   "outputs": [],
   "source": [
    "# M1 = multivariate_normal.rvs(MU_A, COV_MATRIX, N, random_state=random_state)\n",
    "# M2 = multivariate_normal.rvs(MU_B, COV_MATRIX, N, random_state=random_state)\n",
    "\n",
    "# B = rs.binomial(1, 0.5, N)"
   ]
  },
  {
   "cell_type": "code",
   "execution_count": 39,
   "metadata": {},
   "outputs": [
    {
     "ename": "AttributeError",
     "evalue": "module 'numpy.random' has no attribute 'Randomstate'",
     "output_type": "error",
     "traceback": [
      "\u001b[0;31m---------------------------------------------------------------------------\u001b[0m",
      "\u001b[0;31mAttributeError\u001b[0m                            Traceback (most recent call last)",
      "\u001b[0;32m<ipython-input-39-b59fa968ebd9>\u001b[0m in \u001b[0;36m<module>\u001b[0;34m\u001b[0m\n\u001b[1;32m     54\u001b[0m     \u001b[0;32mreturn\u001b[0m \u001b[0mnp\u001b[0m\u001b[0;34m.\u001b[0m\u001b[0marray\u001b[0m\u001b[0;34m(\u001b[0m\u001b[0mRES\u001b[0m\u001b[0;34m)\u001b[0m\u001b[0;34m\u001b[0m\u001b[0;34m\u001b[0m\u001b[0m\n\u001b[1;32m     55\u001b[0m \u001b[0;34m\u001b[0m\u001b[0m\n\u001b[0;32m---> 56\u001b[0;31m \u001b[0mrejection_sampling_v2\u001b[0m\u001b[0;34m(\u001b[0m\u001b[0;36m100\u001b[0m\u001b[0;34m,\u001b[0m \u001b[0;36m1\u001b[0m\u001b[0;34m,\u001b[0m \u001b[0;36m1\u001b[0m\u001b[0;34m)\u001b[0m\u001b[0;34m\u001b[0m\u001b[0;34m\u001b[0m\u001b[0m\n\u001b[0m",
      "\u001b[0;32m<ipython-input-39-b59fa968ebd9>\u001b[0m in \u001b[0;36mrejection_sampling_v2\u001b[0;34m(n_samples, sigma, random_state)\u001b[0m\n\u001b[1;32m     23\u001b[0m     \u001b[0mRES\u001b[0m \u001b[0;34m=\u001b[0m \u001b[0;34m[\u001b[0m\u001b[0;34m]\u001b[0m\u001b[0;34m\u001b[0m\u001b[0;34m\u001b[0m\u001b[0m\n\u001b[1;32m     24\u001b[0m     \u001b[0mcpt\u001b[0m \u001b[0;34m=\u001b[0m \u001b[0;36m0\u001b[0m\u001b[0;34m\u001b[0m\u001b[0;34m\u001b[0m\u001b[0m\n\u001b[0;32m---> 25\u001b[0;31m     \u001b[0mrs\u001b[0m \u001b[0;34m=\u001b[0m \u001b[0mnp\u001b[0m\u001b[0;34m.\u001b[0m\u001b[0mrandom\u001b[0m\u001b[0;34m.\u001b[0m\u001b[0mRandomstate\u001b[0m\u001b[0;34m(\u001b[0m\u001b[0mrandom_state\u001b[0m\u001b[0;34m)\u001b[0m\u001b[0;34m\u001b[0m\u001b[0;34m\u001b[0m\u001b[0m\n\u001b[0m\u001b[1;32m     26\u001b[0m     \u001b[0mB\u001b[0m \u001b[0;34m=\u001b[0m \u001b[0mrs\u001b[0m\u001b[0;34m.\u001b[0m\u001b[0mbinomial\u001b[0m\u001b[0;34m(\u001b[0m\u001b[0;36m1\u001b[0m\u001b[0;34m,\u001b[0m \u001b[0;36m0.5\u001b[0m\u001b[0;34m,\u001b[0m \u001b[0mN\u001b[0m\u001b[0;34m)\u001b[0m\u001b[0;34m\u001b[0m\u001b[0;34m\u001b[0m\u001b[0m\n\u001b[1;32m     27\u001b[0m     \u001b[0mM1\u001b[0m \u001b[0;34m=\u001b[0m \u001b[0mmultivariate_normal\u001b[0m\u001b[0;34m.\u001b[0m\u001b[0mrvs\u001b[0m\u001b[0;34m(\u001b[0m\u001b[0mMU_A\u001b[0m\u001b[0;34m,\u001b[0m \u001b[0mCOV_MATRIX\u001b[0m\u001b[0;34m,\u001b[0m \u001b[0mN\u001b[0m\u001b[0;34m,\u001b[0m \u001b[0mrandom_state\u001b[0m\u001b[0;34m=\u001b[0m\u001b[0mrandom_state\u001b[0m\u001b[0;34m)\u001b[0m\u001b[0;34m\u001b[0m\u001b[0;34m\u001b[0m\u001b[0m\n",
      "\u001b[0;31mAttributeError\u001b[0m: module 'numpy.random' has no attribute 'Randomstate'"
     ]
    }
   ],
   "source": [
    "def rejection_sampling_v2(n_samples, sigma, random_state=None):\n",
    "    \"\"\" rejection sampling algorithm \n",
    "    optimized for time complexity but not for spatial complexity,\n",
    "    works very well for any sigma values which is not too low (<0.01)\n",
    "    Parameters\n",
    "    ----------\n",
    "    n_samples : int\n",
    "        Number of samples to get from the ptarget distribution.\n",
    "    sigma : float\n",
    "        Dispersion of the Riemannian Gaussian distribution.\n",
    "    random_state : int, RandomState instance or None, default=None\n",
    "        Pass an int for reproducible output across multiple function calls.\n",
    "    Returns\n",
    "    -------\n",
    "    r_samples : ndarray, shape (n_samples, n_dim)\n",
    "        Samples of the r parameters of the Riemannian Gaussian distribution.\n",
    "    \"\"\"\n",
    "    N = int(n_samples/rejection_acceptation_probability_shifted(sigma) + 1000) #on fait un +1000 pour contrer tou pb pour des valeurs faibles de sigma\n",
    "    MU_A = np.array([sigma**2/2, -sigma**2/2])\n",
    "    MU_B = np.array([-sigma**2/2, sigma**2/2])\n",
    "    COV_MATRIX = (sigma**2)*np.eye(2)\n",
    "    M = np.pi*(sigma**2)*np.exp(sigma**2/4)\n",
    "    RES = []\n",
    "    cpt = 0\n",
    "    rs = np.random.Randomstate(random_state)\n",
    "    B = rs.binomial(1, 0.5, N)\n",
    "    M1 = multivariate_normal.rvs(MU_A, COV_MATRIX, N, random_state=random_state)\n",
    "    M2 = multivariate_normal.rvs(MU_B, COV_MATRIX, N, random_state=random_state)\n",
    "    R = rs.rand(N)\n",
    "    icount_br = 0\n",
    "    kcount_m1 = 0\n",
    "    lcount_m2 = 0\n",
    "    while cpt != n_samples:\n",
    "        if B[icount_br] == 1:\n",
    "            r_sample = M1[kcount_m1]\n",
    "            kcount_m1+=1\n",
    "            res = rejection_sampling_A(sigma, r_sample)\n",
    "            if R[icount_br] < res:\n",
    "                RES.append(r_sample)\n",
    "                cpt += 1\n",
    "            icount_br+=1\n",
    "            if (icount_br>=N) and (cpt != n_samples):\n",
    "                raise ValueError(\"sigma value too low\")\n",
    "        else:\n",
    "            r_sample = M2[lcount_m2]\n",
    "            lcount_m2+=1\n",
    "            res = rejection_sampling_B(sigma, r_sample)\n",
    "            if R[icount_br] < res:\n",
    "                RES.append(r_sample)\n",
    "                cpt+=1\n",
    "            icount_br+=1\n",
    "            if (icount_br>=N) and (cpt != n_samples):\n",
    "                raise ValueError(\"sigma value too low\")\n",
    "    return np.array(RES)\n",
    "\n",
    "rejection_sampling_v2(100, 1, 1)"
   ]
  },
  {
   "cell_type": "markdown",
   "metadata": {},
   "source": [
    "![alt text](3.png \"Compare the speedup of slice and rejection sampling\")"
   ]
  },
  {
   "cell_type": "markdown",
   "metadata": {},
   "source": [
    "To have a better view, we can now just compare our two rejection sampling algorithms."
   ]
  },
  {
   "cell_type": "markdown",
   "metadata": {},
   "source": [
    "![alt text](2.png \"Compare the speedup of slice and rejection sampling\")"
   ]
  },
  {
   "cell_type": "markdown",
   "metadata": {},
   "source": [
    "![alt text](2_2.png \"Compare the speedup of slice and rejection sampling\")"
   ]
  },
  {
   "cell_type": "markdown",
   "metadata": {},
   "source": [
    "We have seen that the rejection_sampling_v2 is better for any number of r_sample and any $\\sigma$ value greater than $0,05$, but it is not better for small $\\sigma$ values and the reason is linked to the $N$ value we have to choose.\n",
    "\n",
    "\n",
    "This $N$ value is the maximum number of r_sample we are able to generate with the rejection_sampling_v2 algorithm. \n",
    "\n",
    "\n",
    "To grasp the idea, we go back to the beginning of this paper. The first step of a rejection sampling algorithm is to sample $u \\sim \\mathcal{U}(0, 1)$ and $r \\sim g_0(r)$. We showed (with the comparison between rejection_sampling v1 and v2) that a computer is a lot faster when the sampling of $u \\sim \\mathcal{U}(0, 1)$ and $r \\sim g_0(r)$ is all made at the beginning of an algorithm. So, we have to know approximately the number of times we have to sample $u \\sim \\mathcal{U}(0, 1)$ and $r \\sim g_0(r)$ to have enough r_samples at the end of the rejection sampling algorithm. This is $N$, and it has to be greater than the probability of acceptation of our algorithm multiplied by the number of r_samples the user want.\n",
    "\n",
    "$N \\geq \\mathbb{P}(A)$ x n_samples\n",
    "\n",
    "We can notice that $\\mathbb{P}(A) = \\dfrac{Z(m, \\sigma)}{M(\\sigma)}$\n"
   ]
  },
  {
   "cell_type": "markdown",
   "metadata": {},
   "source": [
    "![alt text](ncM.png \"Compare the speedup of slice and rejection sampling\")"
   ]
  },
  {
   "cell_type": "markdown",
   "metadata": {},
   "source": [
    "We approximate $\\mathbb{P}(A)$ with a polynomial function of degree 3 named $f$, and we put a shift to assure that $N = \\frac{n sample}{f(\\sigma)} \\geq \\frac{n sample}{\\mathbb{P}(A)}$"
   ]
  },
  {
   "cell_type": "markdown",
   "metadata": {},
   "source": [
    "![alt text](f.png \"Compare the speedup of slice and rejection sampling\")"
   ]
  },
  {
   "cell_type": "code",
   "execution_count": 4,
   "metadata": {},
   "outputs": [],
   "source": [
    "def rejection_acceptation_probability(t):\n",
    "    \"\"\"polynomial function which approaches the probability \n",
    "    of acceptation of the rejection_sampling algorithm depending on sigma\n",
    "    Parameters\n",
    "    ----------\n",
    "    t : float\n",
    "    Returns\n",
    "    -------\n",
    "    rejection_acceptation_probability(t) : float\n",
    "    \"\"\"\n",
    "    return 0.01265*t**3 - 0.1648*t**2 + 0.7145*t-0.03374\n",
    "\n",
    "def rejection_acceptation_probability_shifted(t):\n",
    "    \"\"\"polynomial function which approach the probability \n",
    "    of acceptation of the rejection_sampling algorithm depending on sigma, \n",
    "    the shift is used to estimate with confidence how many sample we need to get n_samples\n",
    "    Parameters\n",
    "    ----------\n",
    "    t : float\n",
    "    Returns\n",
    "    -------\n",
    "    rejection_acceptation_probability_shifted(t) : float\n",
    "    \"\"\"\n",
    "    if t<=0.3:\n",
    "        return 0.02\n",
    "    else:\n",
    "        return 0.01265*t**3 - 0.1648*t**2 + 0.7145*t-0.15"
   ]
  },
  {
   "cell_type": "markdown",
   "metadata": {},
   "source": [
    "Despite this fact, when $\\sigma \\le 0,03$,  $\\mathbb{P}(A)$ is very low, it is then impossible to choose $N$ bigger enough to assure the generation of all r_samples."
   ]
  },
  {
   "cell_type": "markdown",
   "metadata": {},
   "source": [
    "![alt text](error.png \"Compare the speedup of slice and rejection sampling\")"
   ]
  },
  {
   "cell_type": "markdown",
   "metadata": {},
   "source": [
    "The rejection algorithm v1 does not have this problem, that is why we split the final rejection sampling algorithm into two cases:"
   ]
  },
  {
   "cell_type": "code",
   "execution_count": 15,
   "metadata": {},
   "outputs": [],
   "source": [
    "def rejection_sampling(n_samples, sigma, random_state=None):\n",
    "    \"\"\" final rejection sampling algorithm\n",
    "    Parameters\n",
    "    ----------\n",
    "    n_samples : int\n",
    "        Number of samples to get from the ptarget distribution.\n",
    "    sigma : float\n",
    "        Dispersion of the Riemannian Gaussian distribution.\n",
    "    random_state : int, RandomState instance or None, default=None\n",
    "        Pass an int for reproducible output across multiple function calls.\n",
    "    Returns\n",
    "    -------\n",
    "    r_samples : ndarray, shape (n_samples, n_dim)\n",
    "        Samples of the r parameters of the Riemannian Gaussian distribution.\n",
    "    \"\"\"\n",
    "    if sigma<0.1:\n",
    "        return rejection_sampling_v1(n_samples, sigma)\n",
    "    else:\n",
    "        return rejection_sampling_v2(n_samples, sigma, random_state=random_state)"
   ]
  },
  {
   "cell_type": "markdown",
   "metadata": {},
   "source": [
    "At this point, we can notice that only the second version of the algorithm allows the control of the random, but as we said before, the slice sampling algorithm just does not work in the case of small $\\sigma$ values."
   ]
  },
  {
   "cell_type": "markdown",
   "metadata": {},
   "source": [
    "So we have seen that this new algorithm is faster and works for more $\\sigma$ values than the previous one but we have to verify that the r vectors are well sampled, we can do a first verification with the proposition in the paper : https://arxiv.org/pdf/1507.01760.pdf\n",
    "\n",
    "Remark : Proposition (6) has the following implication. If Y~G(I, σ) then the determinant of Y has log-normal\n",
    "distribution."
   ]
  },
  {
   "cell_type": "code",
   "execution_count": 14,
   "metadata": {},
   "outputs": [
    {
     "name": "stderr",
     "output_type": "stream",
     "text": [
      "<ipython-input-14-f00f398e07cb>:11: MatplotlibDeprecationWarning: \n",
      "The 'normed' kwarg was deprecated in Matplotlib 2.1 and will be removed in 3.1. Use 'density' instead.\n",
      "  plt.hist(H, bins=100, normed=True)\n"
     ]
    },
    {
     "name": "stdout",
     "output_type": "stream",
     "text": [
      "-17.646754833928306 17.778238742052068\n"
     ]
    },
    {
     "data": {
      "image/png": "[encoded data removed]",
      "text/plain": [
       "<Figure size 432x288 with 1 Axes>"
      ]
     },
     "metadata": {
      "needs_background": "light"
     },
     "output_type": "display_data"
    }
   ],
   "source": [
    "sigma = 3\n",
    "\n",
    "R_4 = rejection_sampling(10000, 3)\n",
    "\n",
    "H =[]\n",
    "for k in range(10000):\n",
    "    r = R_4[k]\n",
    "    H.append(np.log(np.prod(np.exp(r))))\n",
    "\n",
    "\n",
    "plt.hist(H, bins=100, normed=True)\n",
    "\n",
    "xmin, xmax = plt.xlim()\n",
    "print(xmin, xmax)\n",
    "x = np.linspace(xmin, xmax, 100)\n",
    "mu, std = norm.fit(np.array(H))\n",
    "pdf = norm.pdf(x, mu, std)\n",
    "plt.plot(x, pdf, 'k', linewidth=2)\n",
    "plt.xlabel('log(det(Y))')\n",
    "plt.ylabel('Probability')\n",
    "\n",
    "title = \"Distribution of log(det(Y)), Fit Values: mu {:.2f} and std {:.2f} = root(2 x {:.2f}**2)\".format(mu, std, sigma)\n",
    "plt.title(title)\n",
    "plt.show()"
   ]
  },
  {
   "cell_type": "markdown",
   "metadata": {},
   "source": [
    "The proposition is verified by our rejection sampling algorithm (try yourself by changing sigma and n_samples values)"
   ]
  }
 ],
 "metadata": {
  "kernelspec": {
   "display_name": "Python 3.8.10 64-bit",
   "language": "python",
   "name": "python3"
  },
  "language_info": {
   "codemirror_mode": {
    "name": "ipython",
    "version": 3
   },
   "file_extension": ".py",
   "mimetype": "text/x-python",
   "name": "python",
   "nbconvert_exporter": "python",
   "pygments_lexer": "ipython3",
   "version": "3.8.10"
  },
  "orig_nbformat": 4,
  "vscode": {
   "interpreter": {
    "hash": "916dbcbb3f70747c44a77c7bcd40155683ae19c65e1c03b4aa3499c5328201f1"
   }
  }
 },
 "nbformat": 4,
 "nbformat_minor": 2
}
