{
 "cells": [
  {
   "cell_type": "code",
   "execution_count": 1,
   "metadata": {},
   "outputs": [],
   "source": [
    "#!/usr/bin/env python3\n",
    "\n",
    "import autograd.numpy as np\n",
    "import matplotlib.pyplot as plt\n",
    "import random as rd\n",
    "from mpl_toolkits.mplot3d import Axes3D\n",
    "from sklearn.utils import check_random_state\n",
    "from scipy.stats import multivariate_normal\n",
    "from scipy.stats import norm\n",
    "import time\n",
    "from sklearn.utils import check_random_state\n",
    "import kgof\n",
    "import kgof.data as data\n",
    "import kgof.density as density\n",
    "import kgof.goftest as gof\n",
    "import kgof.kernel as kernel\n",
    "import kgof.util as util\n",
    "from functools import partial\n",
    "from module_hist import *\n"
   ]
  },
  {
   "cell_type": "code",
   "execution_count": 2,
   "metadata": {},
   "outputs": [],
   "source": [
    "def _sample_parameter_U(n_samples, n_dim, random_state=None):\n",
    "    \"\"\"Sample the U parameters of a Riemannian Gaussian distribution.\n",
    "    Sample the eigenvectors of a SPD matrix following a Riemannian Gaussian\n",
    "    distribution.\n",
    "    See https://arxiv.org/pdf/1507.01760.pdf for the mathematical details.\n",
    "    Parameters\n",
    "    ----------\n",
    "    n_samples : int\n",
    "        How many samples to generate.\n",
    "    n_dim : int\n",
    "        Dimensionality of the SPD matrices to be sampled.\n",
    "    random_state : int, RandomState instance or None, default=None\n",
    "        Pass an int for reproducible output across multiple function calls.\n",
    "    Returns\n",
    "    -------\n",
    "    u_samples : ndarray, shape (n_samples, n_dim)\n",
    "        Samples of the U parameters of the Riemannian Gaussian distribution.\n",
    "    \"\"\"\n",
    "\n",
    "    u_samples = np.zeros((n_samples, n_dim, n_dim))\n",
    "    rs = check_random_state(random_state)\n",
    "    for i in range(n_samples):\n",
    "        A = rs.randn(n_dim, n_dim)\n",
    "        Q, _ = np.linalg.qr(A)\n",
    "        u_samples[i] = Q\n",
    "\n",
    "    return u_samples"
   ]
  },
  {
   "cell_type": "code",
   "execution_count": 3,
   "metadata": {},
   "outputs": [],
   "source": [
    "start2 = time.time()\n",
    "\n",
    "def frequence(t):\n",
    "    return 0.01265*t**3 - 0.1648*t**2 + 0.7145*t-0.03374\n",
    "\n",
    "def frequence_marge(t):\n",
    "    if t<=0.3:\n",
    "        return 0.02\n",
    "    else:\n",
    "        return 0.01265*t**3 - 0.1648*t**2 + 0.7145*t-0.15\n",
    "\n",
    "\n",
    "def rejection_sampling_A(sigma, r):\n",
    "    MU_A = np.array([sigma**2/2, -sigma**2/2])\n",
    "    COV_MATRIX = (sigma**2)*np.eye(2)\n",
    "    M = np.pi*(sigma**2)*np.exp(sigma**2/4)\n",
    "    if r[0] >= r[1]:\n",
    "        M = np.pi*(sigma**2)*np.exp(sigma**2/4)\n",
    "        num = np.exp(-1/(2*sigma**2) * np.sum(r**2)) * np.sinh((r[0] - r[1])/2) * 1/M\n",
    "        den = multivariate_normal.pdf(r, mean=MU_A, cov=COV_MATRIX)\n",
    "        return num / den\n",
    "    return 0\n",
    "    \n",
    "def rejection_sampling_B(sigma, r):\n",
    "    MU_B = np.array([-sigma**2/2, sigma**2/2])\n",
    "    COV_MATRIX = (sigma**2)*np.eye(2)\n",
    "    M = np.pi*(sigma**2)*np.exp(sigma**2/4)\n",
    "    if r[0] < r[1]:\n",
    "        M = np.pi*(sigma**2)*np.exp(sigma**2/4)\n",
    "        num = np.exp(-1/(2*sigma**2) * np.sum(r**2)) * np.sinh((r[1] - r[0])/2)\n",
    "        den = multivariate_normal.pdf(r, mean=MU_B, cov=COV_MATRIX)*M\n",
    "        return num/den\n",
    "    return 0\n",
    "\n",
    "def rejection_sampling_long(sigma, n, random_state=None):\n",
    "    MU_A = np.array([sigma**2/2, -sigma**2/2])\n",
    "    MU_B = np.array([-sigma**2/2, sigma**2/2])\n",
    "    COV_MATRIX = (sigma**2)*np.eye(2)\n",
    "    M = np.pi*(sigma**2)*np.exp(sigma**2/4)\n",
    "    RES = []\n",
    "    cpt = 0\n",
    "    while cpt != n:\n",
    "        if np.random.binomial(1, 0.5, 1) == 1:  # correction du pb du prgm précédent\n",
    "            r = multivariate_normal.rvs(MU_A, COV_MATRIX, 1, random_state=random_state) # correction du pb du prgm précédent\n",
    "            res = rejection_sampling_A(sigma, r) \n",
    "            if np.random.rand(1) < res:   # correction du pb du prgm précédent\n",
    "                RES.append(r)\n",
    "                cpt += 1\n",
    "        else:\n",
    "            r = multivariate_normal.rvs(MU_B, COV_MATRIX, 1, random_state=random_state)  # correction du pb du prgm précédent\n",
    "            res = rejection_sampling_B(sigma, r)\n",
    "            if np.random.rand(1) < res:  # correction du pb du prgm précédent\n",
    "                RES.append(r)\n",
    "                cpt+=1\n",
    "    return np.array(RES)\n",
    "\n",
    "def rejection_sampling_fast(sigma, n, random_state=None):\n",
    "    N = int(n/frequence_marge(sigma) + 1000) #on fait un +1000 pour contrer tou pb pour des valeurs faibles de sigma\n",
    "    MU_A = np.array([sigma**2/2, -sigma**2/2])\n",
    "    MU_B = np.array([-sigma**2/2, sigma**2/2])\n",
    "    COV_MATRIX = (sigma**2)*np.eye(2)\n",
    "    M = np.pi*(sigma**2)*np.exp(sigma**2/4)\n",
    "    RES = []\n",
    "    cpt = 0\n",
    "    B = np.random.binomial(1, 0.5, N)\n",
    "    M1 = multivariate_normal.rvs(MU_A, COV_MATRIX, N)\n",
    "    M2 = multivariate_normal.rvs(MU_B, COV_MATRIX, N)\n",
    "    R = np.random.rand(N)\n",
    "    i = 0\n",
    "    k = 0\n",
    "    l = 0\n",
    "    while cpt != n:\n",
    "        if B[i] == 1:\n",
    "            r = M1[k]\n",
    "            k+=1\n",
    "            res = rejection_sampling_A(sigma, r)\n",
    "            if R[i] < res:\n",
    "                RES.append(r)\n",
    "                cpt += 1\n",
    "            i+=1\n",
    "            if (i>=N) and (cpt != n):\n",
    "                return 0\n",
    "        else:\n",
    "            r = M2[l]\n",
    "            l+=1\n",
    "            res = rejection_sampling_B(sigma, r)\n",
    "            if R[i] < res:\n",
    "                RES.append(r)\n",
    "                cpt+=1\n",
    "            i+=1\n",
    "            if (i>=N) and (cpt != n):\n",
    "                return 0\n",
    "    return np.array(RES)\n",
    "\n",
    "end2 = time.time()"
   ]
  },
  {
   "cell_type": "code",
   "execution_count": 4,
   "metadata": {},
   "outputs": [],
   "source": [
    "def rejection_sampling(sigma, n, random_state=None):\n",
    "    if sigma<0.1:\n",
    "        return rejection_sampling_long(sigma, n, random_state=random_state)\n",
    "    else:\n",
    "        return rejection_sampling_fast(sigma, n, random_state=random_state)"
   ]
  },
  {
   "cell_type": "markdown",
   "metadata": {},
   "source": [
    "on regarde le nombre d'erreur en fonction de la valeur de sigma"
   ]
  },
  {
   "cell_type": "code",
   "execution_count": 45,
   "metadata": {},
   "outputs": [
    {
     "data": {
      "text/plain": [
       "[<matplotlib.lines.Line2D at 0x7f22c763df70>]"
      ]
     },
     "execution_count": 45,
     "metadata": {},
     "output_type": "execute_result"
    },
    {
     "data": {
      "image/png": "[encoded data removed]",
      "text/plain": [
       "<Figure size 432x288 with 1 Axes>"
      ]
     },
     "metadata": {
      "needs_background": "light"
     },
     "output_type": "display_data"
    }
   ],
   "source": [
    "def error(sigma, n):\n",
    "    cpt = 0\n",
    "    for k in range(n):\n",
    "        if type(rejection_sampling_fast(sigma, 10)) == int:\n",
    "            cpt += 1\n",
    "    return cpt/n\n",
    "\n",
    "s = np.array([i/100 for i in range(1, 10)])\n",
    "err = np.array([error(i, 50) for i in s])\n",
    "plt.title(\"Error rejection sampling v1\")\n",
    "plt.xlabel(\"sigma\")\n",
    "plt.ylabel(\"error probability\")\n",
    "plt.plot(s, err)"
   ]
  },
  {
   "cell_type": "markdown",
   "metadata": {},
   "source": [
    "On voit que pour sigma < 0.02 la probabilité que l'algo plante n'ets pas nulle, on va donc utiliser rejection sammpling long pour sigma < 0.03"
   ]
  },
  {
   "cell_type": "code",
   "execution_count": 27,
   "metadata": {},
   "outputs": [
    {
     "name": "stderr",
     "output_type": "stream",
     "text": [
      "No handles with labels found to put in legend.\n"
     ]
    },
    {
     "data": {
      "image/png": "[encoded data removed]",
      "text/plain": [
       "<Figure size 432x288 with 1 Axes>"
      ]
     },
     "metadata": {
      "needs_background": "light"
     },
     "output_type": "display_data"
    }
   ],
   "source": [
    "A = np.array([100 +1000*i for i in range(10)])\n",
    "def time_rejection(sigma, n):\n",
    "    s = time.time()\n",
    "    R = rejection_sampling_4(sigma, n)\n",
    "    e = time.time()\n",
    "    return (e-s)\n",
    "\n",
    "B = np.array([time_rejection(0.1, i) for i in A])\n",
    "plt.title(\"Complexité temporelle en fonction du nombre de couple\")\n",
    "plt.xlabel(\"nombre de couple\")\n",
    "plt.ylabel(\"temps en secondes\")\n",
    "plt.legend()\n",
    "plt.plot(A, B)\n",
    "plt.show()"
   ]
  },
  {
   "cell_type": "code",
   "execution_count": 62,
   "metadata": {},
   "outputs": [
    {
     "name": "stderr",
     "output_type": "stream",
     "text": [
      "<ipython-input-62-6772392215fd>:11: MatplotlibDeprecationWarning: \n",
      "The 'normed' kwarg was deprecated in Matplotlib 2.1 and will be removed in 3.1. Use 'density' instead.\n",
      "  plt.hist(H, bins=100, normed=True)\n"
     ]
    },
    {
     "name": "stdout",
     "output_type": "stream",
     "text": [
      "-18.042538018622974 17.945588873576046\n"
     ]
    },
    {
     "data": {
      "image/png": "[encoded data removed]",
      "text/plain": [
       "<Figure size 432x288 with 1 Axes>"
      ]
     },
     "metadata": {
      "needs_background": "light"
     },
     "output_type": "display_data"
    }
   ],
   "source": [
    "sigma = 3\n",
    "\n",
    "R_4 = rejection_sampling_4(sigma, 10000)\n",
    "\n",
    "H =[]\n",
    "for k in range(10000):\n",
    "    r = R_4[k]\n",
    "    H.append(np.log(np.prod(np.exp(r))))\n",
    "\n",
    "\n",
    "plt.hist(H, bins=100, normed=True)\n",
    "\n",
    "xmin, xmax = plt.xlim()\n",
    "print(xmin, xmax)\n",
    "x = np.linspace(xmin, xmax, 100)\n",
    "mu, std = norm.fit(np.array(H))\n",
    "pdf = norm.pdf(x, mu, std)\n",
    "plt.plot(x, pdf, 'k', linewidth=2)\n",
    "\n",
    "title = \"Fit Values: mu {:.2f} and std {:.2f} = root(2 x {:.2f}**2)\".format(mu, std, sigma)\n",
    "plt.title(title)\n",
    "plt.show()"
   ]
  },
  {
   "cell_type": "code",
   "execution_count": 9,
   "metadata": {},
   "outputs": [],
   "source": [
    "\n",
    "def _sample_parameter_r(n_samples, n_dim, sigma, random_state=None, n_jobs=1):\n",
    "    \"\"\"Sample the r parameters of a Riemannian Gaussian distribution.\n",
    "    Sample the logarithm of the eigenvalues of a SPD matrix following a\n",
    "    Riemannian Gaussian distribution.\n",
    "    See https://arxiv.org/pdf/1507.01760.pdf for the mathematical details.\n",
    "    Parameters\n",
    "    ----------\n",
    "    n_samples : int\n",
    "        How many samples to generate.\n",
    "    n_dim : int\n",
    "        Dimensionality of the SPD matrices to be sampled.\n",
    "    sigma : float\n",
    "        Dispersion of the Riemannian Gaussian distribution.\n",
    "    random_state : int, RandomState instance or None, default=None\n",
    "        Pass an int for reproducible output across multiple function calls.\n",
    "    n_jobs : int, default=1\n",
    "        The number of jobs to use for the computation. This works by computing\n",
    "        each of the class centroid in parallel. If -1 all CPUs are used.\n",
    "    Returns\n",
    "    -------\n",
    "    r_samples : ndarray, shape (n_samples, n_dim)\n",
    "        Samples of the r parameters of the Riemannian Gaussian distribution.\n",
    "    \"\"\"\n",
    "\n",
    "    rs = check_random_state(random_state)\n",
    "    x0 = rs.randn(n_dim)\n",
    "    ptarget = partial(_pdf_r, sigma=sigma)\n",
    "    r_samples = _slice_sampling(\n",
    "        ptarget,\n",
    "        n_samples=n_samples,\n",
    "        x0=x0,\n",
    "        random_state=random_state,\n",
    "        n_jobs=n_jobs,\n",
    "        )\n",
    "\n",
    "    return r_samples\n",
    "\n",
    "\n",
    "\n",
    "\n",
    "\n",
    "\n",
    "\n",
    "\n",
    "\n",
    "\n",
    "\n",
    "\n",
    "\n",
    "def _pdf_r(r, sigma):\n",
    "    \"\"\"Pdf for the log of eigenvalues of a SPD matrix.\n",
    "    Probability deπnsity function for the logarithm of the eigenvalues of a SPD\n",
    "    matrix samples from the Riemannian Gaussian distribution. See Said et al.\n",
    "    \"Riemannian Gaussian distributions on the space of symmetric positive\n",
    "    definite matrices\" (2017) for the mathematical details.\n",
    "    Parameters\n",
    "    ----------\n",
    "    r : ndarray, shape (n_dim,)\n",
    "        Vector with the logarithm of the eigenvalues of a SPD matrix.\n",
    "    sigma : float\n",
    "        Dispersion of the Riemannian Gaussian distribution.\n",
    "    Returns\n",
    "    -------\n",
    "    p : float\n",
    "        Probability density function applied to data point r.\n",
    "    \"\"\"\n",
    "\n",
    "    if (sigma <= 0):\n",
    "        raise ValueError(f'sigma must be a positive number (Got {sigma})')\n",
    "\n",
    "    n_dim = len(r)\n",
    "    partial_1 = -np.sum(r**2) / (2 * sigma**2)\n",
    "    partial_2 = 0\n",
    "    for i in range(n_dim):\n",
    "        for j in range(i + 1, n_dim):\n",
    "            partial_2 = partial_2 + np.log(np.sinh(np.abs(r[i] - r[j]) / 2))\n",
    "\n",
    "    return np.exp(partial_1 + partial_2)\n",
    "\n",
    "\n",
    "\n",
    "def _slice_sampling(ptarget, n_samples, x0, n_burnin=20, thin=10,\n",
    "                    random_state=None, n_jobs=1):\n",
    "    \"\"\"Slice sampling procedure.\n",
    "    Implementation of a slice sampling algorithm for sampling from any target\n",
    "    pdf or a multiple of it. The implementation follows the description given\n",
    "    in page 375 of David McKay's book \"Information Theory, Inference, and\n",
    "    Learning Algorithms\" (2003).\n",
    "    Parameters\n",
    "    ----------\n",
    "    ptarget : function with one input\n",
    "        The target pdf to sample from or a multiple of it.\n",
    "    n_samples : int\n",
    "        How many samples to get from the ptarget distribution.\n",
    "    x0 : array\n",
    "        Initial state for the MCMC procedure. Note that the shape of this array\n",
    "        defines the dimensionality n_dim of the data points to be sampled.\n",
    "    n_burnin : int, default=20\n",
    "        How many samples to discard from the beginning of the chain generated\n",
    "        by the slice sampling procedure. Usually the first samples are prone to\n",
    "        non-stationary behavior and do not follow very well the target pdf.\n",
    "    thin : int, default=10\n",
    "        Thinning factor for the slice sampling procedure. MCMC samples are\n",
    "        often correlated between them, so taking one sample every `thin`\n",
    "        samples can help reducing this correlation. Note that this makes the\n",
    "        algorithm actually sample `thin x n_samples` samples from the pdf, so\n",
    "        expect the whole sampling procedure to take longer.\n",
    "    random_state : int, RandomState instance or None, default=None\n",
    "        Pass an int for reproducible output across multiple function calls.\n",
    "    n_jobs : int, default=1\n",
    "        The number of jobs to use for the computation. This works by computing\n",
    "        each of the class centroid in parallel. If -1 all CPUs are used.\n",
    "    Returns\n",
    "    -------\n",
    "    samples : ndarray, shape (n_samples, n_dim)\n",
    "        Samples from the target pdf.\n",
    "    \"\"\"\n",
    "\n",
    "    if (n_samples <= 0) or (not isinstance(n_samples, int)):\n",
    "        raise ValueError(\n",
    "            f'n_samples must be a positive integer (Got {n_samples})')\n",
    "    if (n_burnin <= 0) or (not isinstance(n_burnin, int)):\n",
    "        raise ValueError(\n",
    "            f'n_samples must be a positive integer (Got {n_burnin})')\n",
    "    if (thin <= 0) or (not isinstance(thin, int)):\n",
    "        raise ValueError(f'thin must be a positive integer (Got {thin})')\n",
    "\n",
    "    rs = check_random_state(random_state)\n",
    "    w = 1.0  # initial bracket width\n",
    "\n",
    "    n_samples_total = (n_samples + n_burnin) * thin\n",
    "\n",
    "    samples = Parallel(n_jobs=n_jobs)(\n",
    "        delayed(_slice_one_sample)(ptarget, x0, w, rs)\n",
    "        for _ in range(n_samples_total))\n",
    "\n",
    "    samples = np.array(samples)[(n_burnin * thin):][::thin]\n",
    "\n",
    "    return samples\n",
    "\n",
    "def _slice_one_sample(ptarget, x0, w, rs):\n",
    "    \"\"\"Slice sampling for one sample\n",
    "    Parameters\n",
    "    ----------\n",
    "    ptarget : function with one input\n",
    "        The target pdf to sample from or a multiple of it.\n",
    "    x0 : array\n",
    "        Initial state for the MCMC procedure. Note that the shape of this array\n",
    "        defines the dimensionality n_dim of the data points to be sampled.\n",
    "    w : float\n",
    "        Initial bracket width.\n",
    "    rs : int, RandomState instance or None\n",
    "        Pass an int for reproducible output across multiple function calls.\n",
    "    Returns\n",
    "    -------\n",
    "    sample : ndarray, shape (n_dim,)\n",
    "        Sample from the target pdf.\n",
    "    \"\"\"\n",
    "    xt = np.copy(x0)\n",
    "    n_dim = len(x0)\n",
    "\n",
    "    for i in range(n_dim):\n",
    "\n",
    "        ei = np.zeros(n_dim)\n",
    "        ei[i] = 1\n",
    "\n",
    "        # step 1 : evaluate ptarget(xt)\n",
    "        Px = ptarget(xt)\n",
    "\n",
    "        # step 2 : draw vertical coordinate uprime ~ U(0, ptarget(xt))\n",
    "        uprime_i = Px * rs.rand()\n",
    "\n",
    "        # step 3 : create a horizontal interval (xl_i, xr_i) enclosing xt_i\n",
    "        r = rs.rand()\n",
    "        xl_i = xt[i] - r * w\n",
    "        xr_i = xt[i] + (1-r) * w\n",
    "        while ptarget(xt + (xl_i - xt[i]) * ei) > uprime_i:\n",
    "            xl_i = xl_i - w\n",
    "        while ptarget(xt + (xr_i - xt[i]) * ei) > uprime_i:\n",
    "            xr_i = xr_i + w\n",
    "\n",
    "        # step 4 : loop\n",
    "        while True:\n",
    "            xprime_i = xl_i + (xr_i - xl_i) * rs.rand()\n",
    "            Px = ptarget(xt + (xprime_i - xt[i]) * ei)\n",
    "            if Px > uprime_i:\n",
    "                break\n",
    "            else:\n",
    "                if xprime_i > xt[i]:\n",
    "                    xr_i = xprime_i\n",
    "                else:\n",
    "                    xl_i = xprime_i\n",
    "\n",
    "        # store coordinate i of new sample\n",
    "        xt = np.copy(xt)\n",
    "        xt[i] = xprime_i\n",
    "\n",
    "    return xt\n"
   ]
  },
  {
   "cell_type": "code",
   "execution_count": 42,
   "metadata": {},
   "outputs": [
    {
     "data": {
      "image/png": "[encoded data removed]",
      "text/plain": [
       "<Figure size 432x288 with 1 Axes>"
      ]
     },
     "metadata": {
      "needs_background": "light"
     },
     "output_type": "display_data"
    }
   ],
   "source": [
    "SIGMA = [1, 2, 3, 4, 5]\n",
    "SIGMA2 = [0.1, 0.4, 0.8, 1]\n",
    "N = [10, 100, 1000, 2000, 5000]\n",
    "\n",
    "def time_slice(s, n):\n",
    "    s2 = time.time()\n",
    "    R = _sample_parameter_r(n, 2, s)\n",
    "    e2 = time.time()\n",
    "    return e2-s2\n",
    "\n",
    "def time_reject(s,n):\n",
    "    s1 = time.time()\n",
    "    R2 = rejection_sampling_long(s, n)\n",
    "    e1 = time.time()\n",
    "    return e1 - s1\n",
    "\n",
    "def time_rejec_2(s,n):\n",
    "    s1 = time.time()\n",
    "    R2 = rejection_sampling_fast(s, n)\n",
    "    e1 = time.time()\n",
    "    return e1 - s1\n",
    "\n",
    "sig = 1\n",
    "\n",
    "A = [time_reject(sig, n) for n in N]\n",
    "B = [time_slice(sig, 50) for sig  in SIGMA]\n",
    "C = [time_rejec_2(sig, n) for n in N]\n",
    "plt.plot(N, A, 'g', label='Rejection_sampling_v1')\n",
    "plt.plot(N, C, 'r', label='Rejection_sampling_v2')\n",
    "#plt.plot(SIGMA, B, 'b', label='Slice_sampling')\n",
    "plt.xlabel('numbers of r_samples')\n",
    "plt.ylabel('Time (s)')\n",
    "plt.title('Time vs numbers of r_samples for sigma=1')\n",
    "plt.legend()\n",
    "plt.show()"
   ]
  },
  {
   "cell_type": "code",
   "execution_count": 13,
   "metadata": {},
   "outputs": [
    {
     "data": {
      "image/png": "[encoded data removed]",
      "text/plain": [
       "<Figure size 432x288 with 1 Axes>"
      ]
     },
     "metadata": {
      "needs_background": "light"
     },
     "output_type": "display_data"
    }
   ],
   "source": [
    "SIGMA = [0.01]\n",
    "N = [1, 2, 10]\n",
    "\n",
    "def time_slice(s, n):\n",
    "    s2 = time.time()\n",
    "    R = _sample_parameter_r(n, 2, s)\n",
    "    e2 = time.time()\n",
    "    return e2-s2\n",
    "\n",
    "def time_reject(s,n):\n",
    "    s1 = time.time()\n",
    "    R2 = rejection_sampling(s, n)\n",
    "    e1 = time.time()\n",
    "    return e1 - s1\n",
    "\n",
    "for sig in SIGMA:\n",
    "    plt.figure()\n",
    "    A = [time_reject(sig, n) for n in N]\n",
    "    B = [time_slice(sig, n) for n in N]\n",
    "    plt.subplot\n",
    "    plt.plot(N, A, 'r', label='Rejection')\n",
    "    plt.plot(N, B, 'b', label='Slice')\n",
    "    plt.xlabel('Number of r_samples')\n",
    "    plt.ylabel('Time (s)')\n",
    "    plt.title('Time for sampling r_samples with sigma = ' + str(sig))\n",
    "    plt.legend()\n",
    "    plt.show()"
   ]
  },
  {
   "cell_type": "markdown",
   "metadata": {},
   "source": [
    "L'algorithme de slice sampling est d'autant moins performant que la valeur de sigma est élevée. Ce qui n'est pas le cas pour le rejection sampling qui est lui, d'autant plus performant. (Environ 100 fois plus pour sigma=5 par exemple). De plus pour des valeurs de sigma très faibles (<0.01), le slice sampling ne converge tout simplement pas, alors que la disjonction de cas du rejection sampling lui permet de fonctionner dans tous les cas (même si l'algo qui permet la convergence dans le cas où sigma<0.01 est plus lent)."
   ]
  }
 ],
 "metadata": {
  "kernelspec": {
   "display_name": "Python 3.8.10 64-bit",
   "language": "python",
   "name": "python3"
  },
  "language_info": {
   "codemirror_mode": {
    "name": "ipython",
    "version": 3
   },
   "file_extension": ".py",
   "mimetype": "text/x-python",
   "name": "python",
   "nbconvert_exporter": "python",
   "pygments_lexer": "ipython3",
   "version": "3.8.10"
  },
  "orig_nbformat": 4,
  "vscode": {
   "interpreter": {
    "hash": "916dbcbb3f70747c44a77c7bcd40155683ae19c65e1c03b4aa3499c5328201f1"
   }
  }
 },
 "nbformat": 4,
 "nbformat_minor": 2
}
