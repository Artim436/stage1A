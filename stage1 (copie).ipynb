{
  "cells": [
    {
      "cell_type": "code",
      "execution_count": 1,
      "metadata": {
        "collapsed": false
      },
      "outputs": [],
      "source": [
        "import warnings\n",
        "\n",
        "import matplotlib.pyplot as plt\n",
        "import pandas as pd\n",
        "import seaborn as sns\n",
        "from mne.decoding import CSP\n",
        "from sklearn.discriminant_analysis import LinearDiscriminantAnalysis as LDA\n",
        "from sklearn.pipeline import make_pipeline\n",
        "\n",
        "import moabb\n",
        "from moabb.datasets import Weibo2014\n",
        "from moabb.datasets import Zhou2016\n",
        "from moabb.datasets import BNCI2014004\n",
        "from moabb.datasets import BNCI2014002\n",
        "from moabb.datasets import BNCI2015001\n",
        "from moabb.datasets import AlexMI\n",
        "\n",
        "from moabb.evaluations import WithinSessionEvaluation\n",
        "from moabb.evaluations import CrossSessionEvaluation\n",
        "\n",
        "\n",
        "import mne\n",
        "from mne.preprocessing import Xdawn\n",
        "from mne.decoding import CSP\n",
        "\n",
        "\n",
        "from moabb.paradigms import MotorImagery\n",
        "from pyriemann.estimation import Covariances\n",
        "from pyriemann.utils.covariance import covariances\n",
        "from pyriemann.estimation import ERPCovariances\n",
        "from pyriemann.estimation import XdawnCovariances\n",
        "from pyriemann.classification import MDM\n",
        "from pyriemann.classification import KNearestNeighbor\n",
        "from pyriemann.tangentspace import TangentSpace\n",
        "from sklearn.model_selection import KFold\n",
        "from sklearn.model_selection import cross_val_score\n",
        "from sklearn.svm import SVC\n",
        "\n",
        "\n",
        "\n",
        "\n",
        "\n",
        "\n",
        "moabb.set_log_level(\"info\")\n",
        "warnings.filterwarnings(\"ignore\")"
      ]
    },
    {
      "cell_type": "code",
      "execution_count": 2,
      "metadata": {
        "collapsed": false
      },
      "outputs": [
        {
          "name": "stderr",
          "output_type": "stream",
          "text": [
            "2022-06-01 14:11:41,729 WARNING MainThread moabb.paradigms.motor_imagery Choosing from all possible events\n"
          ]
        }
      ],
      "source": [
        "paradigm = MotorImagery()\n",
        "paradigm_name = 'MI'"
      ]
    },
    {
      "cell_type": "code",
      "execution_count": 5,
      "metadata": {
        "collapsed": false
      },
      "outputs": [],
      "source": [
        "pipelines = {}\n",
        "pipelines[\"(1) epo-mdm-euc\"] = make_pipeline(MDM(metric=\"euclid\"))\n",
        "#pipelines[\"(2) epo-knn-euc\"] = make_pipeline(KNearestNeighbor(), MDM(metric=\"euclid\"))\n",
        "# #default 5 neighbors\n",
        "#pipelines[\"(3) cov-dia-lda\"] = make_pipeline(Covariances(), _sch), LDA())\n",
        "# #sch for schaffer\n",
        "pipelines[\"(4) epo-csp-lda\"] = make_pipeline(CSP(), LDA())\n",
        "#pipelines[\"(5) cov-knn-euc\"] = make_pipeline(Covariances(), KNearestNeighbor(metric=\"euclid\"))\n",
        "# # pipelines[\"(6) cov-knn-rie\"] = make_pipeline(Covariances(), KNearestNeighbor())\n",
        "# # #default riemannian\n",
        "pipelines[\"(7) cov-mdm-euc\"] = make_pipeline(Covariances(), MDM(metric=\"euclid\"))\n",
        "# # pipelines[\"(8) cov-mdm-rie\"] = make_pipeline(Covariances(), MDM())\n",
        "#pipelines[\"(9) cov-tgs-lda\"] = make_pipeline(Covariances(), TangentSpace(), LDA())\n",
        "# # #(default: 'riemann')\n",
        "\n"
      ]
    },
    {
      "cell_type": "markdown",
      "metadata": {},
      "source": []
    },
    {
      "cell_type": "code",
      "execution_count": 6,
      "metadata": {
        "collapsed": false
      },
      "outputs": [
        {
          "name": "stderr",
          "output_type": "stream",
          "text": [
            "2022-06-01 14:11:52,329 WARNING MainThread moabb.evaluations.base <moabb.datasets.Weibo2014.Weibo2014 object at 0x7f57f4fab520> not compatible with evaluation. Removing this dataset from the list.\n",
            "2022-06-01 14:11:52,332 WARNING MainThread moabb.evaluations.base <moabb.datasets.bnci.BNCI2014002 object at 0x7f5828a4e190> not compatible with evaluation. Removing this dataset from the list.\n",
            "2022-06-01 14:11:52,338 WARNING MainThread moabb.evaluations.base <moabb.datasets.alex_mi.AlexMI object at 0x7f5828a4e400> not compatible with evaluation. Removing this dataset from the list.\n",
            "2022-06-01 14:11:52,341 INFO MainThread moabb.evaluations.base Processing dataset: Zhou 2016\n",
            "Zhou 2016-CrossSession: 100%|██████████| 4/4 [00:00<00:00, 96.34it/s]\n",
            "2022-06-01 14:11:52,391 INFO MainThread moabb.evaluations.base Processing dataset: 004-2014\n",
            "004-2014-CrossSession: 100%|██████████| 4/4 [00:00<00:00, 61.64it/s]\n",
            "2022-06-01 14:11:52,464 INFO MainThread moabb.evaluations.base Processing dataset: 001-2015\n",
            "001-2015-CrossSession: 100%|██████████| 4/4 [00:00<00:00, 94.86it/s]\n"
          ]
        }
      ],
      "source": [
        "datasets = [Weibo2014(), Zhou2016(), BNCI2014004(), BNCI2014002(), BNCI2015001(),AlexMI()]\n",
        "subj = [1, 2, 3 ,4]\n",
        "for d in datasets:\n",
        "    d.subject_list = subj\n",
        "paradigm = paradigm\n",
        "evaluation = CrossSessionEvaluation(\n",
        "    paradigm=paradigm, datasets=datasets, suffix=\"examples\", overwrite=False\n",
        ")\n",
        "results = evaluation.process(pipelines)"
      ]
    },
    {
      "cell_type": "code",
      "execution_count": 7,
      "metadata": {
        "collapsed": false
      },
      "outputs": [],
      "source": [
        "results.to_csv(\"./results_part2-1.csv\")"
      ]
    },
    {
      "cell_type": "code",
      "execution_count": 8,
      "metadata": {
        "collapsed": false
      },
      "outputs": [],
      "source": [
        "results = pd.read_csv(\"./results_part2-1.csv\")"
      ]
    },
    {
      "cell_type": "code",
      "execution_count": 9,
      "metadata": {
        "collapsed": false
      },
      "outputs": [
        {
          "data": {
            "image/png": "[encoded data removed]",
            "text/plain": [
              "<Figure size 720x504 with 1 Axes>"
            ]
          },
          "metadata": {},
          "output_type": "display_data"
        }
      ],
      "source": [
        "fig, ax = plt.subplots(figsize=(10, 7))\n",
        "results[\"dataset\"] = results[\"dataset\"].apply(str)\n",
        "sns.barplot(\n",
        "    x=\"score\", y=\"dataset\", hue=\"pipeline\", data=results, orient=\"h\", palette=\"viridis\", ax=ax\n",
        ")\n",
        "fig.show()"
      ]
    }
  ],
  "metadata": {
    "kernelspec": {
      "display_name": "Python 3",
      "language": "python",
      "name": "python3"
    },
    "language_info": {
      "codemirror_mode": {
        "name": "ipython",
        "version": 3
      },
      "file_extension": ".py",
      "mimetype": "text/x-python",
      "name": "python",
      "nbconvert_exporter": "python",
      "pygments_lexer": "ipython3",
      "version": "3.8.10"
    }
  },
  "nbformat": 4,
  "nbformat_minor": 0
}
