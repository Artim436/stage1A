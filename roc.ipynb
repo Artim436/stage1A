{
  "cells": [
    {
      "cell_type": "code",
      "execution_count": 15,
      "metadata": {
        "collapsed": false
      },
      "outputs": [],
      "source": [
        "import matplotlib.pyplot as plt\n",
        "import pandas as pd\n",
        "import seaborn as sns\n",
        "from mne.decoding import CSP\n",
        "from sklearn.discriminant_analysis import LinearDiscriminantAnalysis as LDA\n",
        "from sklearn.pipeline import make_pipeline\n",
        "\n",
        "import moabb\n",
        "from moabb.datasets import Weibo2014\n",
        "from moabb.datasets import Zhou2016\n",
        "from moabb.datasets import BNCI2014004\n",
        "from moabb.datasets import BNCI2014002\n",
        "from moabb.datasets import BNCI2015001\n",
        "from moabb.datasets import AlexMI\n",
        "\n",
        "\n",
        "from moabb.evaluations import WithinSessionEvaluation\n",
        "from moabb.evaluations import CrossSessionEvaluation\n",
        "\n",
        "\n",
        "import mne\n",
        "from mne.preprocessing import Xdawn\n",
        "from mne.decoding import CSP\n",
        "\n",
        "\n",
        "from moabb.paradigms import MotorImagery\n",
        "from pyriemann.estimation import Covariances\n",
        "from pyriemann.utils.covariance import covariances\n",
        "from pyriemann.estimation import ERPCovariances\n",
        "from pyriemann.estimation import XdawnCovariances\n",
        "from pyriemann.classification import MDM\n",
        "from pyriemann.classification import KNearestNeighbor\n",
        "from pyriemann.tangentspace import TangentSpace\n",
        "from pyriemann.datasets import make_gaussian_blobs\n",
        "from sklearn.model_selection import KFold\n",
        "from sklearn.model_selection import cross_val_score\n",
        "from sklearn.svm import SVC\n",
        "from sklearn.metrics import roc_auc_score"
      ]
    },
    {
      "cell_type": "code",
      "execution_count": 16,
      "metadata": {
        "collapsed": false
      },
      "outputs": [
        {
          "name": "stderr",
          "output_type": "stream",
          "text": [
            "Choosing from all possible events\n"
          ]
        }
      ],
      "source": [
        "paradigm = MotorImagery()\n",
        "paradigm_name = 'MI'"
      ]
    },
    {
      "cell_type": "code",
      "execution_count": 21,
      "metadata": {
        "collapsed": false
      },
      "outputs": [],
      "source": [
        "pipelines = {}\n",
        "pipelines[\"(1) epo-mdm-euc\"] = make_pipeline(MDM(metric=\"euclid\"))\n",
        "#pipelines[\"(2) epo-knn-euc\"] = make_pipeline(KNearestNeighbor(), MDM(metric=\"euclid\"))\n",
        "# #default 5 neighbors\n",
        "#pipelines[\"(3) cov-dia-lda\"] = make_pipeline(Covariances(), _sch), LDA())\n",
        "# #sch for schaffer\n",
        "pipelines[\"(4) epo-csp-lda\"] = make_pipeline(CSP(), LDA())\n",
        "#pipelines[\"(5) cov-knn-euc\"] = make_pipeline(Covariances(), KNearestNeighbor(metric=\"euclid\"))\n",
        "# # pipelines[\"(6) cov-knn-rie\"] = make_pipeline(Covariances(), KNearestNeighbor())\n",
        "# # #default riemannian\n",
        "pipelines[\"(7) cov-mdm-euc\"] = make_pipeline(Covariances(), MDM(metric=\"euclid\"))\n",
        "pipelines[\"(8) cov-mdm-rie\"] = make_pipeline(Covariances(), MDM())\n",
        "#pipelines[\"(9) cov-tgs-lda\"] = make_pipeline(Covariances(), TangentSpace(), LDA())\n",
        "# # #(default: 'riemann')\n",
        "#4, 8, 9\n"
      ]
    },
    {
      "cell_type": "markdown",
      "metadata": {},
      "source": []
    },
    {
      "cell_type": "code",
      "execution_count": 29,
      "metadata": {},
      "outputs": [],
      "source": [
        "datasets = [AlexMI()]\n",
        "subj = [1, 2, 3 ,4]\n",
        "subject_source = 1\n",
        "d = datasets[0]\n",
        "d.subject_list = subj\n",
        "paradigm = paradigm\n",
        "data_source = {}\n",
        "X, labels, meta = paradigm.get_data(d, subjects=[subject_source])\n",
        "data_source['covs'] = Covariances(estimator='lwf').fit_transform(X)\n",
        "data_source['labels'] = labels"
      ]
    },
    {
      "cell_type": "code",
      "execution_count": 32,
      "metadata": {},
      "outputs": [
        {
          "name": "stdout",
          "output_type": "stream",
          "text": [
            "['right_hand', 'feet']\n",
            "[0, 1]\n"
          ]
        }
      ],
      "source": [
        "new_labels_names = []\n",
        "while len(new_labels_names)<2:\n",
        "    for elt in labels:\n",
        "        if elt not in new_labels_names:\n",
        "            new_labels_names.append(elt)\n",
        "print(new_labels_names)\n",
        "new_labels = [0,1]\n",
        "print(new_labels)\n",
        "source = {}\n",
        "target_train = {}\n",
        "target_test = {}"
      ]
    },
    {
      "cell_type": "code",
      "execution_count": 33,
      "metadata": {},
      "outputs": [
        {
          "name": "stderr",
          "output_type": "stream",
          "text": [
            "/home/artim436/.local/lib/python3.8/site-packages/pyriemann/utils/base.py:14: RuntimeWarning: invalid value encountered in log\n",
            "  eigvals = np.diag(operator(eigvals))\n",
            "/home/artim436/.local/lib/python3.8/site-packages/pyriemann/utils/base.py:14: RuntimeWarning: invalid value encountered in log\n",
            "  eigvals = np.diag(operator(eigvals))\n",
            "/home/artim436/.local/lib/python3.8/site-packages/pyriemann/utils/base.py:14: RuntimeWarning: invalid value encountered in log\n",
            "  eigvals = np.diag(operator(eigvals))\n",
            "/home/artim436/.local/lib/python3.8/site-packages/pyriemann/utils/base.py:14: RuntimeWarning: invalid value encountered in log\n",
            "  eigvals = np.diag(operator(eigvals))\n",
            "/home/artim436/.local/lib/python3.8/site-packages/pyriemann/utils/base.py:14: RuntimeWarning: invalid value encountered in log\n",
            "  eigvals = np.diag(operator(eigvals))\n",
            "/home/artim436/.local/lib/python3.8/site-packages/sklearn/model_selection/_validation.py:372: FitFailedWarning: \n",
            "5 fits failed out of a total of 5.\n",
            "The score on these train-test partitions for these parameters will be set to nan.\n",
            "If these failures are not expected, you can try to debug them by setting error_score='raise'.\n",
            "\n",
            "Below are more details about the failures:\n",
            "--------------------------------------------------------------------------------\n",
            "5 fits failed with the following error:\n",
            "Traceback (most recent call last):\n",
            "  File \"/home/artim436/.local/lib/python3.8/site-packages/sklearn/model_selection/_validation.py\", line 680, in _fit_and_score\n",
            "    estimator.fit(X_train, y_train, **fit_params)\n",
            "  File \"/home/artim436/.local/lib/python3.8/site-packages/sklearn/pipeline.py\", line 394, in fit\n",
            "    self._final_estimator.fit(Xt, y, **fit_params_last_step)\n",
            "  File \"/home/artim436/.local/lib/python3.8/site-packages/pyriemann/classification.py\", line 114, in fit\n",
            "    if sample_weight is None:\n",
            "  File \"/home/artim436/.local/lib/python3.8/site-packages/pyriemann/classification.py\", line 115, in <listcomp>\n",
            "    sample_weight = np.ones(X.shape[0])\n",
            "  File \"/home/artim436/.local/lib/python3.8/site-packages/pyriemann/utils/mean.py\", line 335, in mean_covariance\n",
            "  File \"/home/artim436/.local/lib/python3.8/site-packages/pyriemann/utils/mean.py\", line 65, in mean_riemann\n",
            "    crit = np.linalg.norm(J, ord='fro')\n",
            "  File \"/home/artim436/.local/lib/python3.8/site-packages/pyriemann/utils/base.py\", line 64, in expm\n",
            "    return _matrix_operator(Ci, np.exp)\n",
            "  File \"/home/artim436/.local/lib/python3.8/site-packages/pyriemann/utils/base.py\", line 10, in _matrix_operator\n",
            "    raise ValueError(\n",
            "ValueError: Covariance matrices must be positive definite. Add regularization to avoid this error.\n",
            "\n",
            "  warnings.warn(some_fits_failed_message, FitFailedWarning)\n"
          ]
        },
        {
          "data": {
            "text/plain": [
              "array([nan, nan, nan, nan, nan])"
            ]
          },
          "execution_count": 33,
          "metadata": {},
          "output_type": "execute_result"
        }
      ],
      "source": [
        "from sklearn.model_selection import KFold\n",
        "\n",
        "cv = KFold(n_splits=5, shuffle=True, random_state=42)\n",
        "cross_val_score(pipelines[\"(8) cov-mdm-rie\"], data_source['covs'], data_source['labels'], cv=cv, scoring='roc_auc')"
      ]
    },
    {
      "cell_type": "code",
      "execution_count": 31,
      "metadata": {},
      "outputs": [
        {
          "name": "stdout",
          "output_type": "stream",
          "text": [
            "[[4.94223486e-003 9.95057765e-001]\n",
            " [1.00000000e+000 4.11859728e-103]\n",
            " [1.00000000e+000 1.56825145e-014]\n",
            " [1.98145868e-056 1.00000000e+000]\n",
            " [6.55360938e-005 9.99934464e-001]\n",
            " [9.99999949e-001 5.14193763e-008]\n",
            " [5.91512484e-033 1.00000000e+000]\n",
            " [1.00000000e+000 8.96229128e-106]]\n",
            "['right_hand' 'feet' 'feet' 'feet' 'feet' 'right_hand' 'right_hand'\n",
            " 'right_hand']\n"
          ]
        }
      ],
      "source": [
        "from sklearn.model_selection import KFold\n",
        "\n",
        "K = 5\n",
        "\n",
        "cv = KFold(n_splits=K, shuffle=True, random_state=42)\n",
        "PREDICTION = []\n",
        "TRUTH = []\n",
        "for train, test in cv.split(data_source['covs']):\n",
        "    TRUTH.append(data_source['labels'][test])\n",
        "    model = MDM(metric=\"euclid\").fit(data_source['covs'][train], data_source['labels'][train])\n",
        "    a = model.predict_proba(data_source['covs'][test])\n",
        "    PREDICTION.append(a)\n",
        "print(PREDICTION[0])\n",
        "print(TRUTH[0])"
      ]
    },
    {
      "cell_type": "code",
      "execution_count": 26,
      "metadata": {},
      "outputs": [
        {
          "name": "stdout",
          "output_type": "stream",
          "text": [
            "40\n",
            "8\n",
            "8\n",
            "8\n",
            "8\n",
            "8\n",
            "8\n",
            "8\n",
            "8\n",
            "8\n",
            "8\n"
          ]
        }
      ],
      "source": [
        "print(len(data_source['covs']))\n",
        "for i in range(K):\n",
        "    print(len(PREDICTION[i]))\n",
        "    print(len(TRUTH[i]))"
      ]
    },
    {
      "cell_type": "code",
      "execution_count": 10,
      "metadata": {},
      "outputs": [],
      "source": [
        "def roc_homemade(prediction, truth, threshold):\n",
        "    tp = 0\n",
        "    tn = 0\n",
        "    fp = 0\n",
        "    fn = 0\n",
        "    prediction2 =  []\n",
        "    truth2 = []\n",
        "    a = 0\n",
        "    for i in range(len(prediction)):\n",
        "        for j in range(len(prediction[i])):\n",
        "            if prediction[i][j][0]>threshold:\n",
        "                prediction2.append(0)\n",
        "            else:\n",
        "                prediction2.append(1)\n",
        "            if truth[i][j] == new_labels_names[0]: #right_hand\n",
        "                truth2.append(0)\n",
        "            elif truth[i][j] == new_labels_names[1]: #feet\n",
        "                truth2.append(1)\n",
        "            if prediction2[a] == new_labels[0] and truth2[a] == new_labels[0]:\n",
        "                tp += 1\n",
        "            elif prediction2[a] == new_labels[1] and truth2[a] == new_labels[1]:\n",
        "                tn += 1\n",
        "            elif prediction2[a] == new_labels[0] and truth2[a] == new_labels[1]:\n",
        "                fp += 1\n",
        "            elif prediction2[a] == new_labels[1] and truth2[a] == new_labels[0]:\n",
        "                fn += 1\n",
        "            a += 1\n",
        "    return tp, tn, fp, fn\n",
        "\n",
        "def sensitivity(tp, tn, fp, fn):\n",
        "    if tp+fn == 0:\n",
        "        return 0\n",
        "    return tp/(tp+fn)\n",
        "\n",
        "def one_specificity(tp, tn, fp, fn):\n",
        "    if fp+tn == 0:\n",
        "        return 0\n",
        "    return 1- (tn/(tn+fp))\n",
        "\n",
        "def accuracy(tp, tn, fp, fn):\n",
        "    return (tp+tn)/(tp+tn+fp+fn)\n"
      ]
    },
    {
      "cell_type": "code",
      "execution_count": 12,
      "metadata": {},
      "outputs": [
        {
          "name": "stdout",
          "output_type": "stream",
          "text": [
            "[0.9, 0.44999999999999996, 0.44999999999999996, 0.44999999999999996, 0.44999999999999996, 0.44999999999999996, 0.44999999999999996, 0.44999999999999996, 0.44999999999999996, 0.44999999999999996, 0.44999999999999996, 0.44999999999999996, 0.44999999999999996, 0.44999999999999996, 0.44999999999999996, 0.44999999999999996, 0.44999999999999996, 0.44999999999999996, 0.44999999999999996, 0.44999999999999996, 0.44999999999999996, 0.44999999999999996, 0.44999999999999996, 0.44999999999999996, 0.44999999999999996, 0.44999999999999996, 0.44999999999999996, 0.44999999999999996, 0.44999999999999996, 0.44999999999999996, 0.44999999999999996, 0.44999999999999996, 0.44999999999999996, 0.44999999999999996, 0.44999999999999996, 0.44999999999999996, 0.44999999999999996, 0.44999999999999996, 0.44999999999999996, 0.44999999999999996, 0.44999999999999996, 0.44999999999999996, 0.44999999999999996, 0.44999999999999996, 0.44999999999999996, 0.44999999999999996, 0.44999999999999996, 0.44999999999999996, 0.44999999999999996, 0.44999999999999996, 0.44999999999999996, 0.44999999999999996, 0.44999999999999996, 0.44999999999999996, 0.44999999999999996, 0.44999999999999996, 0.44999999999999996, 0.44999999999999996, 0.44999999999999996, 0.44999999999999996, 0.44999999999999996, 0.44999999999999996, 0.44999999999999996, 0.44999999999999996, 0.44999999999999996, 0.44999999999999996, 0.44999999999999996, 0.44999999999999996, 0.44999999999999996, 0.44999999999999996, 0.44999999999999996, 0.44999999999999996, 0.44999999999999996, 0.44999999999999996, 0.44999999999999996, 0.44999999999999996, 0.44999999999999996, 0.44999999999999996, 0.44999999999999996, 0.44999999999999996, 0.44999999999999996, 0.44999999999999996, 0.44999999999999996, 0.44999999999999996, 0.44999999999999996, 0.44999999999999996, 0.44999999999999996, 0.44999999999999996, 0.44999999999999996, 0.44999999999999996, 0.44999999999999996, 0.44999999999999996, 0.44999999999999996, 0.44999999999999996, 0.44999999999999996, 0.44999999999999996, 0.44999999999999996, 0.44999999999999996, 0.44999999999999996, 0.44999999999999996]\n",
            "[1.0, 0.6, 0.6, 0.6, 0.6, 0.6, 0.6, 0.6, 0.6, 0.6, 0.6, 0.6, 0.6, 0.6, 0.6, 0.6, 0.6, 0.6, 0.6, 0.6, 0.6, 0.6, 0.6, 0.6, 0.6, 0.6, 0.6, 0.6, 0.6, 0.6, 0.6, 0.6, 0.6, 0.6, 0.6, 0.6, 0.6, 0.6, 0.6, 0.6, 0.6, 0.6, 0.6, 0.6, 0.6, 0.6, 0.6, 0.6, 0.6, 0.6, 0.6, 0.6, 0.6, 0.6, 0.6, 0.6, 0.6, 0.6, 0.6, 0.6, 0.6, 0.6, 0.6, 0.6, 0.6, 0.6, 0.6, 0.6, 0.6, 0.6, 0.6, 0.6, 0.6, 0.6, 0.6, 0.6, 0.6, 0.6, 0.6, 0.6, 0.6, 0.6, 0.6, 0.6, 0.6, 0.6, 0.6, 0.6, 0.6, 0.6, 0.6, 0.6, 0.6, 0.6, 0.6, 0.6, 0.6, 0.6, 0.6, 0.6]\n"
          ]
        },
        {
          "data": {
            "image/png": "[encoded data removed]",
            "text/plain": [
              "<Figure size 432x288 with 1 Axes>"
            ]
          },
          "metadata": {},
          "output_type": "display_data"
        }
      ],
      "source": [
        "l_one_spec = []\n",
        "l_senstivity = []\n",
        "n= 100\n",
        "THRESHOLD = [i/n for i in range(0,n)]\n",
        "for i in range(n):\n",
        "    tp, tn, fp, fn = roc_homemade(PREDICTION, TRUTH, THRESHOLD[i])\n",
        "    l_one_spec.append(one_specificity(tp, tn, fp, fn))\n",
        "    l_senstivity.append(sensitivity(tp, tn, fp, fn))\n",
        "print(l_one_spec)\n",
        "print(l_senstivity)\n",
        "plt.plot(l_one_spec, l_senstivity, label=\"roc\")\n",
        "plt.plot(THRESHOLD, THRESHOLD, label=\"1ere bissectrice des axes\")\n",
        "plt.xlabel('1- Specificity')\n",
        "plt.ylabel('Sensitivity')\n",
        "plt.title('ROC curve')\n",
        "plt.xlim(0, 1)\n",
        "plt.ylim(0, 1)\n",
        "plt.show()\n"
      ]
    },
    {
      "cell_type": "code",
      "execution_count": 42,
      "metadata": {},
      "outputs": [],
      "source": [
        "import csv\n",
        "\n",
        "with open('sortie.csv', 'w') as csvfile:\n",
        "    fieldnames = ['','score', 'subject', 'session', 'paradigm']\n",
        "    writer = csv.DictWriter(csvfile, fieldnames=fieldnames)\n",
        "\n",
        "    writer.writeheader()\n",
        "    for i in range(K):\n",
        "        writer.writerow({'': i, 'score': l_senstivity[i], 'subject': subject_source, 'session': 1, 'paradigm': paradigm_name})"
      ]
    },
    {
      "cell_type": "code",
      "execution_count": 34,
      "metadata": {},
      "outputs": [
        {
          "name": "stdout",
          "output_type": "stream",
          "text": [
            "[0, 1]\n",
            "0.575\n"
          ]
        }
      ],
      "source": [
        "def accuracy_homemade(prediction, truth):\n",
        "    prediction2 =  []\n",
        "    truth2 = []\n",
        "    a = 0\n",
        "    cpt = 0\n",
        "    threshold = 0.5\n",
        "    for i in range(len(prediction)):\n",
        "        for j in range(len(prediction[i])):\n",
        "            if prediction[i][j][0]>threshold:\n",
        "                prediction2.append(0)\n",
        "            else:\n",
        "                prediction2.append(1)\n",
        "            if truth[i][j] == new_labels_names[0]: #right_hand\n",
        "                truth2.append(0)\n",
        "            elif truth[i][j] == new_labels_names[1]:  #feet\n",
        "                truth2.append(1) \n",
        "            if prediction2[a] == truth2[a]:\n",
        "                cpt += 1\n",
        "            a += 1\n",
        "    return cpt/a\n",
        "\n",
        "\n",
        "print(new_labels)\n",
        "print(accuracy_homemade(PREDICTION, TRUTH))\n"
      ]
    }
  ],
  "metadata": {
    "interpreter": {
      "hash": "916dbcbb3f70747c44a77c7bcd40155683ae19c65e1c03b4aa3499c5328201f1"
    },
    "kernelspec": {
      "display_name": "Python 3.8.10 64-bit",
      "language": "python",
      "name": "python3"
    },
    "language_info": {
      "codemirror_mode": {
        "name": "ipython",
        "version": 3
      },
      "file_extension": ".py",
      "mimetype": "text/x-python",
      "name": "python",
      "nbconvert_exporter": "python",
      "pygments_lexer": "ipython3",
      "version": "3.8.10"
    }
  },
  "nbformat": 4,
  "nbformat_minor": 0
}
