{
  "cells": [
    {
      "cell_type": "code",
      "execution_count": 121,
      "metadata": {
        "collapsed": false
      },
      "outputs": [],
      "source": [
        "import matplotlib.pyplot as plt\n",
        "import pandas as pd\n",
        "import seaborn as sns\n",
        "from mne.decoding import CSP\n",
        "from sklearn.discriminant_analysis import LinearDiscriminantAnalysis as LDA\n",
        "from sklearn.pipeline import make_pipeline\n",
        "\n",
        "import moabb\n",
        "from moabb.datasets import Weibo2014\n",
        "from moabb.datasets import Zhou2016\n",
        "from moabb.datasets import BNCI2014004\n",
        "from moabb.datasets import BNCI2014002\n",
        "from moabb.datasets import BNCI2015001\n",
        "from moabb.datasets import AlexMI\n",
        "\n",
        "from moabb.evaluations import WithinSessionEvaluation\n",
        "from moabb.evaluations import CrossSessionEvaluation\n",
        "\n",
        "\n",
        "import mne\n",
        "from mne.preprocessing import Xdawn\n",
        "from mne.decoding import CSP\n",
        "\n",
        "\n",
        "from moabb.paradigms import MotorImagery\n",
        "from pyriemann.estimation import Covariances\n",
        "from pyriemann.utils.covariance import covariances\n",
        "from pyriemann.estimation import ERPCovariances\n",
        "from pyriemann.estimation import XdawnCovariances\n",
        "from pyriemann.classification import MDM\n",
        "from pyriemann.classification import KNearestNeighbor\n",
        "from pyriemann.tangentspace import TangentSpace\n",
        "from sklearn.model_selection import KFold\n",
        "from sklearn.model_selection import cross_val_score\n",
        "from sklearn.svm import SVC\n",
        "from sklearn.metrics import roc_auc_score"
      ]
    },
    {
      "cell_type": "code",
      "execution_count": 123,
      "metadata": {
        "collapsed": false
      },
      "outputs": [
        {
          "name": "stderr",
          "output_type": "stream",
          "text": [
            "Choosing from all possible events\n"
          ]
        }
      ],
      "source": [
        "paradigm = MotorImagery()\n",
        "paradigm_name = 'MI'"
      ]
    },
    {
      "cell_type": "code",
      "execution_count": 124,
      "metadata": {
        "collapsed": false
      },
      "outputs": [],
      "source": [
        "pipelines = {}\n",
        "pipelines[\"(1) epo-mdm-euc\"] = make_pipeline(MDM(metric=\"euclid\"))\n",
        "#pipelines[\"(2) epo-knn-euc\"] = make_pipeline(KNearestNeighbor(), MDM(metric=\"euclid\"))\n",
        "# #default 5 neighbors\n",
        "#pipelines[\"(3) cov-dia-lda\"] = make_pipeline(Covariances(), _sch), LDA())\n",
        "# #sch for schaffer\n",
        "pipelines[\"(4) epo-csp-lda\"] = make_pipeline(CSP(), LDA())\n",
        "#pipelines[\"(5) cov-knn-euc\"] = make_pipeline(Covariances(), KNearestNeighbor(metric=\"euclid\"))\n",
        "# # pipelines[\"(6) cov-knn-rie\"] = make_pipeline(Covariances(), KNearestNeighbor())\n",
        "# # #default riemannian\n",
        "pipelines[\"(7) cov-mdm-euc\"] = make_pipeline(Covariances(), MDM(metric=\"euclid\"))\n",
        "# # pipelines[\"(8) cov-mdm-rie\"] = make_pipeline(Covariances(), MDM())\n",
        "#pipelines[\"(9) cov-tgs-lda\"] = make_pipeline(Covariances(), TangentSpace(), LDA())\n",
        "# # #(default: 'riemann')\n",
        "\n"
      ]
    },
    {
      "cell_type": "markdown",
      "metadata": {},
      "source": []
    },
    {
      "cell_type": "code",
      "execution_count": 125,
      "metadata": {
        "collapsed": false
      },
      "outputs": [
        {
          "name": "stdout",
          "output_type": "stream",
          "text": [
            "['right_hand', 'feet']\n",
            "[1, 0]\n"
          ]
        }
      ],
      "source": [
        "datasets = [AlexMI()]\n",
        "subj = [1, 2, 3 ,4]\n",
        "subject_source = 1\n",
        "d = datasets[0]\n",
        "d.subject_list = subj\n",
        "paradigm = paradigm\n",
        "data_source = {}\n",
        "X, labels, meta = paradigm.get_data(d, subjects=[subject_source])\n",
        "data_source['covs'] = Covariances(estimator='lwf').fit_transform(X)\n",
        "data_source['labels'] = labels\n",
        "new_labels = []\n",
        "while len(new_labels)<2:\n",
        "    for elt in labels:\n",
        "        if elt not in new_labels:\n",
        "            new_labels.append(elt)\n",
        "print(new_labels)\n",
        "new_labels[0]=1\n",
        "new_labels[1]=0\n",
        "print(new_labels)\n",
        "source = {}\n",
        "target_train = {}\n",
        "target_test = {}\n"
      ]
    },
    {
      "cell_type": "code",
      "execution_count": 126,
      "metadata": {},
      "outputs": [
        {
          "data": {
            "text/plain": [
              "array([0.46875   , 0.4       , 0.58333333, 0.375     , 0.53333333])"
            ]
          },
          "execution_count": 126,
          "metadata": {},
          "output_type": "execute_result"
        }
      ],
      "source": [
        "from sklearn.model_selection import KFold\n",
        "\n",
        "cv = KFold(n_splits=5, shuffle=True, random_state=42)\n",
        "cross_val_score(pipelines[\"(1) epo-mdm-euc\"], data_source['covs'], data_source['labels'], cv=cv, scoring='roc_auc')\n"
      ]
    },
    {
      "cell_type": "code",
      "execution_count": 172,
      "metadata": {},
      "outputs": [
        {
          "name": "stdout",
          "output_type": "stream",
          "text": [
            "[7.32937340e-09 9.99999993e-01]\n",
            "['right_hand' 'feet' 'feet' 'feet' 'feet' 'right_hand']\n"
          ]
        }
      ],
      "source": [
        "from sklearn.model_selection import KFold\n",
        "\n",
        "K = 7\n",
        "\n",
        "cv = KFold(n_splits=K, shuffle=True, random_state=42)\n",
        "PREDICTION = []\n",
        "TRUTH = []\n",
        "for train, test in cv.split(data_source['covs']):\n",
        "    TRUTH.append(data_source['labels'][test])\n",
        "    model = MDM(metric=\"euclid\").fit(data_source['covs'][train], data_source['labels'][train])\n",
        "    a = model.predict_proba(data_source['covs'][test])\n",
        "    #a = model.predict(data_source['covs'][test])\n",
        "    # e = 0.9999\n",
        "    # for elt in a:\n",
        "    #     if elt[0]>e:\n",
        "    #         elt[1]=0\n",
        "    #     if elt[1]>e:\n",
        "    #         elt[0]=0\n",
        "    PREDICTION.append(a)\n",
        "print(PREDICTION[0][0])\n",
        "print(TRUTH[0])"
      ]
    },
    {
      "cell_type": "code",
      "execution_count": 177,
      "metadata": {},
      "outputs": [],
      "source": [
        "def roc_homemade(prediction, truth, threshold):\n",
        "    tp = 0\n",
        "    tn = 0\n",
        "    fp = 0\n",
        "    fn = 0\n",
        "    prediction2 =  []\n",
        "    truth2 = []\n",
        "    a = 0\n",
        "    for i in range(len(prediction)):\n",
        "        for j in range(len(prediction[i])):\n",
        "            if prediction[i][j][0]>threshold:\n",
        "                prediction2.append(new_labels[1])\n",
        "            else:\n",
        "                prediction2.append(new_labels[0])\n",
        "            if truth[i][j] == \"right_hand\":\n",
        "                truth2.append(new_labels[0])\n",
        "            elif truth[i][j] == \"feet\":\n",
        "                truth2.append(new_labels[1])\n",
        "            if prediction2[a] == new_labels[0] and truth2[a] == new_labels[0]:\n",
        "                tp += 1\n",
        "            elif prediction2[a] == new_labels[1] and truth2[a] == new_labels[1]:\n",
        "                tn += 1\n",
        "            elif prediction2[a] == new_labels[0] and truth2[a] == new_labels[1]:\n",
        "                fp += 1\n",
        "            elif prediction2[a] == new_labels[1] and truth2[a] == new_labels[0]:\n",
        "                fn += 1\n",
        "            a += 1\n",
        "    return tp, tn, fp, fn\n",
        "\n",
        "def sensitivity(tp, tn, fp, fn):\n",
        "    if tp+fn == 0:\n",
        "        return 0\n",
        "    return tp/(tp+fn)\n",
        "\n",
        "def one_specificity(tp, tn, fp, fn):\n",
        "    if fp+tn == 0:\n",
        "        return 0\n",
        "    return 1- (tn/(tn+fp))\n",
        "\n",
        "def accuracy(tp, tn, fp, fn):\n",
        "    return (tp+tn)/(tp+tn+fp+fn)\n"
      ]
    },
    {
      "cell_type": "code",
      "execution_count": 180,
      "metadata": {},
      "outputs": [
        {
          "name": "stdout",
          "output_type": "stream",
          "text": [
            "[0.050000000000000044, 0.5, 0.5, 0.5, 0.5, 0.5, 0.5, 0.5, 0.5, 0.55, 0.55, 0.55, 0.55, 0.55, 0.55, 0.55, 0.55, 0.55, 0.55, 0.55, 0.55, 0.55, 0.55, 0.55, 0.55, 0.55, 0.55, 0.55, 0.55, 0.55, 0.55, 0.55, 0.55, 0.55, 0.55, 0.55, 0.55, 0.55, 0.55, 0.55, 0.55, 0.55, 0.55, 0.55, 0.55, 0.55, 0.55, 0.55, 0.55, 0.55, 0.55, 0.55, 0.55, 0.55, 0.55, 0.55, 0.55, 0.55, 0.55, 0.55, 0.55, 0.55, 0.55, 0.55, 0.55, 0.55, 0.55, 0.55, 0.55, 0.55, 0.55, 0.55, 0.55, 0.55, 0.55, 0.55, 0.55, 0.55, 0.55, 0.55, 0.55, 0.55, 0.55, 0.55, 0.55, 0.55, 0.55, 0.55, 0.55, 0.55, 0.55, 0.55, 0.55, 0.55, 0.55, 0.55, 0.55, 0.55, 0.55, 0.55]\n",
            "[0.0, 0.7, 0.7, 0.7, 0.7, 0.7, 0.7, 0.7, 0.7, 0.7, 0.7, 0.7, 0.7, 0.7, 0.7, 0.7, 0.7, 0.7, 0.7, 0.7, 0.7, 0.7, 0.7, 0.7, 0.7, 0.7, 0.7, 0.7, 0.7, 0.7, 0.7, 0.7, 0.7, 0.7, 0.7, 0.7, 0.7, 0.7, 0.7, 0.7, 0.7, 0.7, 0.7, 0.7, 0.7, 0.7, 0.7, 0.7, 0.7, 0.7, 0.7, 0.7, 0.7, 0.7, 0.7, 0.7, 0.7, 0.7, 0.7, 0.7, 0.7, 0.7, 0.7, 0.7, 0.7, 0.7, 0.7, 0.7, 0.7, 0.7, 0.7, 0.7, 0.7, 0.7, 0.7, 0.7, 0.7, 0.7, 0.7, 0.7, 0.7, 0.7, 0.7, 0.7, 0.7, 0.7, 0.7, 0.7, 0.7, 0.7, 0.7, 0.7, 0.7, 0.7, 0.7, 0.7, 0.7, 0.7, 0.7, 0.7]\n"
          ]
        },
        {
          "data": {
            "text/plain": [
              "[<matplotlib.lines.Line2D at 0x7f1622f69490>]"
            ]
          },
          "execution_count": 180,
          "metadata": {},
          "output_type": "execute_result"
        },
        {
          "data": {
            "image/png": "[encoded data removed]",
            "text/plain": [
              "<Figure size 432x288 with 1 Axes>"
            ]
          },
          "metadata": {},
          "output_type": "display_data"
        }
      ],
      "source": [
        "l_one_spec = []\n",
        "l_senstivity = []\n",
        "THRESHOLD = [i/100 for i in range(0,100)]\n",
        "for i in range(100):\n",
        "    tp, tn, fp, fn = roc_homemade(PREDICTION, TRUTH, THRESHOLD[i])\n",
        "    l_one_spec.append(one_specificity(tp, tn, fp, fn))\n",
        "    l_senstivity.append(sensitivity(tp, tn, fp, fn))\n",
        "print(l_one_spec)\n",
        "print(l_senstivity)\n",
        "plt.plot(l_one_spec, l_senstivity)"
      ]
    },
    {
      "cell_type": "code",
      "execution_count": 181,
      "metadata": {},
      "outputs": [],
      "source": [
        "import csv\n",
        "\n",
        "with open('sortie.csv', 'w') as csvfile:\n",
        "    fieldnames = ['','score', 'subject', 'session', 'paradigm']\n",
        "    writer = csv.DictWriter(csvfile, fieldnames=fieldnames)\n",
        "\n",
        "    writer.writeheader()\n",
        "    for i in range(K):\n",
        "        writer.writerow({'': i, 'score': l_senstivity[i], 'subject': subject_source, 'session': 1, 'paradigm': paradigm_name})"
      ]
    },
    {
      "cell_type": "code",
      "execution_count": 182,
      "metadata": {},
      "outputs": [
        {
          "name": "stdout",
          "output_type": "stream",
          "text": [
            "0.0\n",
            "0.0\n",
            "0.0\n",
            "0.0\n",
            "0.0\n",
            "0.0\n",
            "0.0\n"
          ]
        },
        {
          "name": "stderr",
          "output_type": "stream",
          "text": [
            "<ipython-input-182-c77d84ee6528>:5: FutureWarning: elementwise comparison failed; returning scalar instead, but in the future will perform elementwise comparison\n",
            "  if P[k] == T[k]:\n"
          ]
        }
      ],
      "source": [
        "def accuracy_homemade(P, T):\n",
        "    cpt = 0\n",
        "    m = min(len(P), len(T))\n",
        "    for k in range(m):\n",
        "        if P[k] == T[k]:\n",
        "            cpt+=1\n",
        "    return cpt/m\n",
        "\n",
        "for i in range(K):\n",
        "    print(accuracy_homemade(PREDICTION[i], TRUTH[i]))\n"
      ]
    }
  ],
  "metadata": {
    "interpreter": {
      "hash": "916dbcbb3f70747c44a77c7bcd40155683ae19c65e1c03b4aa3499c5328201f1"
    },
    "kernelspec": {
      "display_name": "Python 3.8.10 64-bit",
      "language": "python",
      "name": "python3"
    },
    "language_info": {
      "codemirror_mode": {
        "name": "ipython",
        "version": 3
      },
      "file_extension": ".py",
      "mimetype": "text/x-python",
      "name": "python",
      "nbconvert_exporter": "python",
      "pygments_lexer": "ipython3",
      "version": "3.8.10"
    }
  },
  "nbformat": 4,
  "nbformat_minor": 0
}
