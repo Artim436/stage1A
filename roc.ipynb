{
  "cells": [
    {
      "cell_type": "code",
      "execution_count": 1,
      "metadata": {
        "collapsed": false
      },
      "outputs": [],
      "source": [
        "import warnings\n",
        "\n",
        "import matplotlib.pyplot as plt\n",
        "import pandas as pd\n",
        "import seaborn as sns\n",
        "from mne.decoding import CSP\n",
        "from sklearn.discriminant_analysis import LinearDiscriminantAnalysis as LDA\n",
        "from sklearn.pipeline import make_pipeline\n",
        "\n",
        "import moabb\n",
        "from moabb.datasets import Weibo2014\n",
        "from moabb.datasets import Zhou2016\n",
        "from moabb.datasets import BNCI2014004\n",
        "from moabb.datasets import BNCI2014002\n",
        "from moabb.datasets import BNCI2015001\n",
        "from moabb.datasets import AlexMI\n",
        "\n",
        "from moabb.evaluations import WithinSessionEvaluation\n",
        "from moabb.evaluations import CrossSessionEvaluation\n",
        "\n",
        "\n",
        "import mne\n",
        "from mne.preprocessing import Xdawn\n",
        "from mne.decoding import CSP\n",
        "\n",
        "\n",
        "from moabb.paradigms import MotorImagery\n",
        "from pyriemann.estimation import Covariances\n",
        "from pyriemann.utils.covariance import covariances\n",
        "from pyriemann.estimation import ERPCovariances\n",
        "from pyriemann.estimation import XdawnCovariances\n",
        "from pyriemann.classification import MDM\n",
        "from pyriemann.classification import KNearestNeighbor\n",
        "from pyriemann.tangentspace import TangentSpace\n",
        "from sklearn.model_selection import KFold\n",
        "from sklearn.model_selection import cross_val_score\n",
        "from sklearn.svm import SVC\n",
        "from sklearn.metrics import roc_auc_score"
      ]
    },
    {
      "cell_type": "code",
      "execution_count": 2,
      "metadata": {
        "collapsed": false
      },
      "outputs": [
        {
          "name": "stderr",
          "output_type": "stream",
          "text": [
            "Choosing from all possible events\n"
          ]
        }
      ],
      "source": [
        "paradigm = MotorImagery()\n",
        "paradigm_name = 'MI'"
      ]
    },
    {
      "cell_type": "code",
      "execution_count": 3,
      "metadata": {
        "collapsed": false
      },
      "outputs": [],
      "source": [
        "pipelines = {}\n",
        "pipelines[\"(1) epo-mdm-euc\"] = make_pipeline(MDM(metric=\"euclid\"))\n",
        "#pipelines[\"(2) epo-knn-euc\"] = make_pipeline(KNearestNeighbor(), MDM(metric=\"euclid\"))\n",
        "# #default 5 neighbors\n",
        "#pipelines[\"(3) cov-dia-lda\"] = make_pipeline(Covariances(), _sch), LDA())\n",
        "# #sch for schaffer\n",
        "pipelines[\"(4) epo-csp-lda\"] = make_pipeline(CSP(), LDA())\n",
        "#pipelines[\"(5) cov-knn-euc\"] = make_pipeline(Covariances(), KNearestNeighbor(metric=\"euclid\"))\n",
        "# # pipelines[\"(6) cov-knn-rie\"] = make_pipeline(Covariances(), KNearestNeighbor())\n",
        "# # #default riemannian\n",
        "pipelines[\"(7) cov-mdm-euc\"] = make_pipeline(Covariances(), MDM(metric=\"euclid\"))\n",
        "# # pipelines[\"(8) cov-mdm-rie\"] = make_pipeline(Covariances(), MDM())\n",
        "#pipelines[\"(9) cov-tgs-lda\"] = make_pipeline(Covariances(), TangentSpace(), LDA())\n",
        "# # #(default: 'riemann')\n",
        "\n"
      ]
    },
    {
      "cell_type": "markdown",
      "metadata": {},
      "source": []
    },
    {
      "cell_type": "code",
      "execution_count": 25,
      "metadata": {
        "collapsed": false
      },
      "outputs": [],
      "source": [
        "datasets = [AlexMI()]\n",
        "subj = [1, 2, 3 ,4]\n",
        "subject_source = 1\n",
        "d = datasets[0]\n",
        "d.subject_list = subj\n",
        "paradigm = paradigm\n",
        "data_source = {}\n",
        "X, labels, meta = paradigm.get_data(d, subjects=[subject_source])\n",
        "data_source['covs'] = Covariances(estimator='lwf').fit_transform(X)\n",
        "data_source['labels'] = labels\n",
        "\n",
        "new_labels = []\n",
        "while len(new_labels)<2:\n",
        "    for elt in labels:\n",
        "        if elt not in new_labels:\n",
        "            new_labels.append(elt)\n",
        "\n",
        "source = {}\n",
        "target_train = {}\n",
        "target_test = {}\n"
      ]
    },
    {
      "cell_type": "code",
      "execution_count": 26,
      "metadata": {},
      "outputs": [
        {
          "data": {
            "text/plain": [
              "array([0.46875   , 0.4       , 0.58333333, 0.375     , 0.53333333])"
            ]
          },
          "execution_count": 26,
          "metadata": {},
          "output_type": "execute_result"
        }
      ],
      "source": [
        "from sklearn.model_selection import KFold\n",
        "\n",
        "cv = KFold(n_splits=5, shuffle=True, random_state=42)\n",
        "cross_val_score(pipelines[\"(1) epo-mdm-euc\"], data_source['covs'], data_source['labels'], cv=cv, scoring='roc_auc')\n"
      ]
    },
    {
      "cell_type": "code",
      "execution_count": 63,
      "metadata": {},
      "outputs": [
        {
          "name": "stdout",
          "output_type": "stream",
          "text": [
            "[[0.00494223 0.99505777]\n",
            " [1.         0.        ]\n",
            " [1.         0.        ]\n",
            " [0.         1.        ]\n",
            " [0.         0.99993446]\n",
            " [0.99999995 0.        ]\n",
            " [0.         1.        ]\n",
            " [1.         0.        ]]\n"
          ]
        }
      ],
      "source": [
        "from sklearn.model_selection import KFold\n",
        "\n",
        "K = 5\n",
        "\n",
        "cv = KFold(n_splits=K, shuffle=True, random_state=42)\n",
        "PREDICTION = []\n",
        "TRUTH = []\n",
        "for train, test in cv.split(data_source['covs']):\n",
        "    TRUTH.append(data_source['labels'][test])\n",
        "    model = MDM(metric=\"euclid\").fit(data_source['covs'][train], data_source['labels'][train])\n",
        "    a = model.predict_proba(data_source['covs'][test])\n",
        "    e = 0.9999\n",
        "    for elt in a:\n",
        "        if elt[0]>e:\n",
        "            elt[1]=0\n",
        "        if elt[1]>e:\n",
        "            elt[0]=0\n",
        "    PREDICTION.append(a)\n",
        "print(PREDICTION[0])"
      ]
    },
    {
      "cell_type": "code",
      "execution_count": 37,
      "metadata": {},
      "outputs": [
        {
          "name": "stdout",
          "output_type": "stream",
          "text": [
            "40\n",
            "8\n",
            "5\n"
          ]
        }
      ],
      "source": [
        "print(len(data_source['covs']))\n",
        "print(len(PREDICTION[0]))\n",
        "print(len(PREDICTION))"
      ]
    },
    {
      "cell_type": "code",
      "execution_count": 48,
      "metadata": {},
      "outputs": [
        {
          "name": "stderr",
          "output_type": "stream",
          "text": [
            "<ipython-input-48-70c598e6dd8c>:7: FutureWarning: elementwise comparison failed; returning scalar instead, but in the future will perform elementwise comparison\n",
            "  if prediction[i] == new_labels[0] and truth[i] == new_labels[0]:\n",
            "<ipython-input-48-70c598e6dd8c>:9: FutureWarning: elementwise comparison failed; returning scalar instead, but in the future will perform elementwise comparison\n",
            "  elif prediction[i] == new_labels[1] and truth[i] == new_labels[1]:\n",
            "<ipython-input-48-70c598e6dd8c>:11: FutureWarning: elementwise comparison failed; returning scalar instead, but in the future will perform elementwise comparison\n",
            "  elif prediction[i] == new_labels[0] and truth[i] == new_labels[1]:\n",
            "<ipython-input-48-70c598e6dd8c>:13: FutureWarning: elementwise comparison failed; returning scalar instead, but in the future will perform elementwise comparison\n",
            "  elif prediction[i] == new_labels[1] and truth[i] == new_labels[0]:\n"
          ]
        },
        {
          "data": {
            "text/plain": [
              "[<matplotlib.lines.Line2D at 0x7f16232ec490>]"
            ]
          },
          "execution_count": 48,
          "metadata": {},
          "output_type": "execute_result"
        },
        {
          "data": {
            "image/png": "[encoded data removed]",
            "text/plain": [
              "<Figure size 432x288 with 1 Axes>"
            ]
          },
          "metadata": {},
          "output_type": "display_data"
        }
      ],
      "source": [
        "def roc_homemade(prediction, truth):\n",
        "    tp = 0\n",
        "    tn = 0\n",
        "    fp = 0\n",
        "    fn = 0\n",
        "    for i in range(len(prediction)):\n",
        "        if prediction[i] == new_labels[0] and truth[i] == new_labels[0]:\n",
        "            tp += 1\n",
        "        elif prediction[i] == new_labels[1] and truth[i] == new_labels[1]:\n",
        "            tn += 1\n",
        "        elif prediction[i] == new_labels[0] and truth[i] == new_labels[1]:\n",
        "            fp += 1\n",
        "        elif prediction[i] == new_labels[1] and truth[i] == new_labels[0]:\n",
        "            fn += 1\n",
        "    return tp, tn, fp, fn\n",
        "\n",
        "def sensitivity(tp, tn, fp, fn):\n",
        "    if tp+fn == 0:\n",
        "        return 0\n",
        "    return tp/(tp+fn)\n",
        "\n",
        "def one_specificity(tp, tn, fp, fn):\n",
        "    if fp+tn == 0:\n",
        "        return 0\n",
        "    return 1- (tn/(tn+fp))\n",
        "\n",
        "def accuracy(tp, tn, fp, fn):\n",
        "    return (tp+tn)/(tp+tn+fp+fn)\n",
        "\n",
        "\n",
        "l_one_spec = []\n",
        "l_senstivity = []\n",
        "for i in range(K):\n",
        "    tp, tn, fp, fn = roc_homemade(PREDICTION[i], TRUTH[i])\n",
        "    l_one_spec.append(one_specificity(tp, tn, fp, fn))\n",
        "    l_senstivity.append(sensitivity(tp, tn, fp, fn))\n",
        "\n",
        "plt.plot([i for i in range(K)], l_senstivity)\n"
      ]
    },
    {
      "cell_type": "code",
      "execution_count": 13,
      "metadata": {},
      "outputs": [],
      "source": [
        "import csv\n",
        "\n",
        "with open('sortie.csv', 'w') as csvfile:\n",
        "    fieldnames = ['','score', 'subject', 'session', 'paradigm']\n",
        "    writer = csv.DictWriter(csvfile, fieldnames=fieldnames)\n",
        "\n",
        "    writer.writeheader()\n",
        "    for i in range(K):\n",
        "        writer.writerow({'': i, 'score': l_senstivity[i], 'subject': subject_source, 'session': 1, 'paradigm': paradigm_name})"
      ]
    },
    {
      "cell_type": "code",
      "execution_count": 14,
      "metadata": {},
      "outputs": [
        {
          "name": "stdout",
          "output_type": "stream",
          "text": [
            "0.59375\n",
            "0.59375\n",
            "0.625\n",
            "0.6875\n",
            "0.53125\n",
            "0.46875\n",
            "0.59375\n",
            "0.4375\n",
            "0.59375\n",
            "0.5161290322580645\n"
          ]
        }
      ],
      "source": [
        "def accuracy_homemade(P, T):\n",
        "    cpt = 0\n",
        "    m = min(len(P), len(T))\n",
        "    for k in range(m):\n",
        "        if P[k] == T[k]:\n",
        "            cpt+=1\n",
        "    return cpt/m\n",
        "\n",
        "for i in range(K):\n",
        "    print(accuracy_homemade(PREDICTION[i], TRUTH[i]))\n"
      ]
    }
  ],
  "metadata": {
    "interpreter": {
      "hash": "916dbcbb3f70747c44a77c7bcd40155683ae19c65e1c03b4aa3499c5328201f1"
    },
    "kernelspec": {
      "display_name": "Python 3.8.10 64-bit",
      "language": "python",
      "name": "python3"
    },
    "language_info": {
      "codemirror_mode": {
        "name": "ipython",
        "version": 3
      },
      "file_extension": ".py",
      "mimetype": "text/x-python",
      "name": "python",
      "nbconvert_exporter": "python",
      "pygments_lexer": "ipython3",
      "version": "3.8.10"
    }
  },
  "nbformat": 4,
  "nbformat_minor": 0
}
