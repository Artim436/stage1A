{
  "cells": [
    {
      "cell_type": "code",
      "execution_count": 1,
      "metadata": {
        "collapsed": false
      },
      "outputs": [],
      "source": [
        "import warnings\n",
        "\n",
        "import numpy as np\n",
        "import matplotlib.pyplot as plt\n",
        "import pandas as pd\n",
        "import seaborn as sns\n",
        "from mne.decoding import CSP\n",
        "from sklearn.discriminant_analysis import LinearDiscriminantAnalysis as LDA\n",
        "from sklearn.pipeline import make_pipeline\n",
        "\n",
        "import moabb\n",
        "from moabb.datasets import Weibo2014\n",
        "from moabb.datasets import Zhou2016\n",
        "from moabb.datasets import BNCI2014004\n",
        "from moabb.datasets import BNCI2014002\n",
        "from moabb.datasets import BNCI2015001\n",
        "from moabb.datasets import AlexMI\n",
        "\n",
        "\n",
        "from moabb.evaluations import WithinSessionEvaluation\n",
        "from moabb.evaluations import CrossSessionEvaluation\n",
        "\n",
        "\n",
        "import mne\n",
        "from mne.preprocessing import Xdawn\n",
        "from mne.decoding import CSP\n",
        "\n",
        "\n",
        "from moabb.paradigms import MotorImagery\n",
        "from pyriemann.estimation import Covariances\n",
        "from pyriemann.utils.covariance import covariances\n",
        "from pyriemann.estimation import ERPCovariances\n",
        "from pyriemann.estimation import XdawnCovariances\n",
        "from pyriemann.classification import MDM\n",
        "from pyriemann.classification import KNearestNeighbor\n",
        "from pyriemann.tangentspace import TangentSpace\n",
        "from pyriemann.datasets import make_gaussian_blobs\n",
        "from sklearn.model_selection import KFold\n",
        "from sklearn.model_selection import cross_val_score\n",
        "from sklearn.svm import SVC\n",
        "from sklearn.metrics import roc_auc_score"
      ]
    },
    {
      "cell_type": "code",
      "execution_count": 2,
      "metadata": {
        "collapsed": false
      },
      "outputs": [
        {
          "name": "stderr",
          "output_type": "stream",
          "text": [
            "Choosing from all possible events\n"
          ]
        }
      ],
      "source": [
        "paradigm = MotorImagery()\n",
        "paradigm_name = 'MI'"
      ]
    },
    {
      "cell_type": "code",
      "execution_count": 3,
      "metadata": {
        "collapsed": false
      },
      "outputs": [],
      "source": [
        "pipelines = {}\n",
        "pipelines[\"(1) epo-mdm-euc\"] = make_pipeline(MDM(metric=\"euclid\"))\n",
        "#pipelines[\"(2) epo-knn-euc\"] = make_pipeline(KNearestNeighbor(), MDM(metric=\"euclid\"))\n",
        "# #default 5 neighbors\n",
        "# pipelines[\"(3) cov-dia-lda\"] = make_pipeline(Covariances('oas'), LDA())\n",
        "# #sch for schaffer\n",
        "pipelines[\"(4) epo-csp-lda\"] = make_pipeline(CSP(), LDA())\n",
        "pipelines[\"(5) cov-knn-euc\"] = make_pipeline(Covariances('oas'), KNearestNeighbor(metric=\"euclid\"))\n",
        "pipelines[\"(6) cov-knn-rie\"] = make_pipeline(Covariances('oas'), KNearestNeighbor())\n",
        "# # #default riemannian\n",
        "pipelines[\"(7) cov-mdm-euc\"] = make_pipeline(Covariances('oas'), MDM(metric=\"euclid\"))\n",
        "pipelines[\"(8) cov-mdm-rie\"] = make_pipeline(Covariances('oas'), MDM())\n",
        "pipelines[\"(9) cov-tgs-lda\"] = make_pipeline(Covariances('oas'), TangentSpace(), LDA())\n",
        "# # #(default: 'riemann')\n",
        "#4, 8, 9\n"
      ]
    },
    {
      "cell_type": "code",
      "execution_count": 4,
      "metadata": {},
      "outputs": [],
      "source": [
        "n_matrices = 100  # how many matrices to sample on each class\n",
        "n_dim = 4  # dimensionality of the data points\n",
        "sigma = 0.5  # dispersion of the Gaussian distributions\n",
        "random_state = 42  # ensure reproducibility"
      ]
    },
    {
      "cell_type": "code",
      "execution_count": 5,
      "metadata": {},
      "outputs": [
        {
          "name": "stderr",
          "output_type": "stream",
          "text": [
            "Choosing from all possible events\n",
            "Trial data de-meaned and concatenated with a buffer to create cont data\n"
          ]
        },
        {
          "name": "stdout",
          "output_type": "stream",
          "text": [
            "Reading 0 ... 305029  =      0.000 ...  1220.116 secs...\n"
          ]
        },
        {
          "name": "stderr",
          "output_type": "stream",
          "text": [
            "/home/artim436/.local/lib/python3.8/site-packages/moabb/datasets/Zhou2016.py:102: RuntimeWarning:   Could not parse meas date from the header. Setting to None.\n",
            "  raw = read_raw_cnt(fname, preload=True, eog=[\"VEOU\", \"VEOL\"])\n",
            "/home/artim436/.local/lib/python3.8/site-packages/moabb/datasets/Zhou2016.py:102: RuntimeWarning: Could not define the number of bytes automatically. Defaulting to 2.\n",
            "  raw = read_raw_cnt(fname, preload=True, eog=[\"VEOU\", \"VEOL\"])\n"
          ]
        },
        {
          "name": "stdout",
          "output_type": "stream",
          "text": [
            "Reading 0 ... 430479  =      0.000 ...  1721.916 secs...\n"
          ]
        },
        {
          "name": "stderr",
          "output_type": "stream",
          "text": [
            "/home/artim436/.local/lib/python3.8/site-packages/moabb/datasets/Zhou2016.py:102: RuntimeWarning:   Could not parse meas date from the header. Setting to None.\n",
            "  raw = read_raw_cnt(fname, preload=True, eog=[\"VEOU\", \"VEOL\"])\n",
            "/home/artim436/.local/lib/python3.8/site-packages/moabb/datasets/Zhou2016.py:102: RuntimeWarning: Could not define the number of bytes automatically. Defaulting to 2.\n",
            "  raw = read_raw_cnt(fname, preload=True, eog=[\"VEOU\", \"VEOL\"])\n"
          ]
        },
        {
          "name": "stdout",
          "output_type": "stream",
          "text": [
            "Reading 0 ... 252599  =      0.000 ...  1010.396 secs...\n"
          ]
        },
        {
          "name": "stderr",
          "output_type": "stream",
          "text": [
            "/home/artim436/.local/lib/python3.8/site-packages/moabb/datasets/Zhou2016.py:102: RuntimeWarning:   Could not parse meas date from the header. Setting to None.\n",
            "  raw = read_raw_cnt(fname, preload=True, eog=[\"VEOU\", \"VEOL\"])\n",
            "/home/artim436/.local/lib/python3.8/site-packages/moabb/datasets/Zhou2016.py:102: RuntimeWarning: Could not define the number of bytes automatically. Defaulting to 2.\n",
            "  raw = read_raw_cnt(fname, preload=True, eog=[\"VEOU\", \"VEOL\"])\n"
          ]
        },
        {
          "name": "stdout",
          "output_type": "stream",
          "text": [
            "Reading 0 ... 296649  =      0.000 ...  1186.596 secs...\n"
          ]
        },
        {
          "name": "stderr",
          "output_type": "stream",
          "text": [
            "/home/artim436/.local/lib/python3.8/site-packages/moabb/datasets/Zhou2016.py:102: RuntimeWarning:   Could not parse meas date from the header. Setting to None.\n",
            "  raw = read_raw_cnt(fname, preload=True, eog=[\"VEOU\", \"VEOL\"])\n",
            "/home/artim436/.local/lib/python3.8/site-packages/mne/io/cnt/cnt.py:239: RuntimeWarning: overflow encountered in int_scalars\n",
            "  data_size // (n_samples * n_channels) not in [2, 4]):\n",
            "/home/artim436/.local/lib/python3.8/site-packages/moabb/datasets/Zhou2016.py:102: RuntimeWarning: Could not define the number of bytes automatically. Defaulting to 2.\n",
            "  raw = read_raw_cnt(fname, preload=True, eog=[\"VEOU\", \"VEOL\"])\n"
          ]
        },
        {
          "name": "stdout",
          "output_type": "stream",
          "text": [
            "Reading 0 ... 233249  =      0.000 ...   932.996 secs...\n"
          ]
        },
        {
          "name": "stderr",
          "output_type": "stream",
          "text": [
            "/home/artim436/.local/lib/python3.8/site-packages/moabb/datasets/Zhou2016.py:102: RuntimeWarning:   Could not parse meas date from the header. Setting to None.\n",
            "  raw = read_raw_cnt(fname, preload=True, eog=[\"VEOU\", \"VEOL\"])\n",
            "/home/artim436/.local/lib/python3.8/site-packages/moabb/datasets/Zhou2016.py:102: RuntimeWarning: Could not define the number of bytes automatically. Defaulting to 2.\n",
            "  raw = read_raw_cnt(fname, preload=True, eog=[\"VEOU\", \"VEOL\"])\n"
          ]
        },
        {
          "name": "stdout",
          "output_type": "stream",
          "text": [
            "Reading 0 ... 226219  =      0.000 ...   904.876 secs...\n"
          ]
        },
        {
          "name": "stderr",
          "output_type": "stream",
          "text": [
            "/home/artim436/.local/lib/python3.8/site-packages/moabb/datasets/Zhou2016.py:102: RuntimeWarning:   Could not parse meas date from the header. Setting to None.\n",
            "  raw = read_raw_cnt(fname, preload=True, eog=[\"VEOU\", \"VEOL\"])\n",
            "/home/artim436/.local/lib/python3.8/site-packages/moabb/datasets/Zhou2016.py:102: RuntimeWarning: Could not define the number of bytes automatically. Defaulting to 2.\n",
            "  raw = read_raw_cnt(fname, preload=True, eog=[\"VEOU\", \"VEOL\"])\n"
          ]
        },
        {
          "name": "stdout",
          "output_type": "stream",
          "text": [
            "[0.6484375, 0.8560735887096774, 0.725]\n"
          ]
        }
      ],
      "source": [
        "scores_array = []\n",
        "datasets = [Weibo2014(), Zhou2016(), AlexMI()]\n",
        "subj = [1, 2, 3, 4]\n",
        "subject_source = 1\n",
        "paradigm = MotorImagery()\n",
        "DSM = []\n",
        "DSL = []\n",
        "data_source = {}\n",
        "for d in datasets:\n",
        "    X, labels, meta = paradigm.get_data(d, subjects=[subject_source])\n",
        "    data_source['covs'], data_source['labels'] = Covariances('oas').fit_transform(X), labels\n",
        "    DSM.append(data_source['covs'])\n",
        "    DSL.append(data_source['labels'])\n",
        "    scores_array.append(cross_val_score(pipelines[\"(9) cov-tgs-lda\"], data_source['covs'], data_source['labels'], cv=5, scoring='roc_auc').mean())\n",
        "print(scores_array)"
      ]
    },
    {
      "cell_type": "code",
      "execution_count": 6,
      "metadata": {},
      "outputs": [
        {
          "name": "stdout",
          "output_type": "stream",
          "text": [
            "[['right_hand', 'left_hand'], ['left_hand', 'right_hand'], ['right_hand', 'feet']]\n",
            "[0, 1]\n"
          ]
        }
      ],
      "source": [
        "new_labels_names = []\n",
        "labels = []\n",
        "for i in range(len(DSL)):\n",
        "    labels.append(DSL[i])\n",
        "    new_labels_names.append([])\n",
        "    while len(new_labels_names[i])<2:\n",
        "        for elt in labels[i]:\n",
        "            if elt not in new_labels_names[i]:\n",
        "                new_labels_names[i].append(elt)\n",
        "print(new_labels_names)\n",
        "new_labels = [0,1]\n",
        "print(new_labels)\n",
        "source = {}\n",
        "target_train = {}\n",
        "target_test = {}"
      ]
    },
    {
      "cell_type": "code",
      "execution_count": 7,
      "metadata": {},
      "outputs": [],
      "source": [
        "from sklearn.model_selection import KFold\n",
        "\n",
        "def pred_truth(data_source_covs, data_source_labels, n_folds=5):\n",
        "    n_folds = 5\n",
        "    cv = KFold(n_splits=n_folds, shuffle=True, random_state=42)\n",
        "    PREDICTION = []\n",
        "    TRUTH = []\n",
        "    for train, test in cv.split(data_source_covs):\n",
        "        TRUTH.append(data_source_labels[test])\n",
        "        model = pipelines[\"(9) cov-tgs-lda\"].fit(data_source_covs[train], data_source_labels[train])\n",
        "        a = model.predict_proba(data_source_covs[test])\n",
        "        PREDICTION.append(a)\n",
        "    return PREDICTION, TRUTH"
      ]
    },
    {
      "cell_type": "code",
      "execution_count": 19,
      "metadata": {},
      "outputs": [],
      "source": [
        "def roc_homemade(prediction, truth, threshold, k, b):\n",
        "    tp = 0\n",
        "    tn = 0\n",
        "    fp = 0\n",
        "    fn = 0\n",
        "    prediction2 =  []\n",
        "    truth2 = []\n",
        "    a = 0\n",
        "    for i in range(len(prediction)):\n",
        "        for j in range(len(prediction[i])):\n",
        "            if prediction[i][j][0]>threshold:\n",
        "                prediction2.append(0)\n",
        "            else:\n",
        "                prediction2.append(1)\n",
        "            if truth[i][j] == new_labels_names[k][0]: \n",
        "                truth2.append(b)\n",
        "            elif truth[i][j] == new_labels_names[k][1]: \n",
        "                truth2.append(1-b)\n",
        "            if prediction2[a] == new_labels[0] and truth2[a] == new_labels[0]:\n",
        "                tp += 1\n",
        "            elif prediction2[a] == new_labels[1] and truth2[a] == new_labels[1]:\n",
        "                tn += 1\n",
        "            elif prediction2[a] == new_labels[0] and truth2[a] == new_labels[1]:\n",
        "                fp += 1\n",
        "            elif prediction2[a] == new_labels[1] and truth2[a] == new_labels[0]:\n",
        "                fn += 1\n",
        "            a += 1\n",
        "    return tp, tn, fp, fn\n",
        "\n",
        "def sensitivity(tp, tn, fp, fn):\n",
        "    if tp+fn == 0:\n",
        "        return 0\n",
        "    return tp/(tp+fn)\n",
        "\n",
        "def one_specificity(tp, tn, fp, fn):\n",
        "    if fp+tn == 0:\n",
        "        return 0\n",
        "    return 1- (tn/(tn+fp))\n",
        "\n",
        "def accuracy(tp, tn, fp, fn):\n",
        "    return (tp+tn)/(tp+tn+fp+fn)\n"
      ]
    },
    {
      "cell_type": "code",
      "execution_count": 20,
      "metadata": {},
      "outputs": [],
      "source": [
        "def accuracy_homemade(prediction, truth, k):\n",
        "    prediction2 =  []\n",
        "    truth2 = []\n",
        "    a = 0\n",
        "    cpt = 0\n",
        "    threshold = 0.5\n",
        "    for i in range(len(prediction)):\n",
        "        for j in range(len(prediction[i])):\n",
        "            if prediction[i][j][0]>threshold:\n",
        "                prediction2.append(0)\n",
        "            else:\n",
        "                prediction2.append(1)\n",
        "            if truth[i][j] == new_labels_names[k][0]: #right_hand\n",
        "                truth2.append(0)\n",
        "            elif truth[i][j] == new_labels_names[k][1]:  #feet\n",
        "                truth2.append(1) \n",
        "            if prediction2[a] == truth2[a]:\n",
        "                cpt += 1\n",
        "            a += 1\n",
        "    return cpt/a"
      ]
    },
    {
      "cell_type": "code",
      "execution_count": 18,
      "metadata": {},
      "outputs": [],
      "source": [
        "ACCURACY = []\n",
        "for i in range(len(DSM)):\n",
        "    pred = pred_truth(DSM[i], DSL[i], n_folds=5)[0]\n",
        "    truth = pred_truth(DSM[i], DSL[i], n_folds=5)[1]\n",
        "    ACCURACY.append(accuracy_homemade(pred, truth, i))"
      ]
    },
    {
      "cell_type": "code",
      "execution_count": 21,
      "metadata": {},
      "outputs": [],
      "source": [
        "def fct_roc(k):\n",
        "    b = 0\n",
        "    if ACCURACY[k] < 0.5:\n",
        "        b = 1\n",
        "    l_one_spec = []\n",
        "    l_senstivity = []\n",
        "    n= 100\n",
        "    THRESHOLD = [i/n for i in range(0,n)]\n",
        "    PREDICTION, TRUTH = pred_truth(DSM[k], DSL[k])\n",
        "    for i in range(n):\n",
        "        tp, tn, fp, fn = roc_homemade(PREDICTION, TRUTH, THRESHOLD[i], k, b)\n",
        "        l_one_spec.append(one_specificity(tp, tn, fp, fn))\n",
        "        l_senstivity.append(sensitivity(tp, tn, fp, fn))\n",
        "    return l_one_spec, l_senstivity"
      ]
    },
    {
      "cell_type": "code",
      "execution_count": 24,
      "metadata": {},
      "outputs": [
        {
          "data": {
            "image/png": "[encoded data removed]",
            "text/plain": [
              "<Figure size 432x288 with 1 Axes>"
            ]
          },
          "metadata": {},
          "output_type": "display_data"
        },
        {
          "data": {
            "image/png": "[encoded data removed]",
            "text/plain": [
              "<Figure size 432x288 with 1 Axes>"
            ]
          },
          "metadata": {},
          "output_type": "display_data"
        },
        {
          "data": {
            "image/png": "[encoded data removed]",
            "text/plain": [
              "<Figure size 432x288 with 1 Axes>"
            ]
          },
          "metadata": {},
          "output_type": "display_data"
        }
      ],
      "source": [
        "\n",
        "def print_fct_roc(k):\n",
        "    n = 100\n",
        "    THRESHOLD = [i/n for i in range(0,n)]\n",
        "    l_one_spec, l_senstivity = fct_roc(k)\n",
        "    plt.plot(l_one_spec, l_senstivity, label=\"roc\")\n",
        "    plt.plot(THRESHOLD, THRESHOLD, label=\"1ere bissectrice des axes\")\n",
        "    plt.xlabel('1- Specificity')\n",
        "    plt.ylabel('Sensitivity')\n",
        "    plt.title('ROC curve')\n",
        "    # plt.xlim(0, 1)\n",
        "    # plt.ylim(0, 1)\n",
        "    plt.legend()\n",
        "    plt.show()\n",
        "    \n",
        "for k in range(len(DSM)):\n",
        "    print_fct_roc(k)\n"
      ]
    },
    {
      "cell_type": "code",
      "execution_count": 25,
      "metadata": {},
      "outputs": [],
      "source": [
        "def auc_roc(l_one_spec, l_senstivity):\n",
        "    auc = 0\n",
        "    for i in range(len(l_one_spec)-1):\n",
        "        auc += (l_one_spec[i+1]-l_one_spec[i])*(l_senstivity[i+1]+l_senstivity[i])/2\n",
        "    return abs(auc)\n",
        "AUC = []\n",
        "for i in range(len(DSM)):\n",
        "    AUC.append(auc_roc(fct_roc(i)[0], fct_roc(i)[1]))"
      ]
    },
    {
      "cell_type": "code",
      "execution_count": 26,
      "metadata": {},
      "outputs": [
        {
          "name": "stdout",
          "output_type": "stream",
          "text": [
            "[0.4125, 0.7962382445141066, 0.175]\n",
            "[0.54640625, 0.8529481132075472, 0.8487499999999999]\n"
          ]
        }
      ],
      "source": [
        "print(ACCURACY)\n",
        "print(AUC)"
      ]
    }
  ],
  "metadata": {
    "interpreter": {
      "hash": "916dbcbb3f70747c44a77c7bcd40155683ae19c65e1c03b4aa3499c5328201f1"
    },
    "kernelspec": {
      "display_name": "Python 3.8.10 64-bit",
      "language": "python",
      "name": "python3"
    },
    "language_info": {
      "codemirror_mode": {
        "name": "ipython",
        "version": 3
      },
      "file_extension": ".py",
      "mimetype": "text/x-python",
      "name": "python",
      "nbconvert_exporter": "python",
      "pygments_lexer": "ipython3",
      "version": "3.8.10"
    }
  },
  "nbformat": 4,
  "nbformat_minor": 0
}
