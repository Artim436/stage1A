{
  "cells": [
    {
      "cell_type": "code",
      "execution_count": 14,
      "metadata": {
        "collapsed": false
      },
      "outputs": [],
      "source": [
        "import warnings\n",
        "\n",
        "import numpy as np\n",
        "import matplotlib.pyplot as plt\n",
        "import pandas as pd\n",
        "import seaborn as sns\n",
        "from mne.decoding import CSP\n",
        "from sklearn.discriminant_analysis import LinearDiscriminantAnalysis as LDA\n",
        "from sklearn.pipeline import make_pipeline\n",
        "\n",
        "import moabb\n",
        "from moabb.datasets import Weibo2014\n",
        "from moabb.datasets import Zhou2016\n",
        "from moabb.datasets import BNCI2014004\n",
        "from moabb.datasets import BNCI2014002\n",
        "from moabb.datasets import BNCI2015001\n",
        "from moabb.datasets import AlexMI\n",
        "\n",
        "\n",
        "from moabb.evaluations import WithinSessionEvaluation\n",
        "from moabb.evaluations import CrossSessionEvaluation\n",
        "\n",
        "\n",
        "import mne\n",
        "from mne.preprocessing import Xdawn\n",
        "from mne.decoding import CSP\n",
        "\n",
        "\n",
        "from moabb.paradigms import MotorImagery\n",
        "from pyriemann.estimation import Covariances\n",
        "from pyriemann.utils.covariance import covariances\n",
        "from pyriemann.estimation import ERPCovariances\n",
        "from pyriemann.estimation import XdawnCovariances\n",
        "from pyriemann.classification import MDM\n",
        "from pyriemann.classification import KNearestNeighbor\n",
        "from pyriemann.tangentspace import TangentSpace\n",
        "from pyriemann.datasets import make_gaussian_blobs\n",
        "from sklearn.model_selection import KFold\n",
        "from sklearn.model_selection import cross_val_score\n",
        "from sklearn.svm import SVC\n",
        "from sklearn.metrics import roc_auc_score"
      ]
    },
    {
      "cell_type": "code",
      "execution_count": 15,
      "metadata": {
        "collapsed": false
      },
      "outputs": [
        {
          "name": "stderr",
          "output_type": "stream",
          "text": [
            "Choosing from all possible events\n"
          ]
        }
      ],
      "source": [
        "paradigm = MotorImagery()\n",
        "paradigm_name = 'MI'"
      ]
    },
    {
      "cell_type": "code",
      "execution_count": 16,
      "metadata": {
        "collapsed": false
      },
      "outputs": [],
      "source": [
        "pipelines = {}\n",
        "pipelines[\"(1) epo-mdm-euc\"] = make_pipeline(MDM(metric=\"euclid\"))\n",
        "#pipelines[\"(2) epo-knn-euc\"] = make_pipeline(KNearestNeighbor(), MDM(metric=\"euclid\"))\n",
        "# #default 5 neighbors\n",
        "# pipelines[\"(3) cov-dia-lda\"] = make_pipeline(Covariances('oas'), LDA())\n",
        "# #sch for schaffer\n",
        "pipelines[\"(4) epo-csp-lda\"] = make_pipeline(CSP(), LDA())\n",
        "pipelines[\"(5) cov-knn-euc\"] = make_pipeline(Covariances('oas'), KNearestNeighbor(metric=\"euclid\"))\n",
        "pipelines[\"(6) cov-knn-rie\"] = make_pipeline(Covariances('oas'), KNearestNeighbor())\n",
        "# # #default riemannian\n",
        "pipelines[\"(7) cov-mdm-euc\"] = make_pipeline(Covariances('oas'), MDM(metric=\"euclid\"))\n",
        "pipelines[\"(8) cov-mdm-rie\"] = make_pipeline(Covariances('oas'), MDM())\n",
        "pipelines[\"(9) cov-tgs-lda\"] = make_pipeline(Covariances('oas'), TangentSpace(), LDA())\n",
        "# # #(default: 'riemann')\n",
        "#4, 8, 9\n"
      ]
    },
    {
      "cell_type": "code",
      "execution_count": 17,
      "metadata": {},
      "outputs": [
        {
          "name": "stderr",
          "output_type": "stream",
          "text": [
            "Choosing from all possible events\n",
            "Trial data de-meaned and concatenated with a buffer to create cont data\n"
          ]
        },
        {
          "name": "stdout",
          "output_type": "stream",
          "text": [
            "Reading 0 ... 305029  =      0.000 ...  1220.116 secs...\n"
          ]
        },
        {
          "name": "stderr",
          "output_type": "stream",
          "text": [
            "/home/artim436/.local/lib/python3.8/site-packages/moabb/datasets/Zhou2016.py:102: RuntimeWarning:   Could not parse meas date from the header. Setting to None.\n",
            "  raw = read_raw_cnt(fname, preload=True, eog=[\"VEOU\", \"VEOL\"])\n",
            "/home/artim436/.local/lib/python3.8/site-packages/moabb/datasets/Zhou2016.py:102: RuntimeWarning: Could not define the number of bytes automatically. Defaulting to 2.\n",
            "  raw = read_raw_cnt(fname, preload=True, eog=[\"VEOU\", \"VEOL\"])\n"
          ]
        },
        {
          "name": "stdout",
          "output_type": "stream",
          "text": [
            "Reading 0 ... 430479  =      0.000 ...  1721.916 secs...\n"
          ]
        },
        {
          "name": "stderr",
          "output_type": "stream",
          "text": [
            "/home/artim436/.local/lib/python3.8/site-packages/moabb/datasets/Zhou2016.py:102: RuntimeWarning:   Could not parse meas date from the header. Setting to None.\n",
            "  raw = read_raw_cnt(fname, preload=True, eog=[\"VEOU\", \"VEOL\"])\n",
            "/home/artim436/.local/lib/python3.8/site-packages/moabb/datasets/Zhou2016.py:102: RuntimeWarning: Could not define the number of bytes automatically. Defaulting to 2.\n",
            "  raw = read_raw_cnt(fname, preload=True, eog=[\"VEOU\", \"VEOL\"])\n"
          ]
        },
        {
          "name": "stdout",
          "output_type": "stream",
          "text": [
            "Reading 0 ... 252599  =      0.000 ...  1010.396 secs...\n"
          ]
        },
        {
          "name": "stderr",
          "output_type": "stream",
          "text": [
            "/home/artim436/.local/lib/python3.8/site-packages/moabb/datasets/Zhou2016.py:102: RuntimeWarning:   Could not parse meas date from the header. Setting to None.\n",
            "  raw = read_raw_cnt(fname, preload=True, eog=[\"VEOU\", \"VEOL\"])\n",
            "/home/artim436/.local/lib/python3.8/site-packages/moabb/datasets/Zhou2016.py:102: RuntimeWarning: Could not define the number of bytes automatically. Defaulting to 2.\n",
            "  raw = read_raw_cnt(fname, preload=True, eog=[\"VEOU\", \"VEOL\"])\n"
          ]
        },
        {
          "name": "stdout",
          "output_type": "stream",
          "text": [
            "Reading 0 ... 296649  =      0.000 ...  1186.596 secs...\n"
          ]
        },
        {
          "name": "stderr",
          "output_type": "stream",
          "text": [
            "/home/artim436/.local/lib/python3.8/site-packages/moabb/datasets/Zhou2016.py:102: RuntimeWarning:   Could not parse meas date from the header. Setting to None.\n",
            "  raw = read_raw_cnt(fname, preload=True, eog=[\"VEOU\", \"VEOL\"])\n",
            "/home/artim436/.local/lib/python3.8/site-packages/mne/io/cnt/cnt.py:239: RuntimeWarning: overflow encountered in int_scalars\n",
            "  data_size // (n_samples * n_channels) not in [2, 4]):\n",
            "/home/artim436/.local/lib/python3.8/site-packages/moabb/datasets/Zhou2016.py:102: RuntimeWarning: Could not define the number of bytes automatically. Defaulting to 2.\n",
            "  raw = read_raw_cnt(fname, preload=True, eog=[\"VEOU\", \"VEOL\"])\n"
          ]
        },
        {
          "name": "stdout",
          "output_type": "stream",
          "text": [
            "Reading 0 ... 233249  =      0.000 ...   932.996 secs...\n"
          ]
        },
        {
          "name": "stderr",
          "output_type": "stream",
          "text": [
            "/home/artim436/.local/lib/python3.8/site-packages/moabb/datasets/Zhou2016.py:102: RuntimeWarning:   Could not parse meas date from the header. Setting to None.\n",
            "  raw = read_raw_cnt(fname, preload=True, eog=[\"VEOU\", \"VEOL\"])\n",
            "/home/artim436/.local/lib/python3.8/site-packages/moabb/datasets/Zhou2016.py:102: RuntimeWarning: Could not define the number of bytes automatically. Defaulting to 2.\n",
            "  raw = read_raw_cnt(fname, preload=True, eog=[\"VEOU\", \"VEOL\"])\n"
          ]
        },
        {
          "name": "stdout",
          "output_type": "stream",
          "text": [
            "Reading 0 ... 226219  =      0.000 ...   904.876 secs...\n"
          ]
        },
        {
          "name": "stderr",
          "output_type": "stream",
          "text": [
            "/home/artim436/.local/lib/python3.8/site-packages/moabb/datasets/Zhou2016.py:102: RuntimeWarning:   Could not parse meas date from the header. Setting to None.\n",
            "  raw = read_raw_cnt(fname, preload=True, eog=[\"VEOU\", \"VEOL\"])\n",
            "/home/artim436/.local/lib/python3.8/site-packages/moabb/datasets/Zhou2016.py:102: RuntimeWarning: Could not define the number of bytes automatically. Defaulting to 2.\n",
            "  raw = read_raw_cnt(fname, preload=True, eog=[\"VEOU\", \"VEOL\"])\n"
          ]
        },
        {
          "name": "stdout",
          "output_type": "stream",
          "text": [
            "[0.6484375, 0.8560735887096774, 0.725]\n"
          ]
        }
      ],
      "source": [
        "scores_array = []\n",
        "datasets = [Weibo2014(), Zhou2016(), AlexMI()]\n",
        "subj = [1, 2, 3, 4]\n",
        "subject_source = 1\n",
        "paradigm = MotorImagery()\n",
        "DSM = []\n",
        "DSL = []\n",
        "data_source = {}\n",
        "for d in datasets:\n",
        "    X, labels, meta = paradigm.get_data(d, subjects=[subject_source])\n",
        "    data_source['covs'], data_source['labels'] = Covariances('oas').fit_transform(X), labels\n",
        "    DSM.append(data_source['covs'])\n",
        "    DSL.append(data_source['labels'])\n",
        "    scores_array.append(cross_val_score(pipelines[\"(9) cov-tgs-lda\"], data_source['covs'], data_source['labels'], cv=5, scoring='roc_auc').mean())\n",
        "print(scores_array)"
      ]
    },
    {
      "cell_type": "code",
      "execution_count": 18,
      "metadata": {},
      "outputs": [
        {
          "name": "stdout",
          "output_type": "stream",
          "text": [
            "[['right_hand', 'left_hand'], ['left_hand', 'right_hand'], ['right_hand', 'feet']]\n",
            "[0, 1]\n"
          ]
        }
      ],
      "source": [
        "new_labels_names = []\n",
        "labels = []\n",
        "for i in range(len(DSL)):\n",
        "    labels.append(DSL[i])\n",
        "    new_labels_names.append([])\n",
        "    while len(new_labels_names[i])<2:\n",
        "        for elt in labels[i]:\n",
        "            if elt not in new_labels_names[i]:\n",
        "                new_labels_names[i].append(elt)\n",
        "print(new_labels_names)\n",
        "new_labels = [0,1]\n",
        "print(new_labels)\n",
        "source = {}\n",
        "target_train = {}\n",
        "target_test = {}"
      ]
    },
    {
      "cell_type": "code",
      "execution_count": 19,
      "metadata": {},
      "outputs": [],
      "source": [
        "from sklearn.model_selection import KFold\n",
        "\n",
        "def pred_truth(data_source_covs, data_source_labels, n_folds=5):\n",
        "    n_folds = 5\n",
        "    cv = KFold(n_splits=n_folds, shuffle=True, random_state=42)\n",
        "    PREDICTION = []\n",
        "    TRUTH = []\n",
        "    for train, test in cv.split(data_source_covs):\n",
        "        TRUTH.append(data_source_labels[test])\n",
        "        model = pipelines[\"(9) cov-tgs-lda\"].fit(data_source_covs[train], data_source_labels[train])\n",
        "        a = model.predict_proba(data_source_covs[test])\n",
        "        PREDICTION.append(a)\n",
        "    return PREDICTION, TRUTH"
      ]
    },
    {
      "cell_type": "code",
      "execution_count": 32,
      "metadata": {},
      "outputs": [],
      "source": [
        "def roc_homemade(prediction, truth, threshold, i_data, b):\n",
        "    tp = 0\n",
        "    tn = 0\n",
        "    fp = 0\n",
        "    fn = 0\n",
        "    prediction2 =  []\n",
        "    truth2 = []\n",
        "    a = 0\n",
        "    for i in range(len(prediction)):\n",
        "        if prediction[i][0]>threshold:\n",
        "            prediction2.append(0)\n",
        "        else:\n",
        "            prediction2.append(1)\n",
        "        if truth[i] == new_labels_names[i_data][0]: #right_hand\n",
        "            truth2.append(b)\n",
        "        elif truth[i] == new_labels_names[i_data][1]: #feet\n",
        "            truth2.append(1-b)\n",
        "        if prediction2[a] == new_labels[0] and truth2[a] == new_labels[0]:\n",
        "            tp += 1\n",
        "        elif prediction2[a] == new_labels[1] and truth2[a] == new_labels[1]:\n",
        "            tn += 1\n",
        "        elif prediction2[a] == new_labels[0] and truth2[a] == new_labels[1]:\n",
        "            fp += 1\n",
        "        elif prediction2[a] == new_labels[1] and truth2[a] == new_labels[0]:\n",
        "            fn += 1\n",
        "        a += 1\n",
        "    return tp, tn, fp, fn\n",
        "\n",
        "def sensitivity(tp, tn, fp, fn):\n",
        "    if tp+fn == 0:\n",
        "        return 0\n",
        "    return tp/(tp+fn)\n",
        "\n",
        "def one_specificity(tp, tn, fp, fn):\n",
        "    if fp+tn == 0:\n",
        "        return 0\n",
        "    return 1- (tn/(tn+fp))\n",
        "\n",
        "def accuracy(tp, tn, fp, fn):\n",
        "    return (tp+tn)/(tp+tn+fp+fn)\n"
      ]
    },
    {
      "cell_type": "code",
      "execution_count": 33,
      "metadata": {},
      "outputs": [],
      "source": [
        "def accuracy_homemade(prediction, truth, k):\n",
        "    prediction2 =  []\n",
        "    truth2 = []\n",
        "    a = 0\n",
        "    cpt = 0\n",
        "    threshold = 0.5\n",
        "    for i in range(len(prediction)):\n",
        "        for j in range(len(prediction[i])):\n",
        "            if prediction[i][j][0]>threshold:\n",
        "                prediction2.append(0)\n",
        "            else:\n",
        "                prediction2.append(1)\n",
        "            if truth[i][j] == new_labels_names[k][0]: #right_hand\n",
        "                truth2.append(0)\n",
        "            elif truth[i][j] == new_labels_names[k][1]:  #feet\n",
        "                truth2.append(1) \n",
        "            if prediction2[a] == truth2[a]:\n",
        "                cpt += 1\n",
        "            a += 1\n",
        "    return cpt/a"
      ]
    },
    {
      "cell_type": "code",
      "execution_count": 22,
      "metadata": {},
      "outputs": [],
      "source": [
        "ACCURACY = []\n",
        "for i in range(len(DSM)):\n",
        "    pred = pred_truth(DSM[i], DSL[i], n_folds=5)[0]\n",
        "    truth = pred_truth(DSM[i], DSL[i], n_folds=5)[1]\n",
        "    ACCURACY.append(accuracy_homemade(pred, truth, i))"
      ]
    },
    {
      "cell_type": "code",
      "execution_count": 43,
      "metadata": {},
      "outputs": [],
      "source": [
        "def fct_roc(i_data, k_fold):\n",
        "    b = 0\n",
        "    if ACCURACY[i_data] < 0.5:\n",
        "        b = 1\n",
        "    l_one_spec = []\n",
        "    l_senstivity = []\n",
        "    n= 100\n",
        "    THRESHOLD = [i/n for i in range(0,n)]\n",
        "    PREDICTION, TRUTH = pred_truth(DSM[i_data], DSL[i_data])\n",
        "    for i in range(n):\n",
        "        tp, tn, fp, fn = roc_homemade(PREDICTION[k_fold], TRUTH[k_fold], THRESHOLD[i], k_fold, b)\n",
        "        l_one_spec.append(one_specificity(tp, tn, fp, fn))\n",
        "        l_senstivity.append(sensitivity(tp, tn, fp, fn))\n",
        "    return l_one_spec, l_senstivity"
      ]
    },
    {
      "cell_type": "code",
      "execution_count": 42,
      "metadata": {},
      "outputs": [
        {
          "name": "stdout",
          "output_type": "stream",
          "text": [
            "[array(['right_hand', 'feet', 'feet', 'feet', 'feet', 'right_hand',\n",
            "       'right_hand', 'right_hand'], dtype='<U32'), array(['right_hand', 'right_hand', 'right_hand', 'feet', 'feet', 'feet',\n",
            "       'feet', 'feet'], dtype='<U32'), array(['right_hand', 'feet', 'feet', 'right_hand', 'right_hand',\n",
            "       'right_hand', 'right_hand', 'right_hand'], dtype='<U32'), array(['right_hand', 'feet', 'right_hand', 'feet', 'right_hand', 'feet',\n",
            "       'feet', 'right_hand'], dtype='<U32'), array(['feet', 'feet', 'right_hand', 'right_hand', 'feet', 'feet', 'feet',\n",
            "       'right_hand'], dtype='<U32')]\n"
          ]
        }
      ],
      "source": [
        "PREDICTION, TRUTH = pred_truth(DSM[2], DSL[2])\n",
        "print(TRUTH)"
      ]
    },
    {
      "cell_type": "code",
      "execution_count": 60,
      "metadata": {},
      "outputs": [
        {
          "ename": "KeyboardInterrupt",
          "evalue": "",
          "output_type": "error",
          "traceback": [
            "\u001b[0;31m---------------------------------------------------------------------------\u001b[0m",
            "\u001b[0;31mKeyboardInterrupt\u001b[0m                         Traceback (most recent call last)",
            "\u001b[0;32m<ipython-input-60-61e23dcbcbfe>\u001b[0m in \u001b[0;36m<module>\u001b[0;34m\u001b[0m\n\u001b[1;32m     14\u001b[0m \u001b[0;34m\u001b[0m\u001b[0m\n\u001b[1;32m     15\u001b[0m \u001b[0;32mfor\u001b[0m \u001b[0mi\u001b[0m \u001b[0;32min\u001b[0m \u001b[0mrange\u001b[0m\u001b[0;34m(\u001b[0m\u001b[0mlen\u001b[0m\u001b[0;34m(\u001b[0m\u001b[0mDSM\u001b[0m\u001b[0;34m)\u001b[0m\u001b[0;34m)\u001b[0m\u001b[0;34m:\u001b[0m\u001b[0;34m\u001b[0m\u001b[0;34m\u001b[0m\u001b[0m\n\u001b[0;32m---> 16\u001b[0;31m     \u001b[0mprint_fct_roc\u001b[0m\u001b[0;34m(\u001b[0m\u001b[0mi\u001b[0m\u001b[0;34m,\u001b[0m \u001b[0;36m3\u001b[0m\u001b[0;34m)\u001b[0m\u001b[0;34m\u001b[0m\u001b[0;34m\u001b[0m\u001b[0m\n\u001b[0m",
            "\u001b[0;32m<ipython-input-60-61e23dcbcbfe>\u001b[0m in \u001b[0;36mprint_fct_roc\u001b[0;34m(i_data, k_fold)\u001b[0m\n\u001b[1;32m      1\u001b[0m \u001b[0;32mdef\u001b[0m \u001b[0mprint_fct_roc\u001b[0m\u001b[0;34m(\u001b[0m\u001b[0mi_data\u001b[0m\u001b[0;34m,\u001b[0m \u001b[0mk_fold\u001b[0m\u001b[0;34m)\u001b[0m\u001b[0;34m:\u001b[0m\u001b[0;34m\u001b[0m\u001b[0;34m\u001b[0m\u001b[0m\n\u001b[0;32m----> 2\u001b[0;31m     \u001b[0ml_one_spec\u001b[0m\u001b[0;34m,\u001b[0m \u001b[0ml_senstivity\u001b[0m \u001b[0;34m=\u001b[0m \u001b[0mfct_roc\u001b[0m\u001b[0;34m(\u001b[0m\u001b[0mi_data\u001b[0m\u001b[0;34m,\u001b[0m \u001b[0mk_fold\u001b[0m\u001b[0;34m)\u001b[0m\u001b[0;34m\u001b[0m\u001b[0;34m\u001b[0m\u001b[0m\n\u001b[0m\u001b[1;32m      3\u001b[0m     \u001b[0mn\u001b[0m\u001b[0;34m=\u001b[0m \u001b[0;36m100\u001b[0m\u001b[0;34m\u001b[0m\u001b[0;34m\u001b[0m\u001b[0m\n\u001b[1;32m      4\u001b[0m     \u001b[0mTHRESHOLD\u001b[0m \u001b[0;34m=\u001b[0m \u001b[0;34m[\u001b[0m\u001b[0mi\u001b[0m\u001b[0;34m/\u001b[0m\u001b[0mn\u001b[0m \u001b[0;32mfor\u001b[0m \u001b[0mi\u001b[0m \u001b[0;32min\u001b[0m \u001b[0mrange\u001b[0m\u001b[0;34m(\u001b[0m\u001b[0;36m0\u001b[0m\u001b[0;34m,\u001b[0m\u001b[0mn\u001b[0m\u001b[0;34m)\u001b[0m\u001b[0;34m]\u001b[0m\u001b[0;34m\u001b[0m\u001b[0;34m\u001b[0m\u001b[0m\n\u001b[1;32m      5\u001b[0m     \u001b[0mplt\u001b[0m\u001b[0;34m.\u001b[0m\u001b[0mplot\u001b[0m\u001b[0;34m(\u001b[0m\u001b[0ml_one_spec\u001b[0m\u001b[0;34m,\u001b[0m \u001b[0ml_senstivity\u001b[0m\u001b[0;34m,\u001b[0m \u001b[0mlabel\u001b[0m\u001b[0;34m=\u001b[0m\u001b[0;34m\"roc\"\u001b[0m\u001b[0;34m)\u001b[0m\u001b[0;34m\u001b[0m\u001b[0;34m\u001b[0m\u001b[0m\n",
            "\u001b[0;32m<ipython-input-43-f890e3d7d490>\u001b[0m in \u001b[0;36mfct_roc\u001b[0;34m(i_data, k_fold)\u001b[0m\n\u001b[1;32m      7\u001b[0m     \u001b[0mn\u001b[0m\u001b[0;34m=\u001b[0m \u001b[0;36m100\u001b[0m\u001b[0;34m\u001b[0m\u001b[0;34m\u001b[0m\u001b[0m\n\u001b[1;32m      8\u001b[0m     \u001b[0mTHRESHOLD\u001b[0m \u001b[0;34m=\u001b[0m \u001b[0;34m[\u001b[0m\u001b[0mi\u001b[0m\u001b[0;34m/\u001b[0m\u001b[0mn\u001b[0m \u001b[0;32mfor\u001b[0m \u001b[0mi\u001b[0m \u001b[0;32min\u001b[0m \u001b[0mrange\u001b[0m\u001b[0;34m(\u001b[0m\u001b[0;36m0\u001b[0m\u001b[0;34m,\u001b[0m\u001b[0mn\u001b[0m\u001b[0;34m)\u001b[0m\u001b[0;34m]\u001b[0m\u001b[0;34m\u001b[0m\u001b[0;34m\u001b[0m\u001b[0m\n\u001b[0;32m----> 9\u001b[0;31m     \u001b[0mPREDICTION\u001b[0m\u001b[0;34m,\u001b[0m \u001b[0mTRUTH\u001b[0m \u001b[0;34m=\u001b[0m \u001b[0mpred_truth\u001b[0m\u001b[0;34m(\u001b[0m\u001b[0mDSM\u001b[0m\u001b[0;34m[\u001b[0m\u001b[0mi_data\u001b[0m\u001b[0;34m]\u001b[0m\u001b[0;34m,\u001b[0m \u001b[0mDSL\u001b[0m\u001b[0;34m[\u001b[0m\u001b[0mi_data\u001b[0m\u001b[0;34m]\u001b[0m\u001b[0;34m)\u001b[0m\u001b[0;34m\u001b[0m\u001b[0;34m\u001b[0m\u001b[0m\n\u001b[0m\u001b[1;32m     10\u001b[0m     \u001b[0;32mfor\u001b[0m \u001b[0mi\u001b[0m \u001b[0;32min\u001b[0m \u001b[0mrange\u001b[0m\u001b[0;34m(\u001b[0m\u001b[0mn\u001b[0m\u001b[0;34m)\u001b[0m\u001b[0;34m:\u001b[0m\u001b[0;34m\u001b[0m\u001b[0;34m\u001b[0m\u001b[0m\n\u001b[1;32m     11\u001b[0m         \u001b[0mtp\u001b[0m\u001b[0;34m,\u001b[0m \u001b[0mtn\u001b[0m\u001b[0;34m,\u001b[0m \u001b[0mfp\u001b[0m\u001b[0;34m,\u001b[0m \u001b[0mfn\u001b[0m \u001b[0;34m=\u001b[0m \u001b[0mroc_homemade\u001b[0m\u001b[0;34m(\u001b[0m\u001b[0mPREDICTION\u001b[0m\u001b[0;34m[\u001b[0m\u001b[0mk_fold\u001b[0m\u001b[0;34m]\u001b[0m\u001b[0;34m,\u001b[0m \u001b[0mTRUTH\u001b[0m\u001b[0;34m[\u001b[0m\u001b[0mk_fold\u001b[0m\u001b[0;34m]\u001b[0m\u001b[0;34m,\u001b[0m \u001b[0mTHRESHOLD\u001b[0m\u001b[0;34m[\u001b[0m\u001b[0mi\u001b[0m\u001b[0;34m]\u001b[0m\u001b[0;34m,\u001b[0m \u001b[0mk_fold\u001b[0m\u001b[0;34m,\u001b[0m \u001b[0mb\u001b[0m\u001b[0;34m)\u001b[0m\u001b[0;34m\u001b[0m\u001b[0;34m\u001b[0m\u001b[0m\n",
            "\u001b[0;32m<ipython-input-19-84c5200cc417>\u001b[0m in \u001b[0;36mpred_truth\u001b[0;34m(data_source_covs, data_source_labels, n_folds)\u001b[0m\n\u001b[1;32m      8\u001b[0m     \u001b[0;32mfor\u001b[0m \u001b[0mtrain\u001b[0m\u001b[0;34m,\u001b[0m \u001b[0mtest\u001b[0m \u001b[0;32min\u001b[0m \u001b[0mcv\u001b[0m\u001b[0;34m.\u001b[0m\u001b[0msplit\u001b[0m\u001b[0;34m(\u001b[0m\u001b[0mdata_source_covs\u001b[0m\u001b[0;34m)\u001b[0m\u001b[0;34m:\u001b[0m\u001b[0;34m\u001b[0m\u001b[0;34m\u001b[0m\u001b[0m\n\u001b[1;32m      9\u001b[0m         \u001b[0mTRUTH\u001b[0m\u001b[0;34m.\u001b[0m\u001b[0mappend\u001b[0m\u001b[0;34m(\u001b[0m\u001b[0mdata_source_labels\u001b[0m\u001b[0;34m[\u001b[0m\u001b[0mtest\u001b[0m\u001b[0;34m]\u001b[0m\u001b[0;34m)\u001b[0m\u001b[0;34m\u001b[0m\u001b[0;34m\u001b[0m\u001b[0m\n\u001b[0;32m---> 10\u001b[0;31m         \u001b[0mmodel\u001b[0m \u001b[0;34m=\u001b[0m \u001b[0mpipelines\u001b[0m\u001b[0;34m[\u001b[0m\u001b[0;34m\"(9) cov-tgs-lda\"\u001b[0m\u001b[0;34m]\u001b[0m\u001b[0;34m.\u001b[0m\u001b[0mfit\u001b[0m\u001b[0;34m(\u001b[0m\u001b[0mdata_source_covs\u001b[0m\u001b[0;34m[\u001b[0m\u001b[0mtrain\u001b[0m\u001b[0;34m]\u001b[0m\u001b[0;34m,\u001b[0m \u001b[0mdata_source_labels\u001b[0m\u001b[0;34m[\u001b[0m\u001b[0mtrain\u001b[0m\u001b[0;34m]\u001b[0m\u001b[0;34m)\u001b[0m\u001b[0;34m\u001b[0m\u001b[0;34m\u001b[0m\u001b[0m\n\u001b[0m\u001b[1;32m     11\u001b[0m         \u001b[0ma\u001b[0m \u001b[0;34m=\u001b[0m \u001b[0mmodel\u001b[0m\u001b[0;34m.\u001b[0m\u001b[0mpredict_proba\u001b[0m\u001b[0;34m(\u001b[0m\u001b[0mdata_source_covs\u001b[0m\u001b[0;34m[\u001b[0m\u001b[0mtest\u001b[0m\u001b[0;34m]\u001b[0m\u001b[0;34m)\u001b[0m\u001b[0;34m\u001b[0m\u001b[0;34m\u001b[0m\u001b[0m\n\u001b[1;32m     12\u001b[0m         \u001b[0mPREDICTION\u001b[0m\u001b[0;34m.\u001b[0m\u001b[0mappend\u001b[0m\u001b[0;34m(\u001b[0m\u001b[0ma\u001b[0m\u001b[0;34m)\u001b[0m\u001b[0;34m\u001b[0m\u001b[0;34m\u001b[0m\u001b[0m\n",
            "\u001b[0;32m~/.local/lib/python3.8/site-packages/sklearn/pipeline.py\u001b[0m in \u001b[0;36mfit\u001b[0;34m(self, X, y, **fit_params)\u001b[0m\n\u001b[1;32m    388\u001b[0m         \"\"\"\n\u001b[1;32m    389\u001b[0m         \u001b[0mfit_params_steps\u001b[0m \u001b[0;34m=\u001b[0m \u001b[0mself\u001b[0m\u001b[0;34m.\u001b[0m\u001b[0m_check_fit_params\u001b[0m\u001b[0;34m(\u001b[0m\u001b[0;34m**\u001b[0m\u001b[0mfit_params\u001b[0m\u001b[0;34m)\u001b[0m\u001b[0;34m\u001b[0m\u001b[0;34m\u001b[0m\u001b[0m\n\u001b[0;32m--> 390\u001b[0;31m         \u001b[0mXt\u001b[0m \u001b[0;34m=\u001b[0m \u001b[0mself\u001b[0m\u001b[0;34m.\u001b[0m\u001b[0m_fit\u001b[0m\u001b[0;34m(\u001b[0m\u001b[0mX\u001b[0m\u001b[0;34m,\u001b[0m \u001b[0my\u001b[0m\u001b[0;34m,\u001b[0m \u001b[0;34m**\u001b[0m\u001b[0mfit_params_steps\u001b[0m\u001b[0;34m)\u001b[0m\u001b[0;34m\u001b[0m\u001b[0;34m\u001b[0m\u001b[0m\n\u001b[0m\u001b[1;32m    391\u001b[0m         \u001b[0;32mwith\u001b[0m \u001b[0m_print_elapsed_time\u001b[0m\u001b[0;34m(\u001b[0m\u001b[0;34m\"Pipeline\"\u001b[0m\u001b[0;34m,\u001b[0m \u001b[0mself\u001b[0m\u001b[0;34m.\u001b[0m\u001b[0m_log_message\u001b[0m\u001b[0;34m(\u001b[0m\u001b[0mlen\u001b[0m\u001b[0;34m(\u001b[0m\u001b[0mself\u001b[0m\u001b[0;34m.\u001b[0m\u001b[0msteps\u001b[0m\u001b[0;34m)\u001b[0m \u001b[0;34m-\u001b[0m \u001b[0;36m1\u001b[0m\u001b[0;34m)\u001b[0m\u001b[0;34m)\u001b[0m\u001b[0;34m:\u001b[0m\u001b[0;34m\u001b[0m\u001b[0;34m\u001b[0m\u001b[0m\n\u001b[1;32m    392\u001b[0m             \u001b[0;32mif\u001b[0m \u001b[0mself\u001b[0m\u001b[0;34m.\u001b[0m\u001b[0m_final_estimator\u001b[0m \u001b[0;34m!=\u001b[0m \u001b[0;34m\"passthrough\"\u001b[0m\u001b[0;34m:\u001b[0m\u001b[0;34m\u001b[0m\u001b[0;34m\u001b[0m\u001b[0m\n",
            "\u001b[0;32m~/.local/lib/python3.8/site-packages/sklearn/pipeline.py\u001b[0m in \u001b[0;36m_fit\u001b[0;34m(self, X, y, **fit_params_steps)\u001b[0m\n\u001b[1;32m    346\u001b[0m                 \u001b[0mcloned_transformer\u001b[0m \u001b[0;34m=\u001b[0m \u001b[0mclone\u001b[0m\u001b[0;34m(\u001b[0m\u001b[0mtransformer\u001b[0m\u001b[0;34m)\u001b[0m\u001b[0;34m\u001b[0m\u001b[0;34m\u001b[0m\u001b[0m\n\u001b[1;32m    347\u001b[0m             \u001b[0;31m# Fit or load from cache the current transformer\u001b[0m\u001b[0;34m\u001b[0m\u001b[0;34m\u001b[0m\u001b[0;34m\u001b[0m\u001b[0m\n\u001b[0;32m--> 348\u001b[0;31m             X, fitted_transformer = fit_transform_one_cached(\n\u001b[0m\u001b[1;32m    349\u001b[0m                 \u001b[0mcloned_transformer\u001b[0m\u001b[0;34m,\u001b[0m\u001b[0;34m\u001b[0m\u001b[0;34m\u001b[0m\u001b[0m\n\u001b[1;32m    350\u001b[0m                 \u001b[0mX\u001b[0m\u001b[0;34m,\u001b[0m\u001b[0;34m\u001b[0m\u001b[0;34m\u001b[0m\u001b[0m\n",
            "\u001b[0;32m~/.local/lib/python3.8/site-packages/joblib/memory.py\u001b[0m in \u001b[0;36m__call__\u001b[0;34m(self, *args, **kwargs)\u001b[0m\n\u001b[1;32m    347\u001b[0m \u001b[0;34m\u001b[0m\u001b[0m\n\u001b[1;32m    348\u001b[0m     \u001b[0;32mdef\u001b[0m \u001b[0m__call__\u001b[0m\u001b[0;34m(\u001b[0m\u001b[0mself\u001b[0m\u001b[0;34m,\u001b[0m \u001b[0;34m*\u001b[0m\u001b[0margs\u001b[0m\u001b[0;34m,\u001b[0m \u001b[0;34m**\u001b[0m\u001b[0mkwargs\u001b[0m\u001b[0;34m)\u001b[0m\u001b[0;34m:\u001b[0m\u001b[0;34m\u001b[0m\u001b[0;34m\u001b[0m\u001b[0m\n\u001b[0;32m--> 349\u001b[0;31m         \u001b[0;32mreturn\u001b[0m \u001b[0mself\u001b[0m\u001b[0;34m.\u001b[0m\u001b[0mfunc\u001b[0m\u001b[0;34m(\u001b[0m\u001b[0;34m*\u001b[0m\u001b[0margs\u001b[0m\u001b[0;34m,\u001b[0m \u001b[0;34m**\u001b[0m\u001b[0mkwargs\u001b[0m\u001b[0;34m)\u001b[0m\u001b[0;34m\u001b[0m\u001b[0;34m\u001b[0m\u001b[0m\n\u001b[0m\u001b[1;32m    350\u001b[0m \u001b[0;34m\u001b[0m\u001b[0m\n\u001b[1;32m    351\u001b[0m     \u001b[0;32mdef\u001b[0m \u001b[0mcall_and_shelve\u001b[0m\u001b[0;34m(\u001b[0m\u001b[0mself\u001b[0m\u001b[0;34m,\u001b[0m \u001b[0;34m*\u001b[0m\u001b[0margs\u001b[0m\u001b[0;34m,\u001b[0m \u001b[0;34m**\u001b[0m\u001b[0mkwargs\u001b[0m\u001b[0;34m)\u001b[0m\u001b[0;34m:\u001b[0m\u001b[0;34m\u001b[0m\u001b[0;34m\u001b[0m\u001b[0m\n",
            "\u001b[0;32m~/.local/lib/python3.8/site-packages/sklearn/pipeline.py\u001b[0m in \u001b[0;36m_fit_transform_one\u001b[0;34m(transformer, X, y, weight, message_clsname, message, **fit_params)\u001b[0m\n\u001b[1;32m    891\u001b[0m     \u001b[0;32mwith\u001b[0m \u001b[0m_print_elapsed_time\u001b[0m\u001b[0;34m(\u001b[0m\u001b[0mmessage_clsname\u001b[0m\u001b[0;34m,\u001b[0m \u001b[0mmessage\u001b[0m\u001b[0;34m)\u001b[0m\u001b[0;34m:\u001b[0m\u001b[0;34m\u001b[0m\u001b[0;34m\u001b[0m\u001b[0m\n\u001b[1;32m    892\u001b[0m         \u001b[0;32mif\u001b[0m \u001b[0mhasattr\u001b[0m\u001b[0;34m(\u001b[0m\u001b[0mtransformer\u001b[0m\u001b[0;34m,\u001b[0m \u001b[0;34m\"fit_transform\"\u001b[0m\u001b[0;34m)\u001b[0m\u001b[0;34m:\u001b[0m\u001b[0;34m\u001b[0m\u001b[0;34m\u001b[0m\u001b[0m\n\u001b[0;32m--> 893\u001b[0;31m             \u001b[0mres\u001b[0m \u001b[0;34m=\u001b[0m \u001b[0mtransformer\u001b[0m\u001b[0;34m.\u001b[0m\u001b[0mfit_transform\u001b[0m\u001b[0;34m(\u001b[0m\u001b[0mX\u001b[0m\u001b[0;34m,\u001b[0m \u001b[0my\u001b[0m\u001b[0;34m,\u001b[0m \u001b[0;34m**\u001b[0m\u001b[0mfit_params\u001b[0m\u001b[0;34m)\u001b[0m\u001b[0;34m\u001b[0m\u001b[0;34m\u001b[0m\u001b[0m\n\u001b[0m\u001b[1;32m    894\u001b[0m         \u001b[0;32melse\u001b[0m\u001b[0;34m:\u001b[0m\u001b[0;34m\u001b[0m\u001b[0;34m\u001b[0m\u001b[0m\n\u001b[1;32m    895\u001b[0m             \u001b[0mres\u001b[0m \u001b[0;34m=\u001b[0m \u001b[0mtransformer\u001b[0m\u001b[0;34m.\u001b[0m\u001b[0mfit\u001b[0m\u001b[0;34m(\u001b[0m\u001b[0mX\u001b[0m\u001b[0;34m,\u001b[0m \u001b[0my\u001b[0m\u001b[0;34m,\u001b[0m \u001b[0;34m**\u001b[0m\u001b[0mfit_params\u001b[0m\u001b[0;34m)\u001b[0m\u001b[0;34m.\u001b[0m\u001b[0mtransform\u001b[0m\u001b[0;34m(\u001b[0m\u001b[0mX\u001b[0m\u001b[0;34m)\u001b[0m\u001b[0;34m\u001b[0m\u001b[0;34m\u001b[0m\u001b[0m\n",
            "\u001b[0;32m~/.local/lib/python3.8/site-packages/pyriemann/tangentspace.py\u001b[0m in \u001b[0;36mfit_transform\u001b[0;34m(self, X, y, sample_weight)\u001b[0m\n\u001b[1;32m    165\u001b[0m         \"\"\"\n\u001b[1;32m    166\u001b[0m         \u001b[0;31m# compute mean covariance\u001b[0m\u001b[0;34m\u001b[0m\u001b[0;34m\u001b[0m\u001b[0;34m\u001b[0m\u001b[0m\n\u001b[0;32m--> 167\u001b[0;31m         self.reference_ = mean_covariance(X, metric=self.metric,\n\u001b[0m\u001b[1;32m    168\u001b[0m                                           sample_weight=sample_weight)\n\u001b[1;32m    169\u001b[0m         \u001b[0;32mreturn\u001b[0m \u001b[0mtangent_space\u001b[0m\u001b[0;34m(\u001b[0m\u001b[0mX\u001b[0m\u001b[0;34m,\u001b[0m \u001b[0mself\u001b[0m\u001b[0;34m.\u001b[0m\u001b[0mreference_\u001b[0m\u001b[0;34m)\u001b[0m\u001b[0;34m\u001b[0m\u001b[0;34m\u001b[0m\u001b[0m\n",
            "\u001b[0;32m~/.local/lib/python3.8/site-packages/pyriemann/utils/mean.py\u001b[0m in \u001b[0;36mmean_covariance\u001b[0;34m(covmats, metric, sample_weight, *args)\u001b[0m\n\u001b[1;32m    455\u001b[0m         \u001b[0mC\u001b[0m \u001b[0;34m=\u001b[0m \u001b[0mmetric\u001b[0m\u001b[0;34m(\u001b[0m\u001b[0mcovmats\u001b[0m\u001b[0;34m,\u001b[0m \u001b[0msample_weight\u001b[0m\u001b[0;34m=\u001b[0m\u001b[0msample_weight\u001b[0m\u001b[0;34m,\u001b[0m \u001b[0;34m*\u001b[0m\u001b[0margs\u001b[0m\u001b[0;34m)\u001b[0m\u001b[0;34m\u001b[0m\u001b[0;34m\u001b[0m\u001b[0m\n\u001b[1;32m    456\u001b[0m     \u001b[0;32melse\u001b[0m\u001b[0;34m:\u001b[0m\u001b[0;34m\u001b[0m\u001b[0;34m\u001b[0m\u001b[0m\n\u001b[0;32m--> 457\u001b[0;31m         \u001b[0mC\u001b[0m \u001b[0;34m=\u001b[0m \u001b[0mmean_methods\u001b[0m\u001b[0;34m[\u001b[0m\u001b[0mmetric\u001b[0m\u001b[0;34m]\u001b[0m\u001b[0;34m(\u001b[0m\u001b[0mcovmats\u001b[0m\u001b[0;34m,\u001b[0m \u001b[0msample_weight\u001b[0m\u001b[0;34m=\u001b[0m\u001b[0msample_weight\u001b[0m\u001b[0;34m,\u001b[0m \u001b[0;34m*\u001b[0m\u001b[0margs\u001b[0m\u001b[0;34m)\u001b[0m\u001b[0;34m\u001b[0m\u001b[0;34m\u001b[0m\u001b[0m\n\u001b[0m\u001b[1;32m    458\u001b[0m     \u001b[0;32mreturn\u001b[0m \u001b[0mC\u001b[0m\u001b[0;34m\u001b[0m\u001b[0;34m\u001b[0m\u001b[0m\n\u001b[1;32m    459\u001b[0m \u001b[0;34m\u001b[0m\u001b[0m\n",
            "\u001b[0;32m~/.local/lib/python3.8/site-packages/pyriemann/utils/mean.py\u001b[0m in \u001b[0;36mmean_riemann\u001b[0;34m(covmats, tol, maxiter, init, sample_weight)\u001b[0m\n\u001b[1;32m     61\u001b[0m         \u001b[0;32mfor\u001b[0m \u001b[0mindex\u001b[0m \u001b[0;32min\u001b[0m \u001b[0mrange\u001b[0m\u001b[0;34m(\u001b[0m\u001b[0mn_matrices\u001b[0m\u001b[0;34m)\u001b[0m\u001b[0;34m:\u001b[0m\u001b[0;34m\u001b[0m\u001b[0;34m\u001b[0m\u001b[0m\n\u001b[1;32m     62\u001b[0m             \u001b[0mtmp\u001b[0m \u001b[0;34m=\u001b[0m \u001b[0mnp\u001b[0m\u001b[0;34m.\u001b[0m\u001b[0mdot\u001b[0m\u001b[0;34m(\u001b[0m\u001b[0mnp\u001b[0m\u001b[0;34m.\u001b[0m\u001b[0mdot\u001b[0m\u001b[0;34m(\u001b[0m\u001b[0mCm12\u001b[0m\u001b[0;34m,\u001b[0m \u001b[0mcovmats\u001b[0m\u001b[0;34m[\u001b[0m\u001b[0mindex\u001b[0m\u001b[0;34m]\u001b[0m\u001b[0;34m)\u001b[0m\u001b[0;34m,\u001b[0m \u001b[0mCm12\u001b[0m\u001b[0;34m)\u001b[0m\u001b[0;34m\u001b[0m\u001b[0;34m\u001b[0m\u001b[0m\n\u001b[0;32m---> 63\u001b[0;31m             \u001b[0mJ\u001b[0m \u001b[0;34m+=\u001b[0m \u001b[0msample_weight\u001b[0m\u001b[0;34m[\u001b[0m\u001b[0mindex\u001b[0m\u001b[0;34m]\u001b[0m \u001b[0;34m*\u001b[0m \u001b[0mlogm\u001b[0m\u001b[0;34m(\u001b[0m\u001b[0mtmp\u001b[0m\u001b[0;34m)\u001b[0m\u001b[0;34m\u001b[0m\u001b[0;34m\u001b[0m\u001b[0m\n\u001b[0m\u001b[1;32m     64\u001b[0m \u001b[0;34m\u001b[0m\u001b[0m\n\u001b[1;32m     65\u001b[0m         \u001b[0mcrit\u001b[0m \u001b[0;34m=\u001b[0m \u001b[0mnp\u001b[0m\u001b[0;34m.\u001b[0m\u001b[0mlinalg\u001b[0m\u001b[0;34m.\u001b[0m\u001b[0mnorm\u001b[0m\u001b[0;34m(\u001b[0m\u001b[0mJ\u001b[0m\u001b[0;34m,\u001b[0m \u001b[0mord\u001b[0m\u001b[0;34m=\u001b[0m\u001b[0;34m'fro'\u001b[0m\u001b[0;34m)\u001b[0m\u001b[0;34m\u001b[0m\u001b[0;34m\u001b[0m\u001b[0m\n",
            "\u001b[0;32m~/.local/lib/python3.8/site-packages/pyriemann/utils/base.py\u001b[0m in \u001b[0;36mlogm\u001b[0;34m(Ci)\u001b[0m\n\u001b[1;32m     46\u001b[0m \u001b[0;34m\u001b[0m\u001b[0m\n\u001b[1;32m     47\u001b[0m     \"\"\"\n\u001b[0;32m---> 48\u001b[0;31m     \u001b[0;32mreturn\u001b[0m \u001b[0m_matrix_operator\u001b[0m\u001b[0;34m(\u001b[0m\u001b[0mCi\u001b[0m\u001b[0;34m,\u001b[0m \u001b[0mnp\u001b[0m\u001b[0;34m.\u001b[0m\u001b[0mlog\u001b[0m\u001b[0;34m)\u001b[0m\u001b[0;34m\u001b[0m\u001b[0;34m\u001b[0m\u001b[0m\n\u001b[0m\u001b[1;32m     49\u001b[0m \u001b[0;34m\u001b[0m\u001b[0m\n\u001b[1;32m     50\u001b[0m \u001b[0;34m\u001b[0m\u001b[0m\n",
            "\u001b[0;32m~/.local/lib/python3.8/site-packages/pyriemann/utils/base.py\u001b[0m in \u001b[0;36m_matrix_operator\u001b[0;34m(Ci, operator)\u001b[0m\n\u001b[1;32m     12\u001b[0m             \"regularization to avoid this error.\")\n\u001b[1;32m     13\u001b[0m     \u001b[0meigvals\u001b[0m\u001b[0;34m,\u001b[0m \u001b[0meigvects\u001b[0m \u001b[0;34m=\u001b[0m \u001b[0mscipy\u001b[0m\u001b[0;34m.\u001b[0m\u001b[0mlinalg\u001b[0m\u001b[0;34m.\u001b[0m\u001b[0meigh\u001b[0m\u001b[0;34m(\u001b[0m\u001b[0mCi\u001b[0m\u001b[0;34m,\u001b[0m \u001b[0mcheck_finite\u001b[0m\u001b[0;34m=\u001b[0m\u001b[0;32mFalse\u001b[0m\u001b[0;34m)\u001b[0m\u001b[0;34m\u001b[0m\u001b[0;34m\u001b[0m\u001b[0m\n\u001b[0;32m---> 14\u001b[0;31m     \u001b[0meigvals\u001b[0m \u001b[0;34m=\u001b[0m \u001b[0mnp\u001b[0m\u001b[0;34m.\u001b[0m\u001b[0mdiag\u001b[0m\u001b[0;34m(\u001b[0m\u001b[0moperator\u001b[0m\u001b[0;34m(\u001b[0m\u001b[0meigvals\u001b[0m\u001b[0;34m)\u001b[0m\u001b[0;34m)\u001b[0m\u001b[0;34m\u001b[0m\u001b[0;34m\u001b[0m\u001b[0m\n\u001b[0m\u001b[1;32m     15\u001b[0m     \u001b[0mOut\u001b[0m \u001b[0;34m=\u001b[0m \u001b[0mnp\u001b[0m\u001b[0;34m.\u001b[0m\u001b[0mdot\u001b[0m\u001b[0;34m(\u001b[0m\u001b[0mnp\u001b[0m\u001b[0;34m.\u001b[0m\u001b[0mdot\u001b[0m\u001b[0;34m(\u001b[0m\u001b[0meigvects\u001b[0m\u001b[0;34m,\u001b[0m \u001b[0meigvals\u001b[0m\u001b[0;34m)\u001b[0m\u001b[0;34m,\u001b[0m \u001b[0meigvects\u001b[0m\u001b[0;34m.\u001b[0m\u001b[0mT\u001b[0m\u001b[0;34m)\u001b[0m\u001b[0;34m\u001b[0m\u001b[0;34m\u001b[0m\u001b[0m\n\u001b[1;32m     16\u001b[0m     \u001b[0;32mreturn\u001b[0m \u001b[0mOut\u001b[0m\u001b[0;34m\u001b[0m\u001b[0;34m\u001b[0m\u001b[0m\n",
            "\u001b[0;32m~/.local/lib/python3.8/site-packages/numpy/core/overrides.py\u001b[0m in \u001b[0;36mdiag\u001b[0;34m(*args, **kwargs)\u001b[0m\n",
            "\u001b[0;32m~/.local/lib/python3.8/site-packages/numpy/lib/twodim_base.py\u001b[0m in \u001b[0;36mdiag\u001b[0;34m(v, k)\u001b[0m\n\u001b[1;32m    291\u001b[0m     \u001b[0;32mif\u001b[0m \u001b[0mlen\u001b[0m\u001b[0;34m(\u001b[0m\u001b[0ms\u001b[0m\u001b[0;34m)\u001b[0m \u001b[0;34m==\u001b[0m \u001b[0;36m1\u001b[0m\u001b[0;34m:\u001b[0m\u001b[0;34m\u001b[0m\u001b[0;34m\u001b[0m\u001b[0m\n\u001b[1;32m    292\u001b[0m         \u001b[0mn\u001b[0m \u001b[0;34m=\u001b[0m \u001b[0ms\u001b[0m\u001b[0;34m[\u001b[0m\u001b[0;36m0\u001b[0m\u001b[0;34m]\u001b[0m\u001b[0;34m+\u001b[0m\u001b[0mabs\u001b[0m\u001b[0;34m(\u001b[0m\u001b[0mk\u001b[0m\u001b[0;34m)\u001b[0m\u001b[0;34m\u001b[0m\u001b[0;34m\u001b[0m\u001b[0m\n\u001b[0;32m--> 293\u001b[0;31m         \u001b[0mres\u001b[0m \u001b[0;34m=\u001b[0m \u001b[0mzeros\u001b[0m\u001b[0;34m(\u001b[0m\u001b[0;34m(\u001b[0m\u001b[0mn\u001b[0m\u001b[0;34m,\u001b[0m \u001b[0mn\u001b[0m\u001b[0;34m)\u001b[0m\u001b[0;34m,\u001b[0m \u001b[0mv\u001b[0m\u001b[0;34m.\u001b[0m\u001b[0mdtype\u001b[0m\u001b[0;34m)\u001b[0m\u001b[0;34m\u001b[0m\u001b[0;34m\u001b[0m\u001b[0m\n\u001b[0m\u001b[1;32m    294\u001b[0m         \u001b[0;32mif\u001b[0m \u001b[0mk\u001b[0m \u001b[0;34m>=\u001b[0m \u001b[0;36m0\u001b[0m\u001b[0;34m:\u001b[0m\u001b[0;34m\u001b[0m\u001b[0;34m\u001b[0m\u001b[0m\n\u001b[1;32m    295\u001b[0m             \u001b[0mi\u001b[0m \u001b[0;34m=\u001b[0m \u001b[0mk\u001b[0m\u001b[0;34m\u001b[0m\u001b[0;34m\u001b[0m\u001b[0m\n",
            "\u001b[0;31mKeyboardInterrupt\u001b[0m: "
          ]
        }
      ],
      "source": [
        "\n",
        "def print_fct_roc(i_data, k_fold):\n",
        "    l_one_spec, l_senstivity = fct_roc(i_data, k_fold)\n",
        "    n= 100\n",
        "    THRESHOLD = [i/n for i in range(0,n)]\n",
        "    plt.plot(l_one_spec, l_senstivity, label=\"roc\")\n",
        "    plt.plot(THRESHOLD, THRESHOLD, label=\"1ere bissectrice des axes\")\n",
        "    plt.xlabel('1- Specificity')\n",
        "    plt.ylabel('Sensitivity')\n",
        "    plt.title('ROC curve')\n",
        "    # plt.xlim(0, 1)\n",
        "    # plt.ylim(0, 1)\n",
        "    plt.legend()\n",
        "    plt.show()\n",
        "    \n",
        "for i in range(len(DSM)):\n",
        "    print_fct_roc(i, 3)\n"
      ]
    },
    {
      "cell_type": "code",
      "execution_count": 56,
      "metadata": {},
      "outputs": [],
      "source": [
        "def mean(L):\n",
        "    return sum(L)/len(L)\n",
        "\n",
        "def auc_roc(l_one_spec, l_senstivity):\n",
        "    auc = 0\n",
        "    for i in range(len(l_one_spec)-1):\n",
        "        auc += (l_one_spec[i+1]-l_one_spec[i])*(l_senstivity[i+1]+l_senstivity[i])/2\n",
        "    return abs(auc)\n",
        "AUC = []\n",
        "for i_data in range(1):\n",
        "    AUC.append(mean([auc_roc(fct_roc(i_data, k_fold)[0], fct_roc(i_data, k_fold)[1]) for k_fold in range(1)]))"
      ]
    },
    {
      "cell_type": "code",
      "execution_count": 57,
      "metadata": {},
      "outputs": [
        {
          "name": "stdout",
          "output_type": "stream",
          "text": [
            "[0.5607287449392713]\n"
          ]
        }
      ],
      "source": [
        "print(AUC)"
      ]
    },
    {
      "cell_type": "code",
      "execution_count": 58,
      "metadata": {},
      "outputs": [
        {
          "name": "stdout",
          "output_type": "stream",
          "text": [
            "[0.5875, 0.7962382445141066, 0.825]\n",
            "[0.5607287449392713]\n"
          ]
        }
      ],
      "source": [
        "T_ACCURACY = []\n",
        "for elt in ACCURACY:\n",
        "    if elt < 0.5:\n",
        "        T_ACCURACY.append(1-elt)\n",
        "    else:\n",
        "        T_ACCURACY.append(elt)\n",
        "print(T_ACCURACY)\n",
        "print(AUC)"
      ]
    },
    {
      "cell_type": "code",
      "execution_count": 59,
      "metadata": {},
      "outputs": [],
      "source": [
        "import csv\n",
        "\n",
        "with open('results_data.csv', 'w', newline='') as csvfile:\n",
        "    fieldnames = ['count', 'auc_roc_score', 'accuracy', 'subject','dataset', 'pipeline']\n",
        "    writer = csv.DictWriter(csvfile, fieldnames=fieldnames)\n",
        "\n",
        "    writer.writeheader()\n",
        "    for i in range(len(AUC)):\n",
        "        writer.writerow({'count': i, 'auc_roc_score': AUC[i], 'accuracy': T_ACCURACY[i], 'subject': subject_source, 'dataset': datasets[i], 'pipeline': '(9) cov-tgs-lda'})\n",
        "   "
      ]
    }
  ],
  "metadata": {
    "interpreter": {
      "hash": "916dbcbb3f70747c44a77c7bcd40155683ae19c65e1c03b4aa3499c5328201f1"
    },
    "kernelspec": {
      "display_name": "Python 3.8.10 64-bit",
      "language": "python",
      "name": "python3"
    },
    "language_info": {
      "codemirror_mode": {
        "name": "ipython",
        "version": 3
      },
      "file_extension": ".py",
      "mimetype": "text/x-python",
      "name": "python",
      "nbconvert_exporter": "python",
      "pygments_lexer": "ipython3",
      "version": "3.8.10"
    }
  },
  "nbformat": 4,
  "nbformat_minor": 0
}
