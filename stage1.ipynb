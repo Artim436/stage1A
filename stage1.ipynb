{
  "cells": [
    {
      "cell_type": "code",
      "execution_count": 16,
      "metadata": {
        "collapsed": false
      },
      "outputs": [],
      "source": [
        "%matplotlib inline"
      ]
    },
    {
      "cell_type": "code",
      "execution_count": 46,
      "metadata": {
        "collapsed": false
      },
      "outputs": [],
      "source": [
        "import warnings\n",
        "\n",
        "import matplotlib.pyplot as plt\n",
        "import pandas as pd\n",
        "import seaborn as sns\n",
        "from mne.decoding import CSP\n",
        "from sklearn.discriminant_analysis import LinearDiscriminantAnalysis as LDA\n",
        "from sklearn.pipeline import make_pipeline\n",
        "\n",
        "import moabb\n",
        "from moabb.datasets import Weibo2014\n",
        "from moabb.datasets import Zhou2016\n",
        "from moabb.datasets import BNCI2014004\n",
        "from moabb.datasets import BNCI2014002\n",
        "from moabb.datasets import BNCI2015001\n",
        "from moabb.datasets import AlexMI\n",
        "\n",
        "from moabb.evaluations import WithinSessionEvaluation\n",
        "from moabb.evaluations import CrossSessionEvaluation\n",
        "\n",
        "\n",
        "import mne\n",
        "from mne.preprocessing import Xdawn\n",
        "from mne.decoding import CSP\n",
        "\n",
        "\n",
        "from moabb.paradigms import MotorImagery\n",
        "from pyriemann.estimation import Covariances\n",
        "from pyriemann.utils.covariance import covariances\n",
        "from pyriemann.estimation import ERPCovariances\n",
        "from pyriemann.estimation import XdawnCovariances\n",
        "from pyriemann.classification import MDM\n",
        "from pyriemann.classification import KNearestNeighbor\n",
        "from pyriemann.tangentspace import TangentSpace\n",
        "from sklearn.model_selection import KFold\n",
        "from sklearn.model_selection import cross_val_score\n",
        "from sklearn.svm import SVC\n",
        "\n",
        "\n",
        "\n",
        "\n",
        "\n",
        "\n",
        "moabb.set_log_level(\"info\")\n",
        "warnings.filterwarnings(\"ignore\")"
      ]
    },
    {
      "cell_type": "code",
      "execution_count": 29,
      "metadata": {
        "collapsed": false
      },
      "outputs": [
        {
          "name": "stderr",
          "output_type": "stream",
          "text": [
            "2022-05-31 16:37:44,181 WARNING MainThread moabb.paradigms.motor_imagery Choosing from all possible events\n"
          ]
        }
      ],
      "source": [
        "paradigm = MotorImagery()\n",
        "paradigm_name = 'MI'"
      ]
    },
    {
      "cell_type": "code",
      "execution_count": 60,
      "metadata": {},
      "outputs": [],
      "source": [
        "def _sch(X):\n",
        "    \"\"\"Schaefer-Strimmer covariance estimator\n",
        "    Shrinkage estimator using method from [1]_:\n",
        "    .. math::\n",
        "            \\hat{\\Sigma} = (1 - \\gamma)\\Sigma_{scm} + \\gamma T\n",
        "    where :math:`T` is the diagonal target matrix:\n",
        "    .. math::\n",
        "            T_{i,j} = \\{ \\Sigma_{scm}^{ii} \\text{if} i = j, 0 \\text{otherwise} \\}\n",
        "    Note that the optimal :math:`\\gamma` is estimated by the authors' method.\n",
        "    :param X: Multi-channel time-series, (n_channels, n_times)\n",
        "    :returns: Schaefer-Strimmer shrinkage covariance matrix, (n_channels, n_channels)\n",
        "    Notes\n",
        "    -----\n",
        "    .. versionadded:: 0.2.8\n",
        "    References\n",
        "    ----------\n",
        "    .. [1] Schafer, J., and K. Strimmer. 2005. A shrinkage approach to\n",
        "        large-scale covariance estimation and implications for functional\n",
        "        genomics. Statist. Appl. Genet. Mol. Biol. 4:32.\n",
        "    \"\"\"  # noqa\n",
        "    n_times = X.shape[1]\n",
        "    X_c = (X.T - X.T.mean(axis=0)).T\n",
        "    C_scm = 1. / n_times * X_c @ X_c.T\n",
        "\n",
        "    # Compute optimal gamma, the weigthing between SCM and srinkage estimator\n",
        "    R = (n_times / ((n_times - 1.) * np.outer(X.std(axis=1), X.std(axis=1))))\n",
        "    R *= C_scm\n",
        "    var_R = (X_c ** 2) @ (X_c ** 2).T - 2 * C_scm * (X_c @ X_c.T)\n",
        "    var_R += n_times * C_scm ** 2\n",
        "    Xvar = np.outer(X.var(axis=1), X.var(axis=1))\n",
        "    var_R *= n_times / ((n_times - 1) ** 3 * Xvar)\n",
        "    R -= np.diag(np.diag(R))\n",
        "    var_R -= np.diag(np.diag(var_R))\n",
        "    gamma = max(0, min(1, var_R.sum() / (R ** 2).sum()))\n",
        "\n",
        "    sigma = (1. - gamma) * (n_times / (n_times - 1.)) * C_scm\n",
        "    shrinkage = gamma * (n_times / (n_times - 1.)) * np.diag(np.diag(C_scm))\n",
        "    return sigma + shrinkage"
      ]
    },
    {
      "cell_type": "code",
      "execution_count": 107,
      "metadata": {
        "collapsed": false
      },
      "outputs": [],
      "source": [
        "pipelines = {}\n",
        "pipelines[\"(1) epo-mdm-euc\"] = make_pipeline(MDM(metric=\"euclid\"))\n",
        "#pipelines[\"(2) epo-knn-euc\"] = make_pipeline(KNearestNeighbor(), MDM(metric=\"euclid\"))\n",
        "# #default 5 neighbors\n",
        "#pipelines[\"(3) cov-dia-lda\"] = make_pipeline(Covariances(), _sch), LDA())\n",
        "# #sch for schaffer\n",
        "pipelines[\"(4) epo-csp-lda\"] = make_pipeline(CSP(), LDA())\n",
        "#pipelines[\"(5) cov-knn-euc\"] = make_pipeline(Covariances(), KNearestNeighbor(metric=\"euclid\"))\n",
        "# # pipelines[\"(6) cov-knn-rie\"] = make_pipeline(Covariances(), KNearestNeighbor())\n",
        "# # #default riemannian\n",
        "pipelines[\"(7) cov-mdm-euc\"] = make_pipeline(Covariances(), MDM(metric=\"euclid\"))\n",
        "# # pipelines[\"(8) cov-mdm-rie\"] = make_pipeline(Covariances(), MDM())\n",
        "#pipelines[\"(9) cov-tgs-lda\"] = make_pipeline(Covariances(), TangentSpace(), LDA())\n",
        "# # #(default: 'riemann')\n",
        "\n"
      ]
    },
    {
      "cell_type": "markdown",
      "metadata": {},
      "source": []
    },
    {
      "cell_type": "code",
      "execution_count": 108,
      "metadata": {
        "collapsed": false
      },
      "outputs": [
        {
          "name": "stderr",
          "output_type": "stream",
          "text": [
            "2022-05-31 17:13:57,782 WARNING MainThread moabb.evaluations.base <moabb.datasets.Weibo2014.Weibo2014 object at 0x7f6940c483d0> not compatible with evaluation. Removing this dataset from the list.\n",
            "2022-05-31 17:13:57,785 WARNING MainThread moabb.evaluations.base <moabb.datasets.bnci.BNCI2014002 object at 0x7f6940c488e0> not compatible with evaluation. Removing this dataset from the list.\n",
            "2022-05-31 17:13:57,786 WARNING MainThread moabb.evaluations.base <moabb.datasets.alex_mi.AlexMI object at 0x7f6940c48370> not compatible with evaluation. Removing this dataset from the list.\n",
            "2022-05-31 17:13:57,789 INFO MainThread moabb.evaluations.base Processing dataset: Zhou 2016\n",
            "Zhou 2016-CrossSession: 100%|██████████| 4/4 [00:00<00:00, 90.54it/s]\n",
            "2022-05-31 17:13:57,838 INFO MainThread moabb.evaluations.base Processing dataset: 004-2014\n",
            "004-2014-CrossSession:   0%|          | 0/4 [00:00<?, ?it/s]2022-05-31 17:14:00,356 INFO MainThread moabb.evaluations.base (7) cov-mdm-euc | 004-2014 | 1 | session_0: Score 0.806\n",
            "2022-05-31 17:14:00,454 INFO MainThread moabb.evaluations.base (7) cov-mdm-euc | 004-2014 | 1 | session_1: Score 0.640\n",
            "2022-05-31 17:14:00,561 INFO MainThread moabb.evaluations.base (7) cov-mdm-euc | 004-2014 | 1 | session_2: Score 0.829\n",
            "2022-05-31 17:14:00,663 INFO MainThread moabb.evaluations.base (7) cov-mdm-euc | 004-2014 | 1 | session_3: Score 0.767\n",
            "2022-05-31 17:14:00,771 INFO MainThread moabb.evaluations.base (7) cov-mdm-euc | 004-2014 | 1 | session_4: Score 0.632\n",
            "004-2014-CrossSession:  25%|██▌       | 1/4 [00:02<00:08,  2.94s/it]2022-05-31 17:14:03,026 INFO MainThread moabb.evaluations.base (7) cov-mdm-euc | 004-2014 | 2 | session_0: Score 0.669\n",
            "2022-05-31 17:14:03,133 INFO MainThread moabb.evaluations.base (7) cov-mdm-euc | 004-2014 | 2 | session_1: Score 0.633\n",
            "2022-05-31 17:14:03,233 INFO MainThread moabb.evaluations.base (7) cov-mdm-euc | 004-2014 | 2 | session_2: Score 0.523\n",
            "2022-05-31 17:14:03,333 INFO MainThread moabb.evaluations.base (7) cov-mdm-euc | 004-2014 | 2 | session_3: Score 0.611\n",
            "2022-05-31 17:14:03,435 INFO MainThread moabb.evaluations.base (7) cov-mdm-euc | 004-2014 | 2 | session_4: Score 0.595\n",
            "004-2014-CrossSession:  50%|█████     | 2/4 [00:05<00:05,  2.78s/it]2022-05-31 17:14:05,455 INFO MainThread moabb.evaluations.base (7) cov-mdm-euc | 004-2014 | 3 | session_0: Score 0.533\n",
            "2022-05-31 17:14:05,567 INFO MainThread moabb.evaluations.base (7) cov-mdm-euc | 004-2014 | 3 | session_1: Score 0.493\n",
            "2022-05-31 17:14:05,670 INFO MainThread moabb.evaluations.base (7) cov-mdm-euc | 004-2014 | 3 | session_2: Score 0.516\n",
            "2022-05-31 17:14:05,780 INFO MainThread moabb.evaluations.base (7) cov-mdm-euc | 004-2014 | 3 | session_3: Score 0.486\n",
            "2022-05-31 17:14:05,885 INFO MainThread moabb.evaluations.base (7) cov-mdm-euc | 004-2014 | 3 | session_4: Score 0.629\n",
            "004-2014-CrossSession:  75%|███████▌  | 3/4 [00:08<00:02,  2.63s/it]2022-05-31 17:14:08,175 INFO MainThread moabb.evaluations.base (7) cov-mdm-euc | 004-2014 | 4 | session_0: Score 0.840\n",
            "2022-05-31 17:14:08,286 INFO MainThread moabb.evaluations.base (7) cov-mdm-euc | 004-2014 | 4 | session_1: Score 0.905\n",
            "2022-05-31 17:14:08,398 INFO MainThread moabb.evaluations.base (7) cov-mdm-euc | 004-2014 | 4 | session_2: Score 0.984\n",
            "2022-05-31 17:14:08,511 INFO MainThread moabb.evaluations.base (7) cov-mdm-euc | 004-2014 | 4 | session_3: Score 0.988\n",
            "2022-05-31 17:14:08,618 INFO MainThread moabb.evaluations.base (7) cov-mdm-euc | 004-2014 | 4 | session_4: Score 0.971\n",
            "004-2014-CrossSession: 100%|██████████| 4/4 [00:10<00:00,  2.70s/it]\n",
            "2022-05-31 17:14:08,631 INFO MainThread moabb.evaluations.base Processing dataset: 001-2015\n",
            "001-2015-CrossSession:   0%|          | 0/4 [00:00<?, ?it/s]2022-05-31 17:14:13,902 INFO MainThread moabb.evaluations.base (7) cov-mdm-euc | 001-2015 | 1 | session_A: Score 0.495\n",
            "2022-05-31 17:14:14,103 INFO MainThread moabb.evaluations.base (7) cov-mdm-euc | 001-2015 | 1 | session_B: Score 0.495\n",
            "001-2015-CrossSession:  25%|██▌       | 1/4 [00:05<00:16,  5.48s/it]2022-05-31 17:14:19,641 INFO MainThread moabb.evaluations.base (7) cov-mdm-euc | 001-2015 | 2 | session_A: Score 0.500\n",
            "2022-05-31 17:14:19,836 INFO MainThread moabb.evaluations.base (7) cov-mdm-euc | 001-2015 | 2 | session_B: Score 0.698\n",
            "001-2015-CrossSession:  50%|█████     | 2/4 [00:11<00:11,  5.63s/it]2022-05-31 17:14:23,859 INFO MainThread moabb.evaluations.base (7) cov-mdm-euc | 001-2015 | 3 | session_A: Score 0.597\n",
            "2022-05-31 17:14:24,070 INFO MainThread moabb.evaluations.base (7) cov-mdm-euc | 001-2015 | 3 | session_B: Score 0.833\n",
            "001-2015-CrossSession:  75%|███████▌  | 3/4 [00:15<00:04,  4.99s/it]2022-05-31 17:14:28,891 INFO MainThread moabb.evaluations.base (7) cov-mdm-euc | 001-2015 | 4 | session_A: Score 0.594\n",
            "2022-05-31 17:14:29,145 INFO MainThread moabb.evaluations.base (7) cov-mdm-euc | 001-2015 | 4 | session_B: Score 0.718\n",
            "001-2015-CrossSession: 100%|██████████| 4/4 [00:20<00:00,  5.13s/it]\n"
          ]
        }
      ],
      "source": [
        "datasets = [Weibo2014(), Zhou2016(), BNCI2014004(), BNCI2014002(), BNCI2015001(),AlexMI()]\n",
        "subj = [1, 2, 3 ,4]\n",
        "for d in datasets:\n",
        "    d.subject_list = subj\n",
        "paradigm = paradigm\n",
        "evaluation = CrossSessionEvaluation(\n",
        "    paradigm=paradigm, datasets=datasets, suffix=\"examples\", overwrite=False\n",
        ")\n",
        "results = evaluation.process(pipelines)"
      ]
    },
    {
      "cell_type": "code",
      "execution_count": 109,
      "metadata": {
        "collapsed": false
      },
      "outputs": [],
      "source": [
        "results.to_csv(\"./results_part2-1.csv\")"
      ]
    },
    {
      "cell_type": "code",
      "execution_count": 110,
      "metadata": {
        "collapsed": false
      },
      "outputs": [],
      "source": [
        "results = pd.read_csv(\"./results_part2-1.csv\")"
      ]
    },
    {
      "cell_type": "code",
      "execution_count": 116,
      "metadata": {
        "collapsed": false
      },
      "outputs": [
        {
          "data": {
            "image/png": "[encoded data removed]",
            "text/plain": [
              "<Figure size 720x504 with 1 Axes>"
            ]
          },
          "metadata": {},
          "output_type": "display_data"
        }
      ],
      "source": [
        "fig, ax = plt.subplots(figsize=(10, 7))\n",
        "results[\"dataset\"] = results[\"dataset\"].apply(str)\n",
        "sns.barplot(\n",
        "    x=\"score\", y=\"dataset\", hue=\"pipeline\", data=results, orient=\"h\", palette=\"viridis\", ax=ax\n",
        ")\n",
        "fig.show()"
      ]
    }
  ],
  "metadata": {
    "kernelspec": {
      "display_name": "Python 3",
      "language": "python",
      "name": "python3"
    },
    "language_info": {
      "codemirror_mode": {
        "name": "ipython",
        "version": 3
      },
      "file_extension": ".py",
      "mimetype": "text/x-python",
      "name": "python",
      "nbconvert_exporter": "python",
      "pygments_lexer": "ipython3",
      "version": "3.8.10"
    }
  },
  "nbformat": 4,
  "nbformat_minor": 0
}
